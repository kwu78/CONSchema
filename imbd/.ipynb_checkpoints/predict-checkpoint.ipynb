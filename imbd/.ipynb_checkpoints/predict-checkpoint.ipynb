{
 "cells": [
  {
   "cell_type": "code",
   "execution_count": 33,
   "id": "0ace1ca2",
   "metadata": {},
   "outputs": [],
   "source": [
    "import pandas as pd\n",
    "from sklearn.model_selection import GridSearchCV\n",
    "from sklearn.ensemble import RandomForestClassifier\n",
    "import pickle\n",
    "from joblib import dump,load\n",
    "from sklearn.metrics import classification_report,f1_score,recall_score,precision_score\n",
    "import shap\n",
    "from matplotlib import pyplot\n"
   ]
  },
  {
   "cell_type": "code",
   "execution_count": 34,
   "id": "5a5499ce",
   "metadata": {},
   "outputs": [],
   "source": [
    "seen='./seen_split/'\n",
    "unseen='./unseen_split/movie_kevin_emb'"
   ]
  },
  {
   "cell_type": "code",
   "execution_count": 35,
   "id": "fdb42285",
   "metadata": {},
   "outputs": [
    {
     "name": "stderr",
     "output_type": "stream",
     "text": [
      "The frame.append method is deprecated and will be removed from pandas in a future version. Use pandas.concat instead.\n",
      "The series.append method is deprecated and will be removed from pandas in a future version. Use pandas.concat instead.\n"
     ]
    },
    {
     "name": "stdout",
     "output_type": "stream",
     "text": [
      "       size_x  size_y  boolean_x  float_x  integer_x  string_x  boolean_y  \\\n",
      "0        10.0      15          0        0          1         0          0   \n",
      "1    500000.0      15          0        0          1         0          0   \n",
      "2        30.0      15          0        0          0         1          0   \n",
      "3        60.0      15          0        0          0         1          0   \n",
      "4         2.0      15          1        0          0         0          0   \n",
      "..        ...     ...        ...      ...        ...       ...        ...   \n",
      "127      20.0     140          0        0          0         1          0   \n",
      "128      70.0     310          0        0          0         1          0   \n",
      "129       5.0      11          0        0          1         0          0   \n",
      "130      10.0       1          0        0          1         0          0   \n",
      "131      30.0      50          0        0          0         1          0   \n",
      "\n",
      "     float_y  integer_y  string_y  outputscore  \n",
      "0          0          0         1     0.025136  \n",
      "1          0          0         1     0.000886  \n",
      "2          0          0         1     0.001588  \n",
      "3          0          0         1     0.006587  \n",
      "4          0          0         1     0.000049  \n",
      "..       ...        ...       ...          ...  \n",
      "127        1          0         0     0.000086  \n",
      "128        1          0         0     0.000477  \n",
      "129        0          0         1     0.006859  \n",
      "130        0          1         0     0.001342  \n",
      "131        0          0         1     0.001625  \n",
      "\n",
      "[1190 rows x 11 columns]\n"
     ]
    }
   ],
   "source": [
    "for i in range(1):\n",
    "    X=pd.read_csv(seen+str(i)+'train_encode.csv')\n",
    "    X=X.loc[:,~X.columns.str.match(\"Unnamed\")]\n",
    "    val=pd.read_csv(seen+str(i)+'val_encode.csv').reindex(columns=X.columns)\n",
    "    val=val.fillna(0)\n",
    "    X=X.append(val)\n",
    "    print(X)\n",
    "    vlabel=pd.read_csv(seen+str(i)+'val_label.csv')['label']\n",
    "    y=pd.read_csv(seen+str(i)+'train_label.csv')['label']\n",
    "    y=y.append(vlabel)\n",
    "    testlabel=pd.read_csv(seen+str(i)+'test_label.csv')['label']\n",
    "    test=pd.read_csv(seen+str(i)+'test_encode.csv').reindex(columns=X.columns)\n",
    "    clf = RandomForestClassifier()\n",
    "    n_estimators=[1,5,10,20,30,50,70,100,150,200]\n",
    "    ones=[1,5,10,20,30,35,40,50,100,200,300,400,500]\n",
    "    minSampleLeaf=[1,3,5,10,30,50,80,100,200,250]\n",
    "    iterations=[5000]\n",
    "    parameter={'min_samples_leaf':minSampleLeaf,'n_estimators':n_estimators,'class_weight':[{1:classOne} for classOne in ones ]}\n",
    "    clfG=GridSearchCV(clf,parameter,scoring=\"f1\",cv=5)\n",
    "    clfG.fit(X,y)\n",
    "    with open(seen+'/real_estate_model/'+str(i)+'model_pkl', 'wb') as files:\n",
    "        pickle.dump(clfG, files)"
   ]
  },
  {
   "cell_type": "code",
   "execution_count": 36,
   "id": "09ac0c51",
   "metadata": {},
   "outputs": [
    {
     "name": "stdout",
     "output_type": "stream",
     "text": [
      "7\n",
      "7\n",
      "the f1 score is 0.5714285714285714\n",
      "the precision score is 0.5714285714285714\n",
      "the recall score is  0.5714285714285714\n",
      "{'class_weight': {1: 40}, 'min_samples_leaf': 3, 'n_estimators': 30}\n",
      "0.5439730639730639\n"
     ]
    }
   ],
   "source": [
    "allf1=0\n",
    "allrecall=0\n",
    "allprecision=0\n",
    "for i in range(1):    \n",
    "    with open(seen+'/real_estate_model/'+str(i)+'model_pkl' , 'rb') as f:\n",
    "        X=pd.read_csv(seen+str(i)+'train_encode.csv')\n",
    "        X=X.loc[:,~X.columns.str.match(\"Unnamed\")]\n",
    "        testlabel=pd.read_csv(seen+str(i)+'test_label.csv')['label']\n",
    "        test=pd.read_csv(seen+str(i)+'test_encode.csv').reindex(columns=X.columns)\n",
    "        clfG = pickle.load(f)\n",
    "        pre=clfG.predict(test)\n",
    "        print(sum(pre))\n",
    "        print(sum(testlabel))\n",
    "        print('the f1 score is',f1_score(testlabel,pre))\n",
    "        print('the precision score is',precision_score(testlabel,pre))\n",
    "        print('the recall score is ',recall_score(testlabel,pre))\n",
    "        allf1+=f1_score(testlabel,pre)\n",
    "        allrecall+=recall_score(testlabel,pre)\n",
    "        allprecision+=precision_score(testlabel,pre)\n",
    "        print(clfG.best_params_)\n",
    "        print(clfG.best_score_)\n",
    "# print('the average f1 of IMDB is',allf1/5)\n",
    "# print('the average recall score',allrecall/5)\n",
    "# print('the average precision score',allprecision/5)"
   ]
  },
  {
   "cell_type": "code",
   "execution_count": null,
   "id": "9f14d58e",
   "metadata": {},
   "outputs": [],
   "source": []
  },
  {
   "cell_type": "code",
   "execution_count": 37,
   "id": "06adea8a",
   "metadata": {},
   "outputs": [],
   "source": [
    "##unseen partition"
   ]
  },
  {
   "cell_type": "code",
   "execution_count": 38,
   "id": "d9cea090",
   "metadata": {},
   "outputs": [
    {
     "name": "stdout",
     "output_type": "stream",
     "text": [
      "    size_x  size_y  boolean_x  float_x  integer_x  string_x  boolean_y  \\\n",
      "0     60.0      15          0      0.0        0.0         1          0   \n",
      "1     60.0      15          0      0.0        0.0         1          0   \n",
      "2      2.0      15          1      0.0        0.0         0          0   \n",
      "3      2.0      15          1      0.0        0.0         0          0   \n",
      "4      2.0      15          1      0.0        0.0         0          0   \n",
      "..     ...     ...        ...      ...        ...       ...        ...   \n",
      "93     2.0      60          1      0.0        0.0         0          0   \n",
      "94    15.0      30          0      0.0        0.0         1          0   \n",
      "95     2.0      30          1      0.0        0.0         0          0   \n",
      "96    15.0       7          0      0.0        0.0         1          0   \n",
      "97     2.0       7          1      0.0        0.0         0          0   \n",
      "\n",
      "    float_y  integer_y  string_y  outputscore  \n",
      "0         0          0         1     0.032182  \n",
      "1         0          0         1     0.018810  \n",
      "2         0          0         1     0.017103  \n",
      "3         0          0         1     0.032285  \n",
      "4         0          0         1     0.000013  \n",
      "..      ...        ...       ...          ...  \n",
      "93        0          0         1     0.000054  \n",
      "94        0          0         1     0.000053  \n",
      "95        0          0         1     0.000063  \n",
      "96        0          0         1     0.000079  \n",
      "97        0          0         1     0.000629  \n",
      "\n",
      "[1225 rows x 11 columns]\n"
     ]
    },
    {
     "name": "stderr",
     "output_type": "stream",
     "text": [
      "The frame.append method is deprecated and will be removed from pandas in a future version. Use pandas.concat instead.\n",
      "The series.append method is deprecated and will be removed from pandas in a future version. Use pandas.concat instead.\n"
     ]
    }
   ],
   "source": [
    "\n",
    "for i in range(1):\n",
    "    X=pd.read_csv(unseen+str(i)+'train_encode.csv')\n",
    "    X=X.loc[:,~X.columns.str.match(\"Unnamed\")]\n",
    "    val=pd.read_csv(unseen+str(i)+'val_encode.csv').reindex(columns=X.columns)\n",
    "    val=val.fillna(0)\n",
    "    X=X.append(val)\n",
    "    print(X)\n",
    "    vlabel=pd.read_csv(unseen+str(i)+'val_label.csv')['label']\n",
    "    y=pd.read_csv(unseen+str(i)+'train_label.csv')['label']\n",
    "    y=y.append(vlabel)\n",
    "    testlabel=pd.read_csv(unseen+str(i)+'test_label.csv')['label']\n",
    "    test=pd.read_csv(unseen+str(i)+'test_encode.csv').reindex(columns=X.columns)\n",
    "    clf = RandomForestClassifier()\n",
    "    n_estimators=[10,20,30,50,70,100]\n",
    "    ones=[1,5,10,20,30,35,40,50,100,200,300,400,500]\n",
    "    minSampleLeaf=[10,30,50,80,100,200,250]\n",
    "    iterations=[5000]\n",
    "    parameter={'min_samples_leaf':minSampleLeaf,'n_estimators':n_estimators,'class_weight':[{1:classOne} for classOne in ones ]}\n",
    "    clfG=GridSearchCV(clf,parameter,scoring=\"f1\",cv=5)\n",
    "    clfG.fit(X,y)\n",
    "    with open(unseen+'real_estate_model/'+str(i)+'model_pkl', 'wb') as files:\n",
    "        pickle.dump(clfG, files)"
   ]
  },
  {
   "cell_type": "code",
   "execution_count": 39,
   "id": "f116803a",
   "metadata": {},
   "outputs": [
    {
     "name": "stdout",
     "output_type": "stream",
     "text": [
      "    size_x  size_y  boolean_x  float_x  integer_x  string_x  boolean_y  \\\n",
      "0     30.0      15          0      0.0        0.0         1          0   \n",
      "1     30.0      15          0      0.0        0.0         1          0   \n",
      "2      2.0      15          1      0.0        0.0         0          0   \n",
      "3      2.0      15          1      0.0        0.0         0          0   \n",
      "4     30.0     100          0      0.0        0.0         1          0   \n",
      "..     ...     ...        ...      ...        ...       ...        ...   \n",
      "93     2.0      60          1      0.0        0.0         0          0   \n",
      "94    30.0      30          0      0.0        0.0         1          0   \n",
      "95     2.0      30          1      0.0        0.0         0          0   \n",
      "96    30.0       7          0      0.0        0.0         1          0   \n",
      "97     2.0       7          1      0.0        0.0         0          0   \n",
      "\n",
      "    float_y  integer_y  string_y  outputscore  \n",
      "0         0          0         1     0.030853  \n",
      "1         0          0         1     0.015138  \n",
      "2         0          0         1     0.013553  \n",
      "3         0          0         1     0.027167  \n",
      "4         0          1         0     0.000010  \n",
      "..      ...        ...       ...          ...  \n",
      "93        0          0         1     0.000158  \n",
      "94        0          0         1     0.000149  \n",
      "95        0          0         1     0.000171  \n",
      "96        0          0         1     0.000279  \n",
      "97        0          0         1     0.000279  \n",
      "\n",
      "[98 rows x 11 columns]\n",
      "3\n",
      "6\n",
      "the f1 score is 0.2222222222222222\n",
      "the precision score is 0.3333333333333333\n",
      "the recall score is  0.16666666666666666\n",
      "{'class_weight': {1: 20}, 'min_samples_leaf': 10, 'n_estimators': 70}\n",
      "0.30526763559021625\n"
     ]
    }
   ],
   "source": [
    "allf1=0\n",
    "allrecall=0\n",
    "allprecision=0\n",
    "for i in range(1):    \n",
    "    with open(unseen+'/real_estate_model/'+str(i)+'model_pkl' , 'rb') as f:\n",
    "        X=pd.read_csv(unseen+str(i)+'train_encode.csv')\n",
    "        X=X.loc[:,~X.columns.str.match(\"Unnamed\")]\n",
    "        testlabel=pd.read_csv(unseen+str(i)+'test_label.csv')['label']\n",
    "        test=pd.read_csv(unseen+str(i)+'test_encode.csv').reindex(columns=X.columns)\n",
    "        test=test.fillna(0)\n",
    "        print(test)\n",
    "        clfG = pickle.load(f)\n",
    "        pre=clfG.predict(test)\n",
    "        print(sum(pre))\n",
    "        print(sum(testlabel))\n",
    "        print('the f1 score is',f1_score(testlabel,pre))\n",
    "        print('the precision score is',precision_score(testlabel,pre))\n",
    "        print('the recall score is ',recall_score(testlabel,pre))\n",
    "        allf1+=f1_score(testlabel,pre)\n",
    "        allrecall+=recall_score(testlabel,pre)\n",
    "        allprecision+=precision_score(testlabel,pre)\n",
    "        print(clfG.best_params_)\n",
    "        print(clfG.best_score_)\n",
    "# print('the average f1 of IMDB is',allf1/5)\n",
    "# print('the average recall score',allrecall/5)\n",
    "# print('the average precision score',allprecision/5)"
   ]
  },
  {
   "cell_type": "code",
   "execution_count": null,
   "id": "bd5eb089",
   "metadata": {},
   "outputs": [],
   "source": []
  },
  {
   "cell_type": "code",
   "execution_count": null,
   "id": "f2b939ec",
   "metadata": {},
   "outputs": [],
   "source": []
  },
  {
   "cell_type": "code",
   "execution_count": 41,
   "id": "9bc424c3",
   "metadata": {},
   "outputs": [
    {
     "name": "stderr",
     "output_type": "stream",
     "text": [
      "The frame.append method is deprecated and will be removed from pandas in a future version. Use pandas.concat instead.\n",
      "The series.append method is deprecated and will be removed from pandas in a future version. Use pandas.concat instead.\n"
     ]
    },
    {
     "name": "stdout",
     "output_type": "stream",
     "text": [
      "    outputscore\n",
      "0      0.032182\n",
      "1      0.018810\n",
      "2      0.017103\n",
      "3      0.032285\n",
      "4      0.000013\n",
      "..          ...\n",
      "93     0.000054\n",
      "94     0.000053\n",
      "95     0.000063\n",
      "96     0.000079\n",
      "97     0.000629\n",
      "\n",
      "[1225 rows x 1 columns]\n"
     ]
    }
   ],
   "source": [
    "\n",
    "for i in range(1):\n",
    "    X=pd.read_csv(unseen+str(i)+'train_encode.csv').reindex(columns=['outputscore'])\n",
    "    X=X.loc[:,~X.columns.str.match(\"Unnamed\")]\n",
    "    val=pd.read_csv(unseen+str(i)+'val_encode.csv').reindex(columns=X.columns)\n",
    "    val=val.fillna(0)\n",
    "    X=X.append(val)\n",
    "    print(X)\n",
    "    vlabel=pd.read_csv(unseen+str(i)+'val_label.csv')['label']\n",
    "    y=pd.read_csv(unseen+str(i)+'train_label.csv')['label']\n",
    "    y=y.append(vlabel)\n",
    "    testlabel=pd.read_csv(unseen+str(i)+'test_label.csv')['label']\n",
    "    test=pd.read_csv(unseen+str(i)+'test_encode.csv').reindex(columns=X.columns)\n",
    "    clf = RandomForestClassifier()\n",
    "    n_estimators=[5,10,20,30,50,70,100,150,200]\n",
    "    ones=[1,5,10,20,30,35,40,50,100,200,300,400,500]\n",
    "    minSampleLeaf=[10,30,50,80,100,200,250]\n",
    "    iterations=[5000]\n",
    "    parameter={'min_samples_leaf':minSampleLeaf,'n_estimators':n_estimators,'class_weight':[{1:classOne} for classOne in ones ]}\n",
    "    clfG=GridSearchCV(clf,parameter,scoring=\"f1\",cv=5)\n",
    "    clfG.fit(X,y)\n",
    "    with open(unseen+'real_estate_model/'+str(i)+'output_model_pkl', 'wb') as files:\n",
    "        pickle.dump(clfG, files)"
   ]
  },
  {
   "cell_type": "code",
   "execution_count": 42,
   "id": "9d496595",
   "metadata": {
    "scrolled": true
   },
   "outputs": [
    {
     "name": "stdout",
     "output_type": "stream",
     "text": [
      "20\n",
      "6\n",
      "the f1 score is 0.15384615384615383\n",
      "the precision score is 0.1\n",
      "the recall score is  0.3333333333333333\n",
      "{'class_weight': {1: 20}, 'min_samples_leaf': 50, 'n_estimators': 30}\n",
      "0.11876328758676129\n"
     ]
    }
   ],
   "source": [
    "allf1=0\n",
    "allrecall=0\n",
    "allprecision=0\n",
    "for i in range(1):    \n",
    "    with open(unseen+'real_estate_model/'+str(i)+'output_model_pkl' , 'rb') as f:\n",
    "        X=pd.read_csv(unseen+str(i)+'train_encode.csv').reindex(columns=['outputscore'])\n",
    "        X=X.loc[:,~X.columns.str.match(\"Unnamed\")]\n",
    "        testlabel=pd.read_csv(unseen+str(i)+'test_label.csv')['label']\n",
    "        test=pd.read_csv(unseen+str(i)+'test_encode.csv').reindex(columns=X.columns)\n",
    "        test=test.fillna(0)\n",
    "        clfG = pickle.load(f)\n",
    "        pre=clfG.predict(test)\n",
    "        print(sum(pre))\n",
    "        print(sum(testlabel))\n",
    "        print('the f1 score is',f1_score(testlabel,pre))\n",
    "        print('the precision score is',precision_score(testlabel,pre))\n",
    "        print('the recall score is ',recall_score(testlabel,pre))\n",
    "        allf1+=f1_score(testlabel,pre)\n",
    "        allrecall+=recall_score(testlabel,pre)\n",
    "        allprecision+=precision_score(testlabel,pre)\n",
    "        print(clfG.best_params_)\n",
    "        print(clfG.best_score_)\n",
    "# print('the average f1 of IMDB is',allf1/5)\n",
    "# print('the average recall score',allrecall/5)\n",
    "# print('the average precision score',allprecision/5)"
   ]
  },
  {
   "cell_type": "code",
   "execution_count": null,
   "id": "178bc360",
   "metadata": {},
   "outputs": [],
   "source": []
  },
  {
   "cell_type": "code",
   "execution_count": null,
   "id": "72f79326",
   "metadata": {},
   "outputs": [],
   "source": []
  },
  {
   "cell_type": "code",
   "execution_count": 51,
   "id": "0b18e99e",
   "metadata": {},
   "outputs": [
    {
     "name": "stderr",
     "output_type": "stream",
     "text": [
      "The frame.append method is deprecated and will be removed from pandas in a future version. Use pandas.concat instead.\n",
      "The series.append method is deprecated and will be removed from pandas in a future version. Use pandas.concat instead.\n"
     ]
    },
    {
     "name": "stdout",
     "output_type": "stream",
     "text": [
      "    size_x  size_y  boolean_x  float_x  integer_x  string_x  boolean_y  \\\n",
      "0     60.0      15          0      0.0        0.0         1          0   \n",
      "1     60.0      15          0      0.0        0.0         1          0   \n",
      "2      2.0      15          1      0.0        0.0         0          0   \n",
      "3      2.0      15          1      0.0        0.0         0          0   \n",
      "4      2.0      15          1      0.0        0.0         0          0   \n",
      "..     ...     ...        ...      ...        ...       ...        ...   \n",
      "93     2.0      60          1      0.0        0.0         0          0   \n",
      "94    15.0      30          0      0.0        0.0         1          0   \n",
      "95     2.0      30          1      0.0        0.0         0          0   \n",
      "96    15.0       7          0      0.0        0.0         1          0   \n",
      "97     2.0       7          1      0.0        0.0         0          0   \n",
      "\n",
      "    float_y  integer_y  string_y  \n",
      "0         0          0         1  \n",
      "1         0          0         1  \n",
      "2         0          0         1  \n",
      "3         0          0         1  \n",
      "4         0          0         1  \n",
      "..      ...        ...       ...  \n",
      "93        0          0         1  \n",
      "94        0          0         1  \n",
      "95        0          0         1  \n",
      "96        0          0         1  \n",
      "97        0          0         1  \n",
      "\n",
      "[1225 rows x 10 columns]\n"
     ]
    },
    {
     "name": "stderr",
     "output_type": "stream",
     "text": [
      "The frame.append method is deprecated and will be removed from pandas in a future version. Use pandas.concat instead.\n",
      "The series.append method is deprecated and will be removed from pandas in a future version. Use pandas.concat instead.\n"
     ]
    },
    {
     "name": "stdout",
     "output_type": "stream",
     "text": [
      "    size_x  size_y  boolean_x  float_x  integer_x  string_x  boolean_y  \\\n",
      "0     60.0      15          0      0.0        0.0         1          0   \n",
      "1     60.0      15          0      0.0        0.0         1          0   \n",
      "2      2.0      15          1      0.0        0.0         0          0   \n",
      "3      2.0      15          1      0.0        0.0         0          0   \n",
      "4      2.0      15          1      0.0        0.0         0          0   \n",
      "..     ...     ...        ...      ...        ...       ...        ...   \n",
      "93     2.0      60          1      0.0        0.0         0          0   \n",
      "94    15.0      30          0      0.0        0.0         1          0   \n",
      "95     2.0      30          1      0.0        0.0         0          0   \n",
      "96    15.0       7          0      0.0        0.0         1          0   \n",
      "97     2.0       7          1      0.0        0.0         0          0   \n",
      "\n",
      "    float_y  integer_y  string_y  \n",
      "0         0          0         1  \n",
      "1         0          0         1  \n",
      "2         0          0         1  \n",
      "3         0          0         1  \n",
      "4         0          0         1  \n",
      "..      ...        ...       ...  \n",
      "93        0          0         1  \n",
      "94        0          0         1  \n",
      "95        0          0         1  \n",
      "96        0          0         1  \n",
      "97        0          0         1  \n",
      "\n",
      "[1225 rows x 10 columns]\n"
     ]
    },
    {
     "name": "stderr",
     "output_type": "stream",
     "text": [
      "The frame.append method is deprecated and will be removed from pandas in a future version. Use pandas.concat instead.\n",
      "The series.append method is deprecated and will be removed from pandas in a future version. Use pandas.concat instead.\n"
     ]
    },
    {
     "name": "stdout",
     "output_type": "stream",
     "text": [
      "    size_x  size_y  boolean_x  float_x  integer_x  string_x  boolean_y  \\\n",
      "0     60.0      15          0      0.0        0.0         1          0   \n",
      "1     60.0      15          0      0.0        0.0         1          0   \n",
      "2      2.0      15          1      0.0        0.0         0          0   \n",
      "3      2.0      15          1      0.0        0.0         0          0   \n",
      "4      2.0      15          1      0.0        0.0         0          0   \n",
      "..     ...     ...        ...      ...        ...       ...        ...   \n",
      "93     2.0      60          1      0.0        0.0         0          0   \n",
      "94    15.0      30          0      0.0        0.0         1          0   \n",
      "95     2.0      30          1      0.0        0.0         0          0   \n",
      "96    15.0       7          0      0.0        0.0         1          0   \n",
      "97     2.0       7          1      0.0        0.0         0          0   \n",
      "\n",
      "    float_y  integer_y  string_y  \n",
      "0         0          0         1  \n",
      "1         0          0         1  \n",
      "2         0          0         1  \n",
      "3         0          0         1  \n",
      "4         0          0         1  \n",
      "..      ...        ...       ...  \n",
      "93        0          0         1  \n",
      "94        0          0         1  \n",
      "95        0          0         1  \n",
      "96        0          0         1  \n",
      "97        0          0         1  \n",
      "\n",
      "[1225 rows x 10 columns]\n"
     ]
    },
    {
     "name": "stderr",
     "output_type": "stream",
     "text": [
      "The frame.append method is deprecated and will be removed from pandas in a future version. Use pandas.concat instead.\n",
      "The series.append method is deprecated and will be removed from pandas in a future version. Use pandas.concat instead.\n"
     ]
    },
    {
     "name": "stdout",
     "output_type": "stream",
     "text": [
      "    size_x  size_y  boolean_x  float_x  integer_x  string_x  boolean_y  \\\n",
      "0     60.0      15          0      0.0        0.0         1          0   \n",
      "1     60.0      15          0      0.0        0.0         1          0   \n",
      "2      2.0      15          1      0.0        0.0         0          0   \n",
      "3      2.0      15          1      0.0        0.0         0          0   \n",
      "4      2.0      15          1      0.0        0.0         0          0   \n",
      "..     ...     ...        ...      ...        ...       ...        ...   \n",
      "93     2.0      60          1      0.0        0.0         0          0   \n",
      "94    15.0      30          0      0.0        0.0         1          0   \n",
      "95     2.0      30          1      0.0        0.0         0          0   \n",
      "96    15.0       7          0      0.0        0.0         1          0   \n",
      "97     2.0       7          1      0.0        0.0         0          0   \n",
      "\n",
      "    float_y  integer_y  string_y  \n",
      "0         0          0         1  \n",
      "1         0          0         1  \n",
      "2         0          0         1  \n",
      "3         0          0         1  \n",
      "4         0          0         1  \n",
      "..      ...        ...       ...  \n",
      "93        0          0         1  \n",
      "94        0          0         1  \n",
      "95        0          0         1  \n",
      "96        0          0         1  \n",
      "97        0          0         1  \n",
      "\n",
      "[1225 rows x 10 columns]\n"
     ]
    },
    {
     "name": "stderr",
     "output_type": "stream",
     "text": [
      "The frame.append method is deprecated and will be removed from pandas in a future version. Use pandas.concat instead.\n",
      "The series.append method is deprecated and will be removed from pandas in a future version. Use pandas.concat instead.\n"
     ]
    },
    {
     "name": "stdout",
     "output_type": "stream",
     "text": [
      "    size_x  size_y  boolean_x  float_x  integer_x  string_x  boolean_y  \\\n",
      "0     60.0      15          0      0.0        0.0         1          0   \n",
      "1     60.0      15          0      0.0        0.0         1          0   \n",
      "2      2.0      15          1      0.0        0.0         0          0   \n",
      "3      2.0      15          1      0.0        0.0         0          0   \n",
      "4      2.0      15          1      0.0        0.0         0          0   \n",
      "..     ...     ...        ...      ...        ...       ...        ...   \n",
      "93     2.0      60          1      0.0        0.0         0          0   \n",
      "94    15.0      30          0      0.0        0.0         1          0   \n",
      "95     2.0      30          1      0.0        0.0         0          0   \n",
      "96    15.0       7          0      0.0        0.0         1          0   \n",
      "97     2.0       7          1      0.0        0.0         0          0   \n",
      "\n",
      "    float_y  integer_y  string_y  \n",
      "0         0          0         1  \n",
      "1         0          0         1  \n",
      "2         0          0         1  \n",
      "3         0          0         1  \n",
      "4         0          0         1  \n",
      "..      ...        ...       ...  \n",
      "93        0          0         1  \n",
      "94        0          0         1  \n",
      "95        0          0         1  \n",
      "96        0          0         1  \n",
      "97        0          0         1  \n",
      "\n",
      "[1225 rows x 10 columns]\n"
     ]
    }
   ],
   "source": [
    "\n",
    "for i in range(5):\n",
    "    X=pd.read_csv(unseen+str(i)+'train_encode.csv').drop(columns=['outputscore'])\n",
    "    X=X.loc[:,~X.columns.str.match(\"Unnamed\")]\n",
    "    val=pd.read_csv(unseen+str(i)+'val_encode.csv').reindex(columns=X.columns)\n",
    "    val=val.fillna(0)\n",
    "    X=X.append(val)\n",
    "    print(X)\n",
    "    vlabel=pd.read_csv(unseen+str(i)+'val_label.csv')['label']\n",
    "    y=pd.read_csv(unseen+str(i)+'train_label.csv')['label']\n",
    "    y=y.append(vlabel)\n",
    "    testlabel=pd.read_csv(unseen+str(i)+'test_label.csv')['label']\n",
    "    test=pd.read_csv(unseen+str(i)+'test_encode.csv').reindex(columns=X.columns)\n",
    "    clf = RandomForestClassifier()\n",
    "    n_estimators=[10,20,30,50,70,100]\n",
    "    ones=[1,5,10,20,30,35,40,50,100,200]\n",
    "    minSampleLeaf=[20,30,50,80,100,200,250]\n",
    "    iterations=[5000]\n",
    "    parameter={'min_samples_leaf':minSampleLeaf,'n_estimators':n_estimators,'class_weight':[{1:classOne} for classOne in ones ]}\n",
    "    clfG=GridSearchCV(clf,parameter,scoring=\"f1\",cv=5)\n",
    "    clfG.fit(X,y)\n",
    "    with open(unseen+'real_estate_model/'+str(i)+'constraint_model_pkl', 'wb') as files:\n",
    "        pickle.dump(clfG, files)"
   ]
  },
  {
   "cell_type": "code",
   "execution_count": 52,
   "id": "f7ca402a",
   "metadata": {
    "scrolled": true
   },
   "outputs": [
    {
     "name": "stdout",
     "output_type": "stream",
     "text": [
      "0\n",
      "6\n",
      "the f1 score is 0.0\n",
      "the precision score is 0.0\n",
      "the recall score is  0.0\n",
      "{'class_weight': {1: 10}, 'min_samples_leaf': 30, 'n_estimators': 30}\n",
      "0.33189033189033196\n",
      "0\n",
      "6\n",
      "the f1 score is 0.0\n",
      "the precision score is 0.0\n",
      "the recall score is  0.0\n",
      "{'class_weight': {1: 10}, 'min_samples_leaf': 20, 'n_estimators': 50}\n",
      "0.3110503531556163\n",
      "3\n",
      "6\n",
      "the f1 score is 0.0\n",
      "the precision score is 0.0\n",
      "the recall score is  0.0\n",
      "{'class_weight': {1: 10}, 'min_samples_leaf': 20, 'n_estimators': 50}\n",
      "0.3067356173238526\n",
      "0\n",
      "6\n",
      "the f1 score is 0.0\n",
      "the precision score is 0.0\n",
      "the recall score is  0.0\n",
      "{'class_weight': {1: 10}, 'min_samples_leaf': 20, 'n_estimators': 20}\n",
      "0.3121800444315658\n",
      "0\n",
      "6\n",
      "the f1 score is 0.0\n",
      "the precision score is 0.0\n",
      "the recall score is  0.0\n",
      "{'class_weight': {1: 10}, 'min_samples_leaf': 50, 'n_estimators': 20}\n",
      "0.3317460317460318\n"
     ]
    },
    {
     "name": "stderr",
     "output_type": "stream",
     "text": [
      "Precision is ill-defined and being set to 0.0 due to no predicted samples. Use `zero_division` parameter to control this behavior.\n",
      "Precision is ill-defined and being set to 0.0 due to no predicted samples. Use `zero_division` parameter to control this behavior.\n",
      "Precision is ill-defined and being set to 0.0 due to no predicted samples. Use `zero_division` parameter to control this behavior.\n",
      "Precision is ill-defined and being set to 0.0 due to no predicted samples. Use `zero_division` parameter to control this behavior.\n",
      "Precision is ill-defined and being set to 0.0 due to no predicted samples. Use `zero_division` parameter to control this behavior.\n",
      "Precision is ill-defined and being set to 0.0 due to no predicted samples. Use `zero_division` parameter to control this behavior.\n",
      "Precision is ill-defined and being set to 0.0 due to no predicted samples. Use `zero_division` parameter to control this behavior.\n",
      "Precision is ill-defined and being set to 0.0 due to no predicted samples. Use `zero_division` parameter to control this behavior.\n"
     ]
    }
   ],
   "source": [
    "allf1=0\n",
    "allrecall=0\n",
    "allprecision=0\n",
    "for i in range(5):    \n",
    "    with open(unseen+'real_estate_model/'+str(i)+'constraint_model_pkl' , 'rb') as f:\n",
    "        X=pd.read_csv(unseen+str(i)+'train_encode.csv').drop(columns=['outputscore'])\n",
    "        X=X.loc[:,~X.columns.str.match(\"Unnamed\")]\n",
    "        testlabel=pd.read_csv(unseen+str(i)+'test_label.csv')['label']\n",
    "        test=pd.read_csv(unseen+str(i)+'test_encode.csv').reindex(columns=X.columns)\n",
    "        test=test.fillna(0)\n",
    "        clfG = pickle.load(f)\n",
    "        pre=clfG.predict(test)\n",
    "        print(sum(pre))\n",
    "        print(sum(testlabel))\n",
    "        print('the f1 score is',f1_score(testlabel,pre))\n",
    "        print('the precision score is',precision_score(testlabel,pre))\n",
    "        print('the recall score is ',recall_score(testlabel,pre))\n",
    "        allf1+=f1_score(testlabel,pre)\n",
    "        allrecall+=recall_score(testlabel,pre)\n",
    "        allprecision+=precision_score(testlabel,pre)\n",
    "        print(clfG.best_params_)\n",
    "        print(clfG.best_score_)\n",
    "print('the average f1 of IMDB is',allf1/5)\n",
    "print('the average recall score',allrecall/5)\n",
    "print('the average precision score',allprecision/5)"
   ]
  },
  {
   "cell_type": "code",
   "execution_count": null,
   "id": "08fc5829",
   "metadata": {},
   "outputs": [],
   "source": []
  },
  {
   "cell_type": "code",
   "execution_count": null,
   "id": "f0cc444b",
   "metadata": {},
   "outputs": [],
   "source": []
  }
 ],
 "metadata": {
  "kernelspec": {
   "display_name": "Python 3 (ipykernel)",
   "language": "python",
   "name": "python3"
  },
  "language_info": {
   "codemirror_mode": {
    "name": "ipython",
    "version": 3
   },
   "file_extension": ".py",
   "mimetype": "text/x-python",
   "name": "python",
   "nbconvert_exporter": "python",
   "pygments_lexer": "ipython3",
   "version": "3.10.1"
  }
 },
 "nbformat": 4,
 "nbformat_minor": 5
}

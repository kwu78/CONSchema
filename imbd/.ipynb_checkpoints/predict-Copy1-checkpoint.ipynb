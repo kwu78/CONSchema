{
 "cells": [
  {
   "cell_type": "code",
   "execution_count": 1,
   "metadata": {},
   "outputs": [],
   "source": [
    "import pandas as pd\n",
    "from sklearn.model_selection import GridSearchCV\n",
    "from sklearn.ensemble import RandomForestClassifier\n",
    "import pickle\n",
    "from joblib import dump,load\n",
    "from sklearn.metrics import classification_report,f1_score,recall_score,precision_score\n",
    "import shap\n",
    "from matplotlib import pyplot\n"
   ]
  },
  {
   "cell_type": "code",
   "execution_count": 2,
   "metadata": {},
   "outputs": [],
   "source": [
    "for i in range(5):\n",
    "    X=pd.read_csv(str(i)+'_imdb_train_encode.csv')\n",
    "    val=pd.read_csv(str(i)+'_imdb_val_encode.csv')\n",
    "    X=X.append(val)\n",
    "    vlabel=pd.read_csv(str(i)+'_imdb_val_label.csv')['label']\n",
    "    y=pd.read_csv(str(i)+'_imdb_train_label.csv')['label']\n",
    "    y=y.append(vlabel)\n",
    "    testlabel=pd.read_csv(str(i)+'_imdb_test_label.csv')['label']\n",
    "    test=pd.read_csv(str(i)+'_imdb_test_encode.csv').reindex(columns=X.columns)\n",
    "    clf = RandomForestClassifier()\n",
    "    n_estimators=[10,20,30,50,70,100,150]\n",
    "    ones=[10,20,30,35,5,40,50,100,200]\n",
    "    minSampleLeaf=[30,50,80,100,200,250]\n",
    "    iterations=[5000]\n",
    "    parameter={'min_samples_leaf':minSampleLeaf,'n_estimators':n_estimators,'class_weight':[{1:classOne} for classOne in ones ]}\n",
    "    clfG=GridSearchCV(clf,parameter,scoring=\"f1\",cv=5)\n",
    "    clfG.fit(X,y)\n",
    "    with open('./imdb_model/'+str(i)+'model_pkl', 'wb') as files:\n",
    "        pickle.dump(clfG, files)"
   ]
  },
  {
   "cell_type": "code",
   "execution_count": 3,
   "metadata": {},
   "outputs": [
    {
     "name": "stdout",
     "output_type": "stream",
     "text": [
      "1\n",
      "5\n",
      "the f1 score is 0.33333333333333337\n",
      "the precision score is 1.0\n",
      "the recall score is  0.2\n",
      "{'class_weight': {1: 20}, 'min_samples_leaf': 30, 'n_estimators': 150}\n",
      "0.4691086691086691\n",
      "2\n",
      "5\n",
      "the f1 score is 0.28571428571428575\n",
      "the precision score is 0.5\n",
      "the recall score is  0.2\n",
      "{'class_weight': {1: 20}, 'min_samples_leaf': 50, 'n_estimators': 20}\n",
      "0.4416199813258637\n",
      "1\n",
      "5\n",
      "the f1 score is 0.33333333333333337\n",
      "the precision score is 1.0\n",
      "the recall score is  0.2\n",
      "{'class_weight': {1: 20}, 'min_samples_leaf': 50, 'n_estimators': 150}\n",
      "0.4371074745687749\n",
      "1\n",
      "5\n",
      "the f1 score is 0.33333333333333337\n",
      "the precision score is 1.0\n",
      "the recall score is  0.2\n",
      "{'class_weight': {1: 20}, 'min_samples_leaf': 50, 'n_estimators': 150}\n",
      "0.45807692307692316\n",
      "1\n",
      "5\n",
      "the f1 score is 0.33333333333333337\n",
      "the precision score is 1.0\n",
      "the recall score is  0.2\n",
      "{'class_weight': {1: 20}, 'min_samples_leaf': 30, 'n_estimators': 50}\n",
      "0.47474358974358977\n",
      "the average f1 of IMDB is 0.3238095238095238\n",
      "the average recall score 0.2\n",
      "the average precision score 0.9\n"
     ]
    }
   ],
   "source": [
    "allf1=0\n",
    "allrecall=0\n",
    "allprecision=0\n",
    "for i in range(5):    \n",
    "    with open('./imdb_model/'+str(i)+'model_pkl' , 'rb') as f:\n",
    "        X=pd.read_csv(str(i)+'_imdb_train_encode.csv')\n",
    "        testlabel=pd.read_csv(str(i)+'_imdb_test_label.csv')['label']\n",
    "        test=pd.read_csv(str(i)+'_imdb_test_encode.csv').reindex(columns=X.columns)\n",
    "        clfG = pickle.load(f)\n",
    "        pre=clfG.predict(test)\n",
    "        print(sum(pre))\n",
    "        print(sum(testlabel))\n",
    "        print('the f1 score is',f1_score(testlabel,pre))\n",
    "        print('the precision score is',precision_score(testlabel,pre))\n",
    "        print('the recall score is ',recall_score(testlabel,pre))\n",
    "        allf1+=f1_score(testlabel,pre)\n",
    "        allrecall+=recall_score(testlabel,pre)\n",
    "        allprecision+=precision_score(testlabel,pre)\n",
    "        print(clfG.best_params_)\n",
    "        print(clfG.best_score_)\n",
    "print('the average f1 of IMDB is',allf1/5)\n",
    "print('the average recall score',allrecall/5)\n",
    "print('the average precision score',allprecision/5)"
   ]
  },
  {
   "cell_type": "code",
   "execution_count": null,
   "metadata": {},
   "outputs": [],
   "source": []
  },
  {
   "cell_type": "code",
   "execution_count": 16,
   "metadata": {},
   "outputs": [
    {
     "name": "stderr",
     "output_type": "stream",
     "text": [
      "The frame.append method is deprecated and will be removed from pandas in a future version. Use pandas.concat instead.\n",
      "The series.append method is deprecated and will be removed from pandas in a future version. Use pandas.concat instead.\n"
     ]
    },
    {
     "name": "stdout",
     "output_type": "stream",
     "text": [
      "     primary key_x  foreign key_x  primary key_y  foreign key_y  YYYY_x  \\\n",
      "0                1              0              0              1       0   \n",
      "1                1              0              0              1       0   \n",
      "2                1              0              1              0       0   \n",
      "3                1              0              0              1       0   \n",
      "4                1              0              0              1       0   \n",
      "..             ...            ...            ...            ...     ...   \n",
      "233              0              0              0              0       0   \n",
      "234              0              0              0              0       0   \n",
      "235              0              0              0              0       0   \n",
      "236              0              0              0              0       0   \n",
      "237              0              0              0              0       0   \n",
      "\n",
      "     array_x  array of nconsts_x  boolean_x  float_x  integer_x  string_x  \\\n",
      "0          0                   0          0        0          0         1   \n",
      "1          0                   0          0        0          0         1   \n",
      "2          0                   0          0        0          0         1   \n",
      "3          0                   0          0        0          0         1   \n",
      "4          0                   0          0        0          0         1   \n",
      "..       ...                 ...        ...      ...        ...       ...   \n",
      "233        0                   1          0        0          0         0   \n",
      "234        0                   1          0        0          0         0   \n",
      "235        0                   1          0        0          0         0   \n",
      "236        0                   1          0        0          0         0   \n",
      "237        0                   1          0        0          0         0   \n",
      "\n",
      "     string array_x  boolean_y  float_y  integer_y  string_y  string array_y  \\\n",
      "0                 0          0        0          1         0               0   \n",
      "1                 0          0        0          1         0               0   \n",
      "2                 0          0        0          1         0               0   \n",
      "3                 0          0        0          1         0               0   \n",
      "4                 0          0        0          1         0               0   \n",
      "..              ...        ...      ...        ...       ...             ...   \n",
      "233               0          0        0          0         0               0   \n",
      "234               0          0        0          0         1               0   \n",
      "235               0          0        0          0         0               0   \n",
      "236               0          0        0          0         0               1   \n",
      "237               0          0        1          0         0               0   \n",
      "\n",
      "     timestamp_y  outputscore  \n",
      "0              0     0.941959  \n",
      "1              0     0.978748  \n",
      "2              0     0.968772  \n",
      "3              0     0.952824  \n",
      "4              0     0.930013  \n",
      "..           ...          ...  \n",
      "233            1     0.000107  \n",
      "234            0     0.007099  \n",
      "235            1     0.764902  \n",
      "236            0     0.001413  \n",
      "237            0     0.016449  \n",
      "\n",
      "[2141 rows x 19 columns]\n",
      "the f1 score is 0.1111111111111111\n"
     ]
    }
   ],
   "source": [
    "for i in range(1):\n",
    "    X=pd.read_csv(str(3)+'_imdb_train_encode.csv')\n",
    "    val=pd.read_csv(str(3)+'_imdb_val_encode.csv')\n",
    "    X=X.append(val)\n",
    "    vlabel=pd.read_csv(str(3)+'_imdb_val_label.csv')['label']\n",
    "    y=pd.read_csv(str(3)+'_imdb_train_label.csv')['label']\n",
    "    y=y.append(vlabel)\n",
    "    print(X)\n",
    "    testlabel=pd.read_csv(str(3)+'_imdb_test_label.csv')['label']\n",
    "    test=pd.read_csv(str(3)+'_imdb_test_encode.csv').reindex(columns=X.columns)\n",
    "    clf = RandomForestClassifier()\n",
    "    n_estimators=[5,10,20,30,50,70,100,150]\n",
    "    ones=[5,10,20,30,35,5,40,50,100,200]\n",
    "    minSampleLeaf=[30,50,80,100,200,250]\n",
    "    iterations=[5000]\n",
    "    parameter={'n_estimators':n_estimators,'class_weight':[{1:classOne} for classOne in ones ],\n",
    "               'min_samples_leaf':minSampleLeaf}\n",
    "    clfG=GridSearchCV(clf,parameter,scoring=\"f1\",cv=5)\n",
    "    clfG.fit(X,y)\n",
    "    pre=clfG.predict(test)\n",
    "    print('the f1 score is',f1_score(testlabel,pre))"
   ]
  },
  {
   "cell_type": "code",
   "execution_count": 17,
   "metadata": {
    "scrolled": false
   },
   "outputs": [
    {
     "name": "stdout",
     "output_type": "stream",
     "text": [
      "{'class_weight': {1: 20}, 'min_samples_leaf': 30, 'n_estimators': 20}\n"
     ]
    }
   ],
   "source": [
    "print(clfG.best_params_)"
   ]
  },
  {
   "cell_type": "code",
   "execution_count": 18,
   "metadata": {},
   "outputs": [
    {
     "data": {
      "text/plain": [
       "array([0.00294625, 0.        , 0.02080816, 0.        , 0.        ,\n",
       "       0.        , 0.        , 0.        , 0.        , 0.        ,\n",
       "       0.18538966, 0.        , 0.        , 0.        , 0.14553382,\n",
       "       0.18350142, 0.        , 0.        , 0.46182068])"
      ]
     },
     "execution_count": 18,
     "metadata": {},
     "output_type": "execute_result"
    }
   ],
   "source": [
    "clf=RandomForestClassifier(n_estimators=20,min_samples_leaf=30,class_weight={1:20})\n",
    "clf.fit(test,testlabel)\n",
    "clf.feature_importances_"
   ]
  },
  {
   "cell_type": "code",
   "execution_count": null,
   "metadata": {},
   "outputs": [],
   "source": []
  }
 ],
 "metadata": {
  "kernelspec": {
   "display_name": "Python 3",
   "language": "python",
   "name": "python3"
  },
  "language_info": {
   "codemirror_mode": {
    "name": "ipython",
    "version": 3
   },
   "file_extension": ".py",
   "mimetype": "text/x-python",
   "name": "python",
   "nbconvert_exporter": "python",
   "pygments_lexer": "ipython3",
   "version": "3.7.9"
  }
 },
 "nbformat": 4,
 "nbformat_minor": 5
}

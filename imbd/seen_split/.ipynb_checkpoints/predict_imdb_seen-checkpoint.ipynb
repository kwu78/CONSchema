{
 "cells": [
  {
   "cell_type": "code",
   "execution_count": 6,
   "id": "37513dab",
   "metadata": {},
   "outputs": [],
   "source": [
    "import pandas as pd\n",
    "from sklearn.model_selection import GridSearchCV\n",
    "from sklearn.ensemble import RandomForestClassifier\n",
    "import pickle\n",
    "from joblib import dump,load\n",
    "from sklearn.metrics import classification_report,f1_score,recall_score,precision_score\n",
    "import shap\n",
    "from matplotlib import pyplot\n"
   ]
  },
  {
   "cell_type": "code",
   "execution_count": 7,
   "id": "7b28b83e",
   "metadata": {},
   "outputs": [
    {
     "name": "stderr",
     "output_type": "stream",
     "text": [
      "The frame.append method is deprecated and will be removed from pandas in a future version. Use pandas.concat instead.\n",
      "The series.append method is deprecated and will be removed from pandas in a future version. Use pandas.concat instead.\n"
     ]
    },
    {
     "ename": "KeyboardInterrupt",
     "evalue": "",
     "output_type": "error",
     "traceback": [
      "\u001b[0;31m---------------------------------------------------------------------------\u001b[0m",
      "\u001b[0;31mKeyboardInterrupt\u001b[0m                         Traceback (most recent call last)",
      "Cell \u001b[0;32mIn [7], line 18\u001b[0m\n\u001b[1;32m     16\u001b[0m parameter\u001b[38;5;241m=\u001b[39m{\u001b[38;5;124m'\u001b[39m\u001b[38;5;124mmax_depth\u001b[39m\u001b[38;5;124m'\u001b[39m:max_depth,\u001b[38;5;124m'\u001b[39m\u001b[38;5;124mmin_samples_leaf\u001b[39m\u001b[38;5;124m'\u001b[39m:minSampleLeaf,\u001b[38;5;124m'\u001b[39m\u001b[38;5;124mn_estimators\u001b[39m\u001b[38;5;124m'\u001b[39m:n_estimators,\u001b[38;5;124m'\u001b[39m\u001b[38;5;124mclass_weight\u001b[39m\u001b[38;5;124m'\u001b[39m:[{\u001b[38;5;241m1\u001b[39m:classOne} \u001b[38;5;28;01mfor\u001b[39;00m classOne \u001b[38;5;129;01min\u001b[39;00m ones ]}\n\u001b[1;32m     17\u001b[0m clfG\u001b[38;5;241m=\u001b[39mGridSearchCV(clf,parameter,scoring\u001b[38;5;241m=\u001b[39m\u001b[38;5;124m\"\u001b[39m\u001b[38;5;124mf1\u001b[39m\u001b[38;5;124m\"\u001b[39m,cv\u001b[38;5;241m=\u001b[39m\u001b[38;5;241m5\u001b[39m)\n\u001b[0;32m---> 18\u001b[0m \u001b[43mclfG\u001b[49m\u001b[38;5;241;43m.\u001b[39;49m\u001b[43mfit\u001b[49m\u001b[43m(\u001b[49m\u001b[43mX\u001b[49m\u001b[43m,\u001b[49m\u001b[43my\u001b[49m\u001b[43m)\u001b[49m\n\u001b[1;32m     19\u001b[0m \u001b[38;5;28;01mwith\u001b[39;00m \u001b[38;5;28mopen\u001b[39m(\u001b[38;5;124m'\u001b[39m\u001b[38;5;124m./imdb_model/\u001b[39m\u001b[38;5;124m'\u001b[39m\u001b[38;5;241m+\u001b[39m\u001b[38;5;28mstr\u001b[39m(i)\u001b[38;5;241m+\u001b[39m\u001b[38;5;124m'\u001b[39m\u001b[38;5;124mmodel_new_pkl\u001b[39m\u001b[38;5;124m'\u001b[39m, \u001b[38;5;124m'\u001b[39m\u001b[38;5;124mwb\u001b[39m\u001b[38;5;124m'\u001b[39m) \u001b[38;5;28;01mas\u001b[39;00m files:\n\u001b[1;32m     20\u001b[0m     pickle\u001b[38;5;241m.\u001b[39mdump(clfG, files)\n",
      "File \u001b[0;32m/Library/Frameworks/Python.framework/Versions/3.10/lib/python3.10/site-packages/sklearn/model_selection/_search.py:875\u001b[0m, in \u001b[0;36mBaseSearchCV.fit\u001b[0;34m(self, X, y, groups, **fit_params)\u001b[0m\n\u001b[1;32m    869\u001b[0m     results \u001b[38;5;241m=\u001b[39m \u001b[38;5;28mself\u001b[39m\u001b[38;5;241m.\u001b[39m_format_results(\n\u001b[1;32m    870\u001b[0m         all_candidate_params, n_splits, all_out, all_more_results\n\u001b[1;32m    871\u001b[0m     )\n\u001b[1;32m    873\u001b[0m     \u001b[38;5;28;01mreturn\u001b[39;00m results\n\u001b[0;32m--> 875\u001b[0m \u001b[38;5;28;43mself\u001b[39;49m\u001b[38;5;241;43m.\u001b[39;49m\u001b[43m_run_search\u001b[49m\u001b[43m(\u001b[49m\u001b[43mevaluate_candidates\u001b[49m\u001b[43m)\u001b[49m\n\u001b[1;32m    877\u001b[0m \u001b[38;5;66;03m# multimetric is determined here because in the case of a callable\u001b[39;00m\n\u001b[1;32m    878\u001b[0m \u001b[38;5;66;03m# self.scoring the return type is only known after calling\u001b[39;00m\n\u001b[1;32m    879\u001b[0m first_test_score \u001b[38;5;241m=\u001b[39m all_out[\u001b[38;5;241m0\u001b[39m][\u001b[38;5;124m\"\u001b[39m\u001b[38;5;124mtest_scores\u001b[39m\u001b[38;5;124m\"\u001b[39m]\n",
      "File \u001b[0;32m/Library/Frameworks/Python.framework/Versions/3.10/lib/python3.10/site-packages/sklearn/model_selection/_search.py:1379\u001b[0m, in \u001b[0;36mGridSearchCV._run_search\u001b[0;34m(self, evaluate_candidates)\u001b[0m\n\u001b[1;32m   1377\u001b[0m \u001b[38;5;28;01mdef\u001b[39;00m \u001b[38;5;21m_run_search\u001b[39m(\u001b[38;5;28mself\u001b[39m, evaluate_candidates):\n\u001b[1;32m   1378\u001b[0m     \u001b[38;5;124;03m\"\"\"Search all candidates in param_grid\"\"\"\u001b[39;00m\n\u001b[0;32m-> 1379\u001b[0m     \u001b[43mevaluate_candidates\u001b[49m\u001b[43m(\u001b[49m\u001b[43mParameterGrid\u001b[49m\u001b[43m(\u001b[49m\u001b[38;5;28;43mself\u001b[39;49m\u001b[38;5;241;43m.\u001b[39;49m\u001b[43mparam_grid\u001b[49m\u001b[43m)\u001b[49m\u001b[43m)\u001b[49m\n",
      "File \u001b[0;32m/Library/Frameworks/Python.framework/Versions/3.10/lib/python3.10/site-packages/sklearn/model_selection/_search.py:822\u001b[0m, in \u001b[0;36mBaseSearchCV.fit.<locals>.evaluate_candidates\u001b[0;34m(candidate_params, cv, more_results)\u001b[0m\n\u001b[1;32m    814\u001b[0m \u001b[38;5;28;01mif\u001b[39;00m \u001b[38;5;28mself\u001b[39m\u001b[38;5;241m.\u001b[39mverbose \u001b[38;5;241m>\u001b[39m \u001b[38;5;241m0\u001b[39m:\n\u001b[1;32m    815\u001b[0m     \u001b[38;5;28mprint\u001b[39m(\n\u001b[1;32m    816\u001b[0m         \u001b[38;5;124m\"\u001b[39m\u001b[38;5;124mFitting \u001b[39m\u001b[38;5;132;01m{0}\u001b[39;00m\u001b[38;5;124m folds for each of \u001b[39m\u001b[38;5;132;01m{1}\u001b[39;00m\u001b[38;5;124m candidates,\u001b[39m\u001b[38;5;124m\"\u001b[39m\n\u001b[1;32m    817\u001b[0m         \u001b[38;5;124m\"\u001b[39m\u001b[38;5;124m totalling \u001b[39m\u001b[38;5;132;01m{2}\u001b[39;00m\u001b[38;5;124m fits\u001b[39m\u001b[38;5;124m\"\u001b[39m\u001b[38;5;241m.\u001b[39mformat(\n\u001b[1;32m    818\u001b[0m             n_splits, n_candidates, n_candidates \u001b[38;5;241m*\u001b[39m n_splits\n\u001b[1;32m    819\u001b[0m         )\n\u001b[1;32m    820\u001b[0m     )\n\u001b[0;32m--> 822\u001b[0m out \u001b[38;5;241m=\u001b[39m \u001b[43mparallel\u001b[49m\u001b[43m(\u001b[49m\n\u001b[1;32m    823\u001b[0m \u001b[43m    \u001b[49m\u001b[43mdelayed\u001b[49m\u001b[43m(\u001b[49m\u001b[43m_fit_and_score\u001b[49m\u001b[43m)\u001b[49m\u001b[43m(\u001b[49m\n\u001b[1;32m    824\u001b[0m \u001b[43m        \u001b[49m\u001b[43mclone\u001b[49m\u001b[43m(\u001b[49m\u001b[43mbase_estimator\u001b[49m\u001b[43m)\u001b[49m\u001b[43m,\u001b[49m\n\u001b[1;32m    825\u001b[0m \u001b[43m        \u001b[49m\u001b[43mX\u001b[49m\u001b[43m,\u001b[49m\n\u001b[1;32m    826\u001b[0m \u001b[43m        \u001b[49m\u001b[43my\u001b[49m\u001b[43m,\u001b[49m\n\u001b[1;32m    827\u001b[0m \u001b[43m        \u001b[49m\u001b[43mtrain\u001b[49m\u001b[38;5;241;43m=\u001b[39;49m\u001b[43mtrain\u001b[49m\u001b[43m,\u001b[49m\n\u001b[1;32m    828\u001b[0m \u001b[43m        \u001b[49m\u001b[43mtest\u001b[49m\u001b[38;5;241;43m=\u001b[39;49m\u001b[43mtest\u001b[49m\u001b[43m,\u001b[49m\n\u001b[1;32m    829\u001b[0m \u001b[43m        \u001b[49m\u001b[43mparameters\u001b[49m\u001b[38;5;241;43m=\u001b[39;49m\u001b[43mparameters\u001b[49m\u001b[43m,\u001b[49m\n\u001b[1;32m    830\u001b[0m \u001b[43m        \u001b[49m\u001b[43msplit_progress\u001b[49m\u001b[38;5;241;43m=\u001b[39;49m\u001b[43m(\u001b[49m\u001b[43msplit_idx\u001b[49m\u001b[43m,\u001b[49m\u001b[43m \u001b[49m\u001b[43mn_splits\u001b[49m\u001b[43m)\u001b[49m\u001b[43m,\u001b[49m\n\u001b[1;32m    831\u001b[0m \u001b[43m        \u001b[49m\u001b[43mcandidate_progress\u001b[49m\u001b[38;5;241;43m=\u001b[39;49m\u001b[43m(\u001b[49m\u001b[43mcand_idx\u001b[49m\u001b[43m,\u001b[49m\u001b[43m \u001b[49m\u001b[43mn_candidates\u001b[49m\u001b[43m)\u001b[49m\u001b[43m,\u001b[49m\n\u001b[1;32m    832\u001b[0m \u001b[43m        \u001b[49m\u001b[38;5;241;43m*\u001b[39;49m\u001b[38;5;241;43m*\u001b[39;49m\u001b[43mfit_and_score_kwargs\u001b[49m\u001b[43m,\u001b[49m\n\u001b[1;32m    833\u001b[0m \u001b[43m    \u001b[49m\u001b[43m)\u001b[49m\n\u001b[1;32m    834\u001b[0m \u001b[43m    \u001b[49m\u001b[38;5;28;43;01mfor\u001b[39;49;00m\u001b[43m \u001b[49m\u001b[43m(\u001b[49m\u001b[43mcand_idx\u001b[49m\u001b[43m,\u001b[49m\u001b[43m \u001b[49m\u001b[43mparameters\u001b[49m\u001b[43m)\u001b[49m\u001b[43m,\u001b[49m\u001b[43m \u001b[49m\u001b[43m(\u001b[49m\u001b[43msplit_idx\u001b[49m\u001b[43m,\u001b[49m\u001b[43m \u001b[49m\u001b[43m(\u001b[49m\u001b[43mtrain\u001b[49m\u001b[43m,\u001b[49m\u001b[43m \u001b[49m\u001b[43mtest\u001b[49m\u001b[43m)\u001b[49m\u001b[43m)\u001b[49m\u001b[43m \u001b[49m\u001b[38;5;129;43;01min\u001b[39;49;00m\u001b[43m \u001b[49m\u001b[43mproduct\u001b[49m\u001b[43m(\u001b[49m\n\u001b[1;32m    835\u001b[0m \u001b[43m        \u001b[49m\u001b[38;5;28;43menumerate\u001b[39;49m\u001b[43m(\u001b[49m\u001b[43mcandidate_params\u001b[49m\u001b[43m)\u001b[49m\u001b[43m,\u001b[49m\u001b[43m \u001b[49m\u001b[38;5;28;43menumerate\u001b[39;49m\u001b[43m(\u001b[49m\u001b[43mcv\u001b[49m\u001b[38;5;241;43m.\u001b[39;49m\u001b[43msplit\u001b[49m\u001b[43m(\u001b[49m\u001b[43mX\u001b[49m\u001b[43m,\u001b[49m\u001b[43m \u001b[49m\u001b[43my\u001b[49m\u001b[43m,\u001b[49m\u001b[43m \u001b[49m\u001b[43mgroups\u001b[49m\u001b[43m)\u001b[49m\u001b[43m)\u001b[49m\n\u001b[1;32m    836\u001b[0m \u001b[43m    \u001b[49m\u001b[43m)\u001b[49m\n\u001b[1;32m    837\u001b[0m \u001b[43m\u001b[49m\u001b[43m)\u001b[49m\n\u001b[1;32m    839\u001b[0m \u001b[38;5;28;01mif\u001b[39;00m \u001b[38;5;28mlen\u001b[39m(out) \u001b[38;5;241m<\u001b[39m \u001b[38;5;241m1\u001b[39m:\n\u001b[1;32m    840\u001b[0m     \u001b[38;5;28;01mraise\u001b[39;00m \u001b[38;5;167;01mValueError\u001b[39;00m(\n\u001b[1;32m    841\u001b[0m         \u001b[38;5;124m\"\u001b[39m\u001b[38;5;124mNo fits were performed. \u001b[39m\u001b[38;5;124m\"\u001b[39m\n\u001b[1;32m    842\u001b[0m         \u001b[38;5;124m\"\u001b[39m\u001b[38;5;124mWas the CV iterator empty? \u001b[39m\u001b[38;5;124m\"\u001b[39m\n\u001b[1;32m    843\u001b[0m         \u001b[38;5;124m\"\u001b[39m\u001b[38;5;124mWere there no candidates?\u001b[39m\u001b[38;5;124m\"\u001b[39m\n\u001b[1;32m    844\u001b[0m     )\n",
      "File \u001b[0;32m/Library/Frameworks/Python.framework/Versions/3.10/lib/python3.10/site-packages/joblib/parallel.py:1046\u001b[0m, in \u001b[0;36mParallel.__call__\u001b[0;34m(self, iterable)\u001b[0m\n\u001b[1;32m   1043\u001b[0m \u001b[38;5;28;01mif\u001b[39;00m \u001b[38;5;28mself\u001b[39m\u001b[38;5;241m.\u001b[39mdispatch_one_batch(iterator):\n\u001b[1;32m   1044\u001b[0m     \u001b[38;5;28mself\u001b[39m\u001b[38;5;241m.\u001b[39m_iterating \u001b[38;5;241m=\u001b[39m \u001b[38;5;28mself\u001b[39m\u001b[38;5;241m.\u001b[39m_original_iterator \u001b[38;5;129;01mis\u001b[39;00m \u001b[38;5;129;01mnot\u001b[39;00m \u001b[38;5;28;01mNone\u001b[39;00m\n\u001b[0;32m-> 1046\u001b[0m \u001b[38;5;28;01mwhile\u001b[39;00m \u001b[38;5;28;43mself\u001b[39;49m\u001b[38;5;241;43m.\u001b[39;49m\u001b[43mdispatch_one_batch\u001b[49m\u001b[43m(\u001b[49m\u001b[43miterator\u001b[49m\u001b[43m)\u001b[49m:\n\u001b[1;32m   1047\u001b[0m     \u001b[38;5;28;01mpass\u001b[39;00m\n\u001b[1;32m   1049\u001b[0m \u001b[38;5;28;01mif\u001b[39;00m pre_dispatch \u001b[38;5;241m==\u001b[39m \u001b[38;5;124m\"\u001b[39m\u001b[38;5;124mall\u001b[39m\u001b[38;5;124m\"\u001b[39m \u001b[38;5;129;01mor\u001b[39;00m n_jobs \u001b[38;5;241m==\u001b[39m \u001b[38;5;241m1\u001b[39m:\n\u001b[1;32m   1050\u001b[0m     \u001b[38;5;66;03m# The iterable was consumed all at once by the above for loop.\u001b[39;00m\n\u001b[1;32m   1051\u001b[0m     \u001b[38;5;66;03m# No need to wait for async callbacks to trigger to\u001b[39;00m\n\u001b[1;32m   1052\u001b[0m     \u001b[38;5;66;03m# consumption.\u001b[39;00m\n",
      "File \u001b[0;32m/Library/Frameworks/Python.framework/Versions/3.10/lib/python3.10/site-packages/joblib/parallel.py:861\u001b[0m, in \u001b[0;36mParallel.dispatch_one_batch\u001b[0;34m(self, iterator)\u001b[0m\n\u001b[1;32m    859\u001b[0m     \u001b[38;5;28;01mreturn\u001b[39;00m \u001b[38;5;28;01mFalse\u001b[39;00m\n\u001b[1;32m    860\u001b[0m \u001b[38;5;28;01melse\u001b[39;00m:\n\u001b[0;32m--> 861\u001b[0m     \u001b[38;5;28;43mself\u001b[39;49m\u001b[38;5;241;43m.\u001b[39;49m\u001b[43m_dispatch\u001b[49m\u001b[43m(\u001b[49m\u001b[43mtasks\u001b[49m\u001b[43m)\u001b[49m\n\u001b[1;32m    862\u001b[0m     \u001b[38;5;28;01mreturn\u001b[39;00m \u001b[38;5;28;01mTrue\u001b[39;00m\n",
      "File \u001b[0;32m/Library/Frameworks/Python.framework/Versions/3.10/lib/python3.10/site-packages/joblib/parallel.py:779\u001b[0m, in \u001b[0;36mParallel._dispatch\u001b[0;34m(self, batch)\u001b[0m\n\u001b[1;32m    777\u001b[0m \u001b[38;5;28;01mwith\u001b[39;00m \u001b[38;5;28mself\u001b[39m\u001b[38;5;241m.\u001b[39m_lock:\n\u001b[1;32m    778\u001b[0m     job_idx \u001b[38;5;241m=\u001b[39m \u001b[38;5;28mlen\u001b[39m(\u001b[38;5;28mself\u001b[39m\u001b[38;5;241m.\u001b[39m_jobs)\n\u001b[0;32m--> 779\u001b[0m     job \u001b[38;5;241m=\u001b[39m \u001b[38;5;28;43mself\u001b[39;49m\u001b[38;5;241;43m.\u001b[39;49m\u001b[43m_backend\u001b[49m\u001b[38;5;241;43m.\u001b[39;49m\u001b[43mapply_async\u001b[49m\u001b[43m(\u001b[49m\u001b[43mbatch\u001b[49m\u001b[43m,\u001b[49m\u001b[43m \u001b[49m\u001b[43mcallback\u001b[49m\u001b[38;5;241;43m=\u001b[39;49m\u001b[43mcb\u001b[49m\u001b[43m)\u001b[49m\n\u001b[1;32m    780\u001b[0m     \u001b[38;5;66;03m# A job can complete so quickly than its callback is\u001b[39;00m\n\u001b[1;32m    781\u001b[0m     \u001b[38;5;66;03m# called before we get here, causing self._jobs to\u001b[39;00m\n\u001b[1;32m    782\u001b[0m     \u001b[38;5;66;03m# grow. To ensure correct results ordering, .insert is\u001b[39;00m\n\u001b[1;32m    783\u001b[0m     \u001b[38;5;66;03m# used (rather than .append) in the following line\u001b[39;00m\n\u001b[1;32m    784\u001b[0m     \u001b[38;5;28mself\u001b[39m\u001b[38;5;241m.\u001b[39m_jobs\u001b[38;5;241m.\u001b[39minsert(job_idx, job)\n",
      "File \u001b[0;32m/Library/Frameworks/Python.framework/Versions/3.10/lib/python3.10/site-packages/joblib/_parallel_backends.py:208\u001b[0m, in \u001b[0;36mSequentialBackend.apply_async\u001b[0;34m(self, func, callback)\u001b[0m\n\u001b[1;32m    206\u001b[0m \u001b[38;5;28;01mdef\u001b[39;00m \u001b[38;5;21mapply_async\u001b[39m(\u001b[38;5;28mself\u001b[39m, func, callback\u001b[38;5;241m=\u001b[39m\u001b[38;5;28;01mNone\u001b[39;00m):\n\u001b[1;32m    207\u001b[0m     \u001b[38;5;124;03m\"\"\"Schedule a func to be run\"\"\"\u001b[39;00m\n\u001b[0;32m--> 208\u001b[0m     result \u001b[38;5;241m=\u001b[39m \u001b[43mImmediateResult\u001b[49m\u001b[43m(\u001b[49m\u001b[43mfunc\u001b[49m\u001b[43m)\u001b[49m\n\u001b[1;32m    209\u001b[0m     \u001b[38;5;28;01mif\u001b[39;00m callback:\n\u001b[1;32m    210\u001b[0m         callback(result)\n",
      "File \u001b[0;32m/Library/Frameworks/Python.framework/Versions/3.10/lib/python3.10/site-packages/joblib/_parallel_backends.py:572\u001b[0m, in \u001b[0;36mImmediateResult.__init__\u001b[0;34m(self, batch)\u001b[0m\n\u001b[1;32m    569\u001b[0m \u001b[38;5;28;01mdef\u001b[39;00m \u001b[38;5;21m__init__\u001b[39m(\u001b[38;5;28mself\u001b[39m, batch):\n\u001b[1;32m    570\u001b[0m     \u001b[38;5;66;03m# Don't delay the application, to avoid keeping the input\u001b[39;00m\n\u001b[1;32m    571\u001b[0m     \u001b[38;5;66;03m# arguments in memory\u001b[39;00m\n\u001b[0;32m--> 572\u001b[0m     \u001b[38;5;28mself\u001b[39m\u001b[38;5;241m.\u001b[39mresults \u001b[38;5;241m=\u001b[39m \u001b[43mbatch\u001b[49m\u001b[43m(\u001b[49m\u001b[43m)\u001b[49m\n",
      "File \u001b[0;32m/Library/Frameworks/Python.framework/Versions/3.10/lib/python3.10/site-packages/joblib/parallel.py:262\u001b[0m, in \u001b[0;36mBatchedCalls.__call__\u001b[0;34m(self)\u001b[0m\n\u001b[1;32m    258\u001b[0m \u001b[38;5;28;01mdef\u001b[39;00m \u001b[38;5;21m__call__\u001b[39m(\u001b[38;5;28mself\u001b[39m):\n\u001b[1;32m    259\u001b[0m     \u001b[38;5;66;03m# Set the default nested backend to self._backend but do not set the\u001b[39;00m\n\u001b[1;32m    260\u001b[0m     \u001b[38;5;66;03m# change the default number of processes to -1\u001b[39;00m\n\u001b[1;32m    261\u001b[0m     \u001b[38;5;28;01mwith\u001b[39;00m parallel_backend(\u001b[38;5;28mself\u001b[39m\u001b[38;5;241m.\u001b[39m_backend, n_jobs\u001b[38;5;241m=\u001b[39m\u001b[38;5;28mself\u001b[39m\u001b[38;5;241m.\u001b[39m_n_jobs):\n\u001b[0;32m--> 262\u001b[0m         \u001b[38;5;28;01mreturn\u001b[39;00m [func(\u001b[38;5;241m*\u001b[39margs, \u001b[38;5;241m*\u001b[39m\u001b[38;5;241m*\u001b[39mkwargs)\n\u001b[1;32m    263\u001b[0m                 \u001b[38;5;28;01mfor\u001b[39;00m func, args, kwargs \u001b[38;5;129;01min\u001b[39;00m \u001b[38;5;28mself\u001b[39m\u001b[38;5;241m.\u001b[39mitems]\n",
      "File \u001b[0;32m/Library/Frameworks/Python.framework/Versions/3.10/lib/python3.10/site-packages/joblib/parallel.py:262\u001b[0m, in \u001b[0;36m<listcomp>\u001b[0;34m(.0)\u001b[0m\n\u001b[1;32m    258\u001b[0m \u001b[38;5;28;01mdef\u001b[39;00m \u001b[38;5;21m__call__\u001b[39m(\u001b[38;5;28mself\u001b[39m):\n\u001b[1;32m    259\u001b[0m     \u001b[38;5;66;03m# Set the default nested backend to self._backend but do not set the\u001b[39;00m\n\u001b[1;32m    260\u001b[0m     \u001b[38;5;66;03m# change the default number of processes to -1\u001b[39;00m\n\u001b[1;32m    261\u001b[0m     \u001b[38;5;28;01mwith\u001b[39;00m parallel_backend(\u001b[38;5;28mself\u001b[39m\u001b[38;5;241m.\u001b[39m_backend, n_jobs\u001b[38;5;241m=\u001b[39m\u001b[38;5;28mself\u001b[39m\u001b[38;5;241m.\u001b[39m_n_jobs):\n\u001b[0;32m--> 262\u001b[0m         \u001b[38;5;28;01mreturn\u001b[39;00m [\u001b[43mfunc\u001b[49m\u001b[43m(\u001b[49m\u001b[38;5;241;43m*\u001b[39;49m\u001b[43margs\u001b[49m\u001b[43m,\u001b[49m\u001b[43m \u001b[49m\u001b[38;5;241;43m*\u001b[39;49m\u001b[38;5;241;43m*\u001b[39;49m\u001b[43mkwargs\u001b[49m\u001b[43m)\u001b[49m\n\u001b[1;32m    263\u001b[0m                 \u001b[38;5;28;01mfor\u001b[39;00m func, args, kwargs \u001b[38;5;129;01min\u001b[39;00m \u001b[38;5;28mself\u001b[39m\u001b[38;5;241m.\u001b[39mitems]\n",
      "File \u001b[0;32m/Library/Frameworks/Python.framework/Versions/3.10/lib/python3.10/site-packages/sklearn/utils/fixes.py:117\u001b[0m, in \u001b[0;36m_FuncWrapper.__call__\u001b[0;34m(self, *args, **kwargs)\u001b[0m\n\u001b[1;32m    115\u001b[0m \u001b[38;5;28;01mdef\u001b[39;00m \u001b[38;5;21m__call__\u001b[39m(\u001b[38;5;28mself\u001b[39m, \u001b[38;5;241m*\u001b[39margs, \u001b[38;5;241m*\u001b[39m\u001b[38;5;241m*\u001b[39mkwargs):\n\u001b[1;32m    116\u001b[0m     \u001b[38;5;28;01mwith\u001b[39;00m config_context(\u001b[38;5;241m*\u001b[39m\u001b[38;5;241m*\u001b[39m\u001b[38;5;28mself\u001b[39m\u001b[38;5;241m.\u001b[39mconfig):\n\u001b[0;32m--> 117\u001b[0m         \u001b[38;5;28;01mreturn\u001b[39;00m \u001b[38;5;28;43mself\u001b[39;49m\u001b[38;5;241;43m.\u001b[39;49m\u001b[43mfunction\u001b[49m\u001b[43m(\u001b[49m\u001b[38;5;241;43m*\u001b[39;49m\u001b[43margs\u001b[49m\u001b[43m,\u001b[49m\u001b[43m \u001b[49m\u001b[38;5;241;43m*\u001b[39;49m\u001b[38;5;241;43m*\u001b[39;49m\u001b[43mkwargs\u001b[49m\u001b[43m)\u001b[49m\n",
      "File \u001b[0;32m/Library/Frameworks/Python.framework/Versions/3.10/lib/python3.10/site-packages/sklearn/model_selection/_validation.py:679\u001b[0m, in \u001b[0;36m_fit_and_score\u001b[0;34m(estimator, X, y, scorer, train, test, verbose, parameters, fit_params, return_train_score, return_parameters, return_n_test_samples, return_times, return_estimator, split_progress, candidate_progress, error_score)\u001b[0m\n\u001b[1;32m    676\u001b[0m start_time \u001b[38;5;241m=\u001b[39m time\u001b[38;5;241m.\u001b[39mtime()\n\u001b[1;32m    678\u001b[0m X_train, y_train \u001b[38;5;241m=\u001b[39m _safe_split(estimator, X, y, train)\n\u001b[0;32m--> 679\u001b[0m X_test, y_test \u001b[38;5;241m=\u001b[39m \u001b[43m_safe_split\u001b[49m\u001b[43m(\u001b[49m\u001b[43mestimator\u001b[49m\u001b[43m,\u001b[49m\u001b[43m \u001b[49m\u001b[43mX\u001b[49m\u001b[43m,\u001b[49m\u001b[43m \u001b[49m\u001b[43my\u001b[49m\u001b[43m,\u001b[49m\u001b[43m \u001b[49m\u001b[43mtest\u001b[49m\u001b[43m,\u001b[49m\u001b[43m \u001b[49m\u001b[43mtrain\u001b[49m\u001b[43m)\u001b[49m\n\u001b[1;32m    681\u001b[0m result \u001b[38;5;241m=\u001b[39m {}\n\u001b[1;32m    682\u001b[0m \u001b[38;5;28;01mtry\u001b[39;00m:\n",
      "File \u001b[0;32m/Library/Frameworks/Python.framework/Versions/3.10/lib/python3.10/site-packages/sklearn/utils/metaestimators.py:308\u001b[0m, in \u001b[0;36m_safe_split\u001b[0;34m(estimator, X, y, indices, train_indices)\u001b[0m\n\u001b[1;32m    306\u001b[0m         X_subset \u001b[38;5;241m=\u001b[39m X[np\u001b[38;5;241m.\u001b[39mix_(indices, train_indices)]\n\u001b[1;32m    307\u001b[0m \u001b[38;5;28;01melse\u001b[39;00m:\n\u001b[0;32m--> 308\u001b[0m     X_subset \u001b[38;5;241m=\u001b[39m \u001b[43m_safe_indexing\u001b[49m\u001b[43m(\u001b[49m\u001b[43mX\u001b[49m\u001b[43m,\u001b[49m\u001b[43m \u001b[49m\u001b[43mindices\u001b[49m\u001b[43m)\u001b[49m\n\u001b[1;32m    310\u001b[0m \u001b[38;5;28;01mif\u001b[39;00m y \u001b[38;5;129;01mis\u001b[39;00m \u001b[38;5;129;01mnot\u001b[39;00m \u001b[38;5;28;01mNone\u001b[39;00m:\n\u001b[1;32m    311\u001b[0m     y_subset \u001b[38;5;241m=\u001b[39m _safe_indexing(y, indices)\n",
      "File \u001b[0;32m/Library/Frameworks/Python.framework/Versions/3.10/lib/python3.10/site-packages/sklearn/utils/__init__.py:359\u001b[0m, in \u001b[0;36m_safe_indexing\u001b[0;34m(X, indices, axis)\u001b[0m\n\u001b[1;32m    353\u001b[0m     \u001b[38;5;28;01mraise\u001b[39;00m \u001b[38;5;167;01mValueError\u001b[39;00m(\n\u001b[1;32m    354\u001b[0m         \u001b[38;5;124m\"\u001b[39m\u001b[38;5;124mSpecifying the columns using strings is only supported for \u001b[39m\u001b[38;5;124m\"\u001b[39m\n\u001b[1;32m    355\u001b[0m         \u001b[38;5;124m\"\u001b[39m\u001b[38;5;124mpandas DataFrames\u001b[39m\u001b[38;5;124m\"\u001b[39m\n\u001b[1;32m    356\u001b[0m     )\n\u001b[1;32m    358\u001b[0m \u001b[38;5;28;01mif\u001b[39;00m \u001b[38;5;28mhasattr\u001b[39m(X, \u001b[38;5;124m\"\u001b[39m\u001b[38;5;124miloc\u001b[39m\u001b[38;5;124m\"\u001b[39m):\n\u001b[0;32m--> 359\u001b[0m     \u001b[38;5;28;01mreturn\u001b[39;00m \u001b[43m_pandas_indexing\u001b[49m\u001b[43m(\u001b[49m\u001b[43mX\u001b[49m\u001b[43m,\u001b[49m\u001b[43m \u001b[49m\u001b[43mindices\u001b[49m\u001b[43m,\u001b[49m\u001b[43m \u001b[49m\u001b[43mindices_dtype\u001b[49m\u001b[43m,\u001b[49m\u001b[43m \u001b[49m\u001b[43maxis\u001b[49m\u001b[38;5;241;43m=\u001b[39;49m\u001b[43maxis\u001b[49m\u001b[43m)\u001b[49m\n\u001b[1;32m    360\u001b[0m \u001b[38;5;28;01melif\u001b[39;00m \u001b[38;5;28mhasattr\u001b[39m(X, \u001b[38;5;124m\"\u001b[39m\u001b[38;5;124mshape\u001b[39m\u001b[38;5;124m\"\u001b[39m):\n\u001b[1;32m    361\u001b[0m     \u001b[38;5;28;01mreturn\u001b[39;00m _array_indexing(X, indices, indices_dtype, axis\u001b[38;5;241m=\u001b[39maxis)\n",
      "File \u001b[0;32m/Library/Frameworks/Python.framework/Versions/3.10/lib/python3.10/site-packages/sklearn/utils/__init__.py:201\u001b[0m, in \u001b[0;36m_pandas_indexing\u001b[0;34m(X, key, key_dtype, axis)\u001b[0m\n\u001b[1;32m    196\u001b[0m     key \u001b[38;5;241m=\u001b[39m \u001b[38;5;28mlist\u001b[39m(key)\n\u001b[1;32m    198\u001b[0m \u001b[38;5;28;01mif\u001b[39;00m key_dtype \u001b[38;5;241m==\u001b[39m \u001b[38;5;124m\"\u001b[39m\u001b[38;5;124mint\u001b[39m\u001b[38;5;124m\"\u001b[39m \u001b[38;5;129;01mand\u001b[39;00m \u001b[38;5;129;01mnot\u001b[39;00m (\u001b[38;5;28misinstance\u001b[39m(key, \u001b[38;5;28mslice\u001b[39m) \u001b[38;5;129;01mor\u001b[39;00m np\u001b[38;5;241m.\u001b[39misscalar(key)):\n\u001b[1;32m    199\u001b[0m     \u001b[38;5;66;03m# using take() instead of iloc[] ensures the return value is a \"proper\"\u001b[39;00m\n\u001b[1;32m    200\u001b[0m     \u001b[38;5;66;03m# copy that will not raise SettingWithCopyWarning\u001b[39;00m\n\u001b[0;32m--> 201\u001b[0m     \u001b[38;5;28;01mreturn\u001b[39;00m \u001b[43mX\u001b[49m\u001b[38;5;241;43m.\u001b[39;49m\u001b[43mtake\u001b[49m\u001b[43m(\u001b[49m\u001b[43mkey\u001b[49m\u001b[43m,\u001b[49m\u001b[43m \u001b[49m\u001b[43maxis\u001b[49m\u001b[38;5;241;43m=\u001b[39;49m\u001b[43maxis\u001b[49m\u001b[43m)\u001b[49m\n\u001b[1;32m    202\u001b[0m \u001b[38;5;28;01melse\u001b[39;00m:\n\u001b[1;32m    203\u001b[0m     \u001b[38;5;66;03m# check whether we should index with loc or iloc\u001b[39;00m\n\u001b[1;32m    204\u001b[0m     indexer \u001b[38;5;241m=\u001b[39m X\u001b[38;5;241m.\u001b[39miloc \u001b[38;5;28;01mif\u001b[39;00m key_dtype \u001b[38;5;241m==\u001b[39m \u001b[38;5;124m\"\u001b[39m\u001b[38;5;124mint\u001b[39m\u001b[38;5;124m\"\u001b[39m \u001b[38;5;28;01melse\u001b[39;00m X\u001b[38;5;241m.\u001b[39mloc\n",
      "File \u001b[0;32m/Library/Frameworks/Python.framework/Versions/3.10/lib/python3.10/site-packages/pandas/core/generic.py:3715\u001b[0m, in \u001b[0;36mNDFrame.take\u001b[0;34m(self, indices, axis, is_copy, **kwargs)\u001b[0m\n\u001b[1;32m   3711\u001b[0m nv\u001b[38;5;241m.\u001b[39mvalidate_take((), kwargs)\n\u001b[1;32m   3713\u001b[0m \u001b[38;5;28mself\u001b[39m\u001b[38;5;241m.\u001b[39m_consolidate_inplace()\n\u001b[0;32m-> 3715\u001b[0m new_data \u001b[38;5;241m=\u001b[39m \u001b[38;5;28;43mself\u001b[39;49m\u001b[38;5;241;43m.\u001b[39;49m\u001b[43m_mgr\u001b[49m\u001b[38;5;241;43m.\u001b[39;49m\u001b[43mtake\u001b[49m\u001b[43m(\u001b[49m\n\u001b[1;32m   3716\u001b[0m \u001b[43m    \u001b[49m\u001b[43mindices\u001b[49m\u001b[43m,\u001b[49m\u001b[43m \u001b[49m\u001b[43maxis\u001b[49m\u001b[38;5;241;43m=\u001b[39;49m\u001b[38;5;28;43mself\u001b[39;49m\u001b[38;5;241;43m.\u001b[39;49m\u001b[43m_get_block_manager_axis\u001b[49m\u001b[43m(\u001b[49m\u001b[43maxis\u001b[49m\u001b[43m)\u001b[49m\u001b[43m,\u001b[49m\u001b[43m \u001b[49m\u001b[43mverify\u001b[49m\u001b[38;5;241;43m=\u001b[39;49m\u001b[38;5;28;43;01mTrue\u001b[39;49;00m\n\u001b[1;32m   3717\u001b[0m \u001b[43m\u001b[49m\u001b[43m)\u001b[49m\n\u001b[1;32m   3718\u001b[0m \u001b[38;5;28;01mreturn\u001b[39;00m \u001b[38;5;28mself\u001b[39m\u001b[38;5;241m.\u001b[39m_constructor(new_data)\u001b[38;5;241m.\u001b[39m__finalize__(\u001b[38;5;28mself\u001b[39m, method\u001b[38;5;241m=\u001b[39m\u001b[38;5;124m\"\u001b[39m\u001b[38;5;124mtake\u001b[39m\u001b[38;5;124m\"\u001b[39m)\n",
      "File \u001b[0;32m/Library/Frameworks/Python.framework/Versions/3.10/lib/python3.10/site-packages/pandas/core/internals/managers.py:896\u001b[0m, in \u001b[0;36mBaseBlockManager.take\u001b[0;34m(self, indexer, axis, verify)\u001b[0m\n\u001b[1;32m    889\u001b[0m \u001b[38;5;66;03m# We have 6 tests that get here with a slice\u001b[39;00m\n\u001b[1;32m    890\u001b[0m indexer \u001b[38;5;241m=\u001b[39m (\n\u001b[1;32m    891\u001b[0m     np\u001b[38;5;241m.\u001b[39marange(indexer\u001b[38;5;241m.\u001b[39mstart, indexer\u001b[38;5;241m.\u001b[39mstop, indexer\u001b[38;5;241m.\u001b[39mstep, dtype\u001b[38;5;241m=\u001b[39mnp\u001b[38;5;241m.\u001b[39mintp)\n\u001b[1;32m    892\u001b[0m     \u001b[38;5;28;01mif\u001b[39;00m \u001b[38;5;28misinstance\u001b[39m(indexer, \u001b[38;5;28mslice\u001b[39m)\n\u001b[1;32m    893\u001b[0m     \u001b[38;5;28;01melse\u001b[39;00m np\u001b[38;5;241m.\u001b[39masanyarray(indexer, dtype\u001b[38;5;241m=\u001b[39mnp\u001b[38;5;241m.\u001b[39mintp)\n\u001b[1;32m    894\u001b[0m )\n\u001b[0;32m--> 896\u001b[0m n \u001b[38;5;241m=\u001b[39m \u001b[38;5;28;43mself\u001b[39;49m\u001b[38;5;241;43m.\u001b[39;49m\u001b[43mshape\u001b[49m[axis]\n\u001b[1;32m    897\u001b[0m indexer \u001b[38;5;241m=\u001b[39m maybe_convert_indices(indexer, n, verify\u001b[38;5;241m=\u001b[39mverify)\n\u001b[1;32m    899\u001b[0m new_labels \u001b[38;5;241m=\u001b[39m \u001b[38;5;28mself\u001b[39m\u001b[38;5;241m.\u001b[39maxes[axis]\u001b[38;5;241m.\u001b[39mtake(indexer)\n",
      "File \u001b[0;32m/Library/Frameworks/Python.framework/Versions/3.10/lib/python3.10/site-packages/pandas/core/internals/base.py:55\u001b[0m, in \u001b[0;36mDataManager.shape\u001b[0;34m(self)\u001b[0m\n\u001b[1;32m     53\u001b[0m \u001b[38;5;129m@property\u001b[39m\n\u001b[1;32m     54\u001b[0m \u001b[38;5;28;01mdef\u001b[39;00m \u001b[38;5;21mshape\u001b[39m(\u001b[38;5;28mself\u001b[39m) \u001b[38;5;241m-\u001b[39m\u001b[38;5;241m>\u001b[39m Shape:\n\u001b[0;32m---> 55\u001b[0m     \u001b[38;5;28;01mreturn\u001b[39;00m \u001b[38;5;28;43mtuple\u001b[39;49m\u001b[43m(\u001b[49m\u001b[38;5;28;43mlen\u001b[39;49m\u001b[43m(\u001b[49m\u001b[43max\u001b[49m\u001b[43m)\u001b[49m\u001b[43m \u001b[49m\u001b[38;5;28;43;01mfor\u001b[39;49;00m\u001b[43m \u001b[49m\u001b[43max\u001b[49m\u001b[43m \u001b[49m\u001b[38;5;129;43;01min\u001b[39;49;00m\u001b[43m \u001b[49m\u001b[38;5;28;43mself\u001b[39;49m\u001b[38;5;241;43m.\u001b[39;49m\u001b[43maxes\u001b[49m\u001b[43m)\u001b[49m\n",
      "File \u001b[0;32m/Library/Frameworks/Python.framework/Versions/3.10/lib/python3.10/site-packages/pandas/core/internals/base.py:55\u001b[0m, in \u001b[0;36m<genexpr>\u001b[0;34m(.0)\u001b[0m\n\u001b[1;32m     53\u001b[0m \u001b[38;5;129m@property\u001b[39m\n\u001b[1;32m     54\u001b[0m \u001b[38;5;28;01mdef\u001b[39;00m \u001b[38;5;21mshape\u001b[39m(\u001b[38;5;28mself\u001b[39m) \u001b[38;5;241m-\u001b[39m\u001b[38;5;241m>\u001b[39m Shape:\n\u001b[0;32m---> 55\u001b[0m     \u001b[38;5;28;01mreturn\u001b[39;00m \u001b[38;5;28mtuple\u001b[39m(\u001b[38;5;28;43mlen\u001b[39;49m\u001b[43m(\u001b[49m\u001b[43max\u001b[49m\u001b[43m)\u001b[49m \u001b[38;5;28;01mfor\u001b[39;00m ax \u001b[38;5;129;01min\u001b[39;00m \u001b[38;5;28mself\u001b[39m\u001b[38;5;241m.\u001b[39maxes)\n",
      "File \u001b[0;32m/Library/Frameworks/Python.framework/Versions/3.10/lib/python3.10/site-packages/pandas/core/indexes/base.py:884\u001b[0m, in \u001b[0;36mIndex.__len__\u001b[0;34m(self)\u001b[0m\n\u001b[1;32m    874\u001b[0m     \u001b[38;5;28;01mreturn\u001b[39;00m {\n\u001b[1;32m    875\u001b[0m         c\n\u001b[1;32m    876\u001b[0m         \u001b[38;5;28;01mfor\u001b[39;00m c \u001b[38;5;129;01min\u001b[39;00m \u001b[38;5;28mself\u001b[39m\u001b[38;5;241m.\u001b[39munique(level\u001b[38;5;241m=\u001b[39m\u001b[38;5;241m0\u001b[39m)[: get_option(\u001b[38;5;124m\"\u001b[39m\u001b[38;5;124mdisplay.max_dir_items\u001b[39m\u001b[38;5;124m\"\u001b[39m)]\n\u001b[1;32m    877\u001b[0m         \u001b[38;5;28;01mif\u001b[39;00m \u001b[38;5;28misinstance\u001b[39m(c, \u001b[38;5;28mstr\u001b[39m) \u001b[38;5;129;01mand\u001b[39;00m c\u001b[38;5;241m.\u001b[39misidentifier()\n\u001b[1;32m    878\u001b[0m     }\n\u001b[1;32m    880\u001b[0m \u001b[38;5;66;03m# --------------------------------------------------------------------\u001b[39;00m\n\u001b[1;32m    881\u001b[0m \u001b[38;5;66;03m# Array-Like Methods\u001b[39;00m\n\u001b[1;32m    882\u001b[0m \n\u001b[1;32m    883\u001b[0m \u001b[38;5;66;03m# ndarray compat\u001b[39;00m\n\u001b[0;32m--> 884\u001b[0m \u001b[38;5;28;01mdef\u001b[39;00m \u001b[38;5;21m__len__\u001b[39m(\u001b[38;5;28mself\u001b[39m) \u001b[38;5;241m-\u001b[39m\u001b[38;5;241m>\u001b[39m \u001b[38;5;28mint\u001b[39m:\n\u001b[1;32m    885\u001b[0m     \u001b[38;5;124;03m\"\"\"\u001b[39;00m\n\u001b[1;32m    886\u001b[0m \u001b[38;5;124;03m    Return the length of the Index.\u001b[39;00m\n\u001b[1;32m    887\u001b[0m \u001b[38;5;124;03m    \"\"\"\u001b[39;00m\n\u001b[1;32m    888\u001b[0m     \u001b[38;5;28;01mreturn\u001b[39;00m \u001b[38;5;28mlen\u001b[39m(\u001b[38;5;28mself\u001b[39m\u001b[38;5;241m.\u001b[39m_data)\n",
      "\u001b[0;31mKeyboardInterrupt\u001b[0m: "
     ]
    }
   ],
   "source": [
    "for i in range(5):\n",
    "    X=pd.read_csv(str(i)+'_imdb_train_encode.csv')\n",
    "    val=pd.read_csv(str(i)+'_imdb_val_encode.csv')\n",
    "    X=X.append(val)\n",
    "    vlabel=pd.read_csv(str(i)+'_imdb_val_label.csv')['label']\n",
    "    y=pd.read_csv(str(i)+'_imdb_train_label.csv')['label']\n",
    "    y=y.append(vlabel)\n",
    "    testlabel=pd.read_csv(str(i)+'_imdb_test_label.csv')['label']\n",
    "    test=pd.read_csv(str(i)+'_imdb_test_encode.csv').reindex(columns=X.columns)\n",
    "    clf = RandomForestClassifier(criterion='entropy',bootstrap=False)\n",
    "    n_estimators=[70,100,150,200]\n",
    "    ones=[20,30,35,5,40,50]\n",
    "    max_depth=[10,15,20]\n",
    "    minSampleLeaf=[10,20,30,50,80,100]\n",
    "    iterations=[5000]\n",
    "    parameter={'max_depth':max_depth,'min_samples_leaf':minSampleLeaf,'n_estimators':n_estimators,'class_weight':[{1:classOne} for classOne in ones ]}\n",
    "    clfG=GridSearchCV(clf,parameter,scoring=\"f1\",cv=5)\n",
    "    clfG.fit(X,y)\n",
    "    with open('./imdb_model/'+str(i)+'model_new_pkl', 'wb') as files:\n",
    "        pickle.dump(clfG, files)"
   ]
  },
  {
   "cell_type": "code",
   "execution_count": null,
   "id": "348fbd50",
   "metadata": {},
   "outputs": [],
   "source": [
    "allf1=0\n",
    "allrecall=0\n",
    "allprecision=0\n",
    "for i in range(5):    \n",
    "    with open('./imdb_model/'+str(i)+'model_new_pkl' , 'rb') as f:\n",
    "        X=pd.read_csv(str(i)+'_imdb_train_encode.csv')\n",
    "        testlabel=pd.read_csv(str(i)+'_imdb_test_label.csv')['label']\n",
    "        test=pd.read_csv(str(i)+'_imdb_test_encode.csv').reindex(columns=X.columns)\n",
    "        clfG = pickle.load(f)\n",
    "        pre=clfG.predict(test)\n",
    "        print(sum(pre))\n",
    "        print(sum(testlabel))\n",
    "        print('the f1 score is',f1_score(testlabel,pre))\n",
    "        print('the precision score is',precision_score(testlabel,pre))\n",
    "        print('the recall score is ',recall_score(testlabel,pre))\n",
    "        allf1+=f1_score(testlabel,pre)\n",
    "        allrecall+=recall_score(testlabel,pre)\n",
    "        allprecision+=precision_score(testlabel,pre)\n",
    "        print(clfG.best_params_)\n",
    "        print(clfG.best_score_)\n",
    "print('the average f1 of IMDB is',allf1/5)\n",
    "print('the average recall score',allrecall/5)\n",
    "print('the average precision score',allprecision/5)"
   ]
  },
  {
   "cell_type": "markdown",
   "id": "7029cbbd",
   "metadata": {},
   "source": [
    "# Output ONly"
   ]
  },
  {
   "cell_type": "code",
   "execution_count": 12,
   "id": "d76fe922",
   "metadata": {},
   "outputs": [
    {
     "name": "stderr",
     "output_type": "stream",
     "text": [
      "The frame.append method is deprecated and will be removed from pandas in a future version. Use pandas.concat instead.\n",
      "The series.append method is deprecated and will be removed from pandas in a future version. Use pandas.concat instead.\n",
      "The frame.append method is deprecated and will be removed from pandas in a future version. Use pandas.concat instead.\n",
      "The series.append method is deprecated and will be removed from pandas in a future version. Use pandas.concat instead.\n",
      "The frame.append method is deprecated and will be removed from pandas in a future version. Use pandas.concat instead.\n",
      "The series.append method is deprecated and will be removed from pandas in a future version. Use pandas.concat instead.\n",
      "The frame.append method is deprecated and will be removed from pandas in a future version. Use pandas.concat instead.\n",
      "The series.append method is deprecated and will be removed from pandas in a future version. Use pandas.concat instead.\n",
      "The frame.append method is deprecated and will be removed from pandas in a future version. Use pandas.concat instead.\n",
      "The series.append method is deprecated and will be removed from pandas in a future version. Use pandas.concat instead.\n"
     ]
    }
   ],
   "source": [
    "for i in range(5):\n",
    "    X=pd.read_csv(str(i)+'_imdb_train_encode.csv').reindex(columns=['outputscore'])\n",
    "    val=pd.read_csv(str(i)+'_imdb_val_encode.csv').reindex(columns=['outputscore'])\n",
    "    X=X.append(val)\n",
    "    vlabel=pd.read_csv(str(i)+'_imdb_val_label.csv')['label']\n",
    "    y=pd.read_csv(str(i)+'_imdb_train_label.csv')['label']\n",
    "    y=y.append(vlabel)\n",
    "    testlabel=pd.read_csv(str(i)+'_imdb_test_label.csv')['label']\n",
    "    test=pd.read_csv(str(i)+'_imdb_test_encode.csv').reindex(columns=['outputscore'])\n",
    "    clf = RandomForestClassifier()\n",
    "    n_estimators=[1,5,10,20,30,50,70,100,150,200,300]\n",
    "    ones=[1,5,10,20,30,35,5,40,50,100,200,500]\n",
    "    minSampleLeaf=[1,3,5,7,10,20,30,50,80,100,200,250]\n",
    "    iterations=[5000]\n",
    "    parameter={'min_samples_leaf':minSampleLeaf,'n_estimators':n_estimators,'class_weight':[{1:classOne} for classOne in ones ]}\n",
    "    clfG=GridSearchCV(clf,parameter,scoring=\"f1\",cv=5)\n",
    "    clfG.fit(X,y)\n",
    "    with open('./imbd_model_output/'+str(i)+'model_pkl', 'wb') as files:\n",
    "        pickle.dump(clfG, files)"
   ]
  },
  {
   "cell_type": "code",
   "execution_count": 13,
   "id": "c504596c",
   "metadata": {
    "scrolled": true
   },
   "outputs": [
    {
     "name": "stdout",
     "output_type": "stream",
     "text": [
      "28\n",
      "5\n",
      "the f1 score is 0.12121212121212122\n",
      "the precision score is 0.07142857142857142\n",
      "the recall score is  0.4\n",
      "{'class_weight': {1: 100}, 'min_samples_leaf': 7, 'n_estimators': 10}\n",
      "0.1130676760605982\n",
      "11\n",
      "5\n",
      "the f1 score is 0.12500000000000003\n",
      "the precision score is 0.09090909090909091\n",
      "the recall score is  0.2\n",
      "{'class_weight': {1: 20}, 'min_samples_leaf': 50, 'n_estimators': 300}\n",
      "0.10623206567142493\n",
      "8\n",
      "5\n",
      "the f1 score is 0.15384615384615385\n",
      "the precision score is 0.125\n",
      "the recall score is  0.2\n",
      "{'class_weight': {1: 20}, 'min_samples_leaf': 50, 'n_estimators': 50}\n",
      "0.09576923076923076\n",
      "8\n",
      "5\n",
      "the f1 score is 0.15384615384615385\n",
      "the precision score is 0.125\n",
      "the recall score is  0.2\n",
      "{'class_weight': {1: 20}, 'min_samples_leaf': 50, 'n_estimators': 50}\n",
      "0.10105451005840363\n",
      "15\n",
      "5\n",
      "the f1 score is 0.0\n",
      "the precision score is 0.0\n",
      "the recall score is  0.0\n",
      "{'class_weight': {1: 35}, 'min_samples_leaf': 10, 'n_estimators': 150}\n",
      "0.11312121212121214\n",
      "the average f1 of IMDB is 0.11078088578088578\n",
      "the average recall score 0.2\n",
      "the average precision score 0.08246753246753247\n"
     ]
    }
   ],
   "source": [
    "allf1=0\n",
    "allrecall=0\n",
    "allprecision=0\n",
    "for i in range(5):    \n",
    "    with open('./imbd_model_output/'+str(i)+'model_pkl' , 'rb') as f:\n",
    "        X=pd.read_csv(str(i)+'_imdb_train_encode.csv').reindex(columns=['outputscore'])\n",
    "        testlabel=pd.read_csv(str(i)+'_imdb_test_label.csv')['label']\n",
    "        test=pd.read_csv(str(i)+'_imdb_test_encode.csv').reindex(columns=X.columns)\n",
    "        clfG = pickle.load(f)\n",
    "        pre=clfG.predict(test)\n",
    "        print(sum(pre))\n",
    "        print(sum(testlabel))\n",
    "        print('the f1 score is',f1_score(testlabel,pre))\n",
    "        print('the precision score is',precision_score(testlabel,pre))\n",
    "        print('the recall score is ',recall_score(testlabel,pre))\n",
    "        allf1+=f1_score(testlabel,pre)\n",
    "        allrecall+=recall_score(testlabel,pre)\n",
    "        allprecision+=precision_score(testlabel,pre)\n",
    "        print(clfG.best_params_)\n",
    "        print(clfG.best_score_)\n",
    "print('the average f1 of IMDB is',allf1/5)\n",
    "print('the average recall score',allrecall/5)\n",
    "print('the average precision score',allprecision/5)"
   ]
  },
  {
   "cell_type": "code",
   "execution_count": 5,
   "id": "9ea52f7b",
   "metadata": {
    "scrolled": false
   },
   "outputs": [
    {
     "name": "stdout",
     "output_type": "stream",
     "text": [
      "{'class_weight': {1: 20}, 'min_samples_leaf': 30, 'n_estimators': 50}\n"
     ]
    }
   ],
   "source": [
    "print(clfG.best_params_)"
   ]
  },
  {
   "cell_type": "code",
   "execution_count": 6,
   "id": "87734877",
   "metadata": {},
   "outputs": [
    {
     "data": {
      "text/plain": [
       "array([1.])"
      ]
     },
     "execution_count": 6,
     "metadata": {},
     "output_type": "execute_result"
    }
   ],
   "source": [
    "clf=RandomForestClassifier(n_estimators=20,min_samples_leaf=30,class_weight={1:50})\n",
    "clf.fit(test,testlabel)\n",
    "clf.feature_importances_"
   ]
  },
  {
   "cell_type": "markdown",
   "id": "0144783f",
   "metadata": {},
   "source": [
    "# Constraint Only\n"
   ]
  },
  {
   "cell_type": "code",
   "execution_count": null,
   "id": "8452772b",
   "metadata": {},
   "outputs": [],
   "source": []
  },
  {
   "cell_type": "code",
   "execution_count": 14,
   "id": "ba90bad3",
   "metadata": {},
   "outputs": [
    {
     "name": "stdout",
     "output_type": "stream",
     "text": [
      "     primary key_x  foreign key_x  size_x  primary key_y  foreign key_y  \\\n",
      "0                1              0      10              0              1   \n",
      "1                1              0      10              0              1   \n",
      "2                1              0      10              1              0   \n",
      "3                1              0      10              0              1   \n",
      "4                1              0      10              0              1   \n",
      "..             ...            ...     ...            ...            ...   \n",
      "233              0              0      20              0              0   \n",
      "234              0              0      20              0              0   \n",
      "235              0              0      20              0              0   \n",
      "236              0              0      20              0              0   \n",
      "237              0              0      20              0              0   \n",
      "\n",
      "     size_y  YYYY_x  array_x  boolean_x  float_x  integer_x  string_x  \\\n",
      "0      1000       0        0          0        0          0         1   \n",
      "1      1000       0        0          0        0          0         1   \n",
      "2      1000       0        0          0        0          0         1   \n",
      "3      1000       0        0          0        0          0         1   \n",
      "4         1       0        0          0        0          0         1   \n",
      "..      ...     ...      ...        ...      ...        ...       ...   \n",
      "233      13       0        1          0        0          0         0   \n",
      "234      35       0        1          0        0          0         0   \n",
      "235      13       0        1          0        0          0         0   \n",
      "236       3       0        1          0        0          0         0   \n",
      "237       7       0        1          0        0          0         0   \n",
      "\n",
      "     array_y  boolean_y  float_y  integer_y  string_y  timestamp_y  \n",
      "0          0          0        0          1         0            0  \n",
      "1          0          0        0          1         0            0  \n",
      "2          0          0        0          1         0            0  \n",
      "3          0          0        0          1         0            0  \n",
      "4          0          0        0          1         0            0  \n",
      "..       ...        ...      ...        ...       ...          ...  \n",
      "233        0          0        0          0         0            1  \n",
      "234        0          0        0          0         1            0  \n",
      "235        0          0        0          0         0            1  \n",
      "236        1          0        0          0         0            0  \n",
      "237        0          0        1          0         0            0  \n",
      "\n",
      "[2141 rows x 18 columns]\n"
     ]
    },
    {
     "name": "stderr",
     "output_type": "stream",
     "text": [
      "The frame.append method is deprecated and will be removed from pandas in a future version. Use pandas.concat instead.\n",
      "The series.append method is deprecated and will be removed from pandas in a future version. Use pandas.concat instead.\n",
      "The frame.append method is deprecated and will be removed from pandas in a future version. Use pandas.concat instead.\n",
      "The series.append method is deprecated and will be removed from pandas in a future version. Use pandas.concat instead.\n"
     ]
    },
    {
     "name": "stdout",
     "output_type": "stream",
     "text": [
      "     primary key_x  foreign key_x  size_x  primary key_y  foreign key_y  \\\n",
      "0                1              0      10              0              1   \n",
      "1                1              0      10              0              1   \n",
      "2                1              0      10              1              0   \n",
      "3                1              0      10              0              1   \n",
      "4                1              0      10              0              1   \n",
      "..             ...            ...     ...            ...            ...   \n",
      "233              0              0      20              0              0   \n",
      "234              0              0      20              0              0   \n",
      "235              0              0      20              0              0   \n",
      "236              0              0      20              0              0   \n",
      "237              0              0      20              0              0   \n",
      "\n",
      "     size_y  YYYY_x  array_x  boolean_x  float_x  integer_x  string_x  \\\n",
      "0      1000       0        0          0        0          0         1   \n",
      "1      1000       0        0          0        0          0         1   \n",
      "2      1000       0        0          0        0          0         1   \n",
      "3      1000       0        0          0        0          0         1   \n",
      "4         1       0        0          0        0          0         1   \n",
      "..      ...     ...      ...        ...      ...        ...       ...   \n",
      "233      13       0        1          0        0          0         0   \n",
      "234      35       0        1          0        0          0         0   \n",
      "235      13       0        1          0        0          0         0   \n",
      "236       3       0        1          0        0          0         0   \n",
      "237       7       0        1          0        0          0         0   \n",
      "\n",
      "     array_y  boolean_y  float_y  integer_y  string_y  timestamp_y  \n",
      "0          0          0        0          1         0            0  \n",
      "1          0          0        0          1         0            0  \n",
      "2          0          0        0          1         0            0  \n",
      "3          0          0        0          1         0            0  \n",
      "4          0          0        0          1         0            0  \n",
      "..       ...        ...      ...        ...       ...          ...  \n",
      "233        0          0        0          0         0            1  \n",
      "234        0          0        0          0         1            0  \n",
      "235        0          0        0          0         0            1  \n",
      "236        1          0        0          0         0            0  \n",
      "237        0          0        1          0         0            0  \n",
      "\n",
      "[2141 rows x 18 columns]\n"
     ]
    },
    {
     "name": "stderr",
     "output_type": "stream",
     "text": [
      "The frame.append method is deprecated and will be removed from pandas in a future version. Use pandas.concat instead.\n",
      "The series.append method is deprecated and will be removed from pandas in a future version. Use pandas.concat instead.\n"
     ]
    },
    {
     "name": "stdout",
     "output_type": "stream",
     "text": [
      "     primary key_x  foreign key_x  size_x  primary key_y  foreign key_y  \\\n",
      "0                1              0      10              0              1   \n",
      "1                1              0      10              0              1   \n",
      "2                1              0      10              1              0   \n",
      "3                1              0      10              0              1   \n",
      "4                1              0      10              0              1   \n",
      "..             ...            ...     ...            ...            ...   \n",
      "233              0              0      20              0              0   \n",
      "234              0              0      20              0              0   \n",
      "235              0              0      20              0              0   \n",
      "236              0              0      20              0              0   \n",
      "237              0              0      20              0              0   \n",
      "\n",
      "     size_y  YYYY_x  array_x  boolean_x  float_x  integer_x  string_x  \\\n",
      "0      1000       0        0          0        0          0         1   \n",
      "1      1000       0        0          0        0          0         1   \n",
      "2      1000       0        0          0        0          0         1   \n",
      "3      1000       0        0          0        0          0         1   \n",
      "4         1       0        0          0        0          0         1   \n",
      "..      ...     ...      ...        ...      ...        ...       ...   \n",
      "233      13       0        1          0        0          0         0   \n",
      "234      35       0        1          0        0          0         0   \n",
      "235      13       0        1          0        0          0         0   \n",
      "236       3       0        1          0        0          0         0   \n",
      "237       7       0        1          0        0          0         0   \n",
      "\n",
      "     array_y  boolean_y  float_y  integer_y  string_y  timestamp_y  \n",
      "0          0          0        0          1         0            0  \n",
      "1          0          0        0          1         0            0  \n",
      "2          0          0        0          1         0            0  \n",
      "3          0          0        0          1         0            0  \n",
      "4          0          0        0          1         0            0  \n",
      "..       ...        ...      ...        ...       ...          ...  \n",
      "233        0          0        0          0         0            1  \n",
      "234        0          0        0          0         1            0  \n",
      "235        0          0        0          0         0            1  \n",
      "236        1          0        0          0         0            0  \n",
      "237        0          0        1          0         0            0  \n",
      "\n",
      "[2141 rows x 18 columns]\n"
     ]
    },
    {
     "name": "stderr",
     "output_type": "stream",
     "text": [
      "The frame.append method is deprecated and will be removed from pandas in a future version. Use pandas.concat instead.\n",
      "The series.append method is deprecated and will be removed from pandas in a future version. Use pandas.concat instead.\n"
     ]
    },
    {
     "name": "stdout",
     "output_type": "stream",
     "text": [
      "     primary key_x  foreign key_x  size_x  primary key_y  foreign key_y  \\\n",
      "0                1              0      10              0              1   \n",
      "1                1              0      10              0              1   \n",
      "2                1              0      10              1              0   \n",
      "3                1              0      10              0              1   \n",
      "4                1              0      10              0              1   \n",
      "..             ...            ...     ...            ...            ...   \n",
      "233              0              0      20              0              0   \n",
      "234              0              0      20              0              0   \n",
      "235              0              0      20              0              0   \n",
      "236              0              0      20              0              0   \n",
      "237              0              0      20              0              0   \n",
      "\n",
      "     size_y  YYYY_x  array_x  boolean_x  float_x  integer_x  string_x  \\\n",
      "0      1000       0        0          0        0          0         1   \n",
      "1      1000       0        0          0        0          0         1   \n",
      "2      1000       0        0          0        0          0         1   \n",
      "3      1000       0        0          0        0          0         1   \n",
      "4         1       0        0          0        0          0         1   \n",
      "..      ...     ...      ...        ...      ...        ...       ...   \n",
      "233      13       0        1          0        0          0         0   \n",
      "234      35       0        1          0        0          0         0   \n",
      "235      13       0        1          0        0          0         0   \n",
      "236       3       0        1          0        0          0         0   \n",
      "237       7       0        1          0        0          0         0   \n",
      "\n",
      "     array_y  boolean_y  float_y  integer_y  string_y  timestamp_y  \n",
      "0          0          0        0          1         0            0  \n",
      "1          0          0        0          1         0            0  \n",
      "2          0          0        0          1         0            0  \n",
      "3          0          0        0          1         0            0  \n",
      "4          0          0        0          1         0            0  \n",
      "..       ...        ...      ...        ...       ...          ...  \n",
      "233        0          0        0          0         0            1  \n",
      "234        0          0        0          0         1            0  \n",
      "235        0          0        0          0         0            1  \n",
      "236        1          0        0          0         0            0  \n",
      "237        0          0        1          0         0            0  \n",
      "\n",
      "[2141 rows x 18 columns]\n"
     ]
    },
    {
     "name": "stderr",
     "output_type": "stream",
     "text": [
      "The frame.append method is deprecated and will be removed from pandas in a future version. Use pandas.concat instead.\n",
      "The series.append method is deprecated and will be removed from pandas in a future version. Use pandas.concat instead.\n"
     ]
    },
    {
     "name": "stdout",
     "output_type": "stream",
     "text": [
      "     primary key_x  foreign key_x  size_x  primary key_y  foreign key_y  \\\n",
      "0                1              0      10              0              1   \n",
      "1                1              0      10              0              1   \n",
      "2                1              0      10              1              0   \n",
      "3                1              0      10              0              1   \n",
      "4                1              0      10              0              1   \n",
      "..             ...            ...     ...            ...            ...   \n",
      "233              0              0      20              0              0   \n",
      "234              0              0      20              0              0   \n",
      "235              0              0      20              0              0   \n",
      "236              0              0      20              0              0   \n",
      "237              0              0      20              0              0   \n",
      "\n",
      "     size_y  YYYY_x  array_x  boolean_x  float_x  integer_x  string_x  \\\n",
      "0      1000       0        0          0        0          0         1   \n",
      "1      1000       0        0          0        0          0         1   \n",
      "2      1000       0        0          0        0          0         1   \n",
      "3      1000       0        0          0        0          0         1   \n",
      "4         1       0        0          0        0          0         1   \n",
      "..      ...     ...      ...        ...      ...        ...       ...   \n",
      "233      13       0        1          0        0          0         0   \n",
      "234      35       0        1          0        0          0         0   \n",
      "235      13       0        1          0        0          0         0   \n",
      "236       3       0        1          0        0          0         0   \n",
      "237       7       0        1          0        0          0         0   \n",
      "\n",
      "     array_y  boolean_y  float_y  integer_y  string_y  timestamp_y  \n",
      "0          0          0        0          1         0            0  \n",
      "1          0          0        0          1         0            0  \n",
      "2          0          0        0          1         0            0  \n",
      "3          0          0        0          1         0            0  \n",
      "4          0          0        0          1         0            0  \n",
      "..       ...        ...      ...        ...       ...          ...  \n",
      "233        0          0        0          0         0            1  \n",
      "234        0          0        0          0         1            0  \n",
      "235        0          0        0          0         0            1  \n",
      "236        1          0        0          0         0            0  \n",
      "237        0          0        1          0         0            0  \n",
      "\n",
      "[2141 rows x 18 columns]\n"
     ]
    }
   ],
   "source": [
    "for i in range(5):\n",
    "    X=pd.read_csv(str(i)+'_imdb_train_encode.csv').drop(columns=['outputscore'])\n",
    "    val=pd.read_csv(str(i)+'_imdb_val_encode.csv').drop(columns=['outputscore'])\n",
    "    X=X.append(val)\n",
    "    print(X)\n",
    "    vlabel=pd.read_csv(str(i)+'_imdb_val_label.csv')['label']\n",
    "    y=pd.read_csv(str(i)+'_imdb_train_label.csv')['label']\n",
    "    y=y.append(vlabel)\n",
    "    testlabel=pd.read_csv(str(i)+'_imdb_test_label.csv')['label']\n",
    "    test=pd.read_csv(str(i)+'_imdb_test_encode.csv').reindex(columns=X.columns)\n",
    "    clf = RandomForestClassifier()\n",
    "    n_estimators=[1,5,10,20,30,50,70,100,150,200,300]\n",
    "    ones=[1,5,10,20,30,35,5,40,50,100,200,500]\n",
    "    minSampleLeaf=[1,3,5,7,10,20,30,50,80,100,200,250]\n",
    "    iterations=[5000]\n",
    "    parameter={'min_samples_leaf':minSampleLeaf,'n_estimators':n_estimators,'class_weight':[{1:classOne} for classOne in ones ]}\n",
    "    clfG=GridSearchCV(clf,parameter,scoring=\"f1\",cv=5)\n",
    "    clfG.fit(X,y)\n",
    "    with open('./imbd_model_constraint/'+str(i)+'model_pkl', 'wb') as files:\n",
    "        pickle.dump(clfG, files)"
   ]
  },
  {
   "cell_type": "code",
   "execution_count": 15,
   "id": "61fc5432",
   "metadata": {
    "scrolled": true
   },
   "outputs": [
    {
     "name": "stdout",
     "output_type": "stream",
     "text": [
      "1\n",
      "5\n",
      "the f1 score is 0.33333333333333337\n",
      "the precision score is 1.0\n",
      "the recall score is  0.2\n",
      "{'class_weight': {1: 5}, 'min_samples_leaf': 7, 'n_estimators': 5}\n",
      "0.4554706163401816\n",
      "3\n",
      "5\n",
      "the f1 score is 0.25\n",
      "the precision score is 0.3333333333333333\n",
      "the recall score is  0.2\n",
      "{'class_weight': {1: 20}, 'min_samples_leaf': 80, 'n_estimators': 10}\n",
      "0.43111111111111117\n",
      "1\n",
      "5\n",
      "the f1 score is 0.33333333333333337\n",
      "the precision score is 1.0\n",
      "the recall score is  0.2\n",
      "{'class_weight': {1: 20}, 'min_samples_leaf': 50, 'n_estimators': 50}\n",
      "0.45760377729687196\n",
      "1\n",
      "5\n",
      "the f1 score is 0.33333333333333337\n",
      "the precision score is 1.0\n",
      "the recall score is  0.2\n",
      "{'class_weight': {1: 20}, 'min_samples_leaf': 80, 'n_estimators': 100}\n",
      "0.47461753932342166\n",
      "2\n",
      "5\n",
      "the f1 score is 0.28571428571428575\n",
      "the precision score is 0.5\n",
      "the recall score is  0.2\n",
      "{'class_weight': {1: 5}, 'min_samples_leaf': 7, 'n_estimators': 5}\n",
      "0.4543939393939394\n",
      "the average f1 of IMDB is 0.30714285714285716\n",
      "the average recall score 0.2\n",
      "the average precision score 0.7666666666666666\n"
     ]
    }
   ],
   "source": [
    "allf1=0\n",
    "allrecall=0\n",
    "allprecision=0\n",
    "for i in range(5):    \n",
    "    with open('./imbd_model_constraint/'+str(i)+'model_pkl' , 'rb') as f:\n",
    "        X=pd.read_csv(str(i)+'_imdb_train_encode.csv').drop(columns=['outputscore'])\n",
    "        testlabel=pd.read_csv(str(i)+'_imdb_test_label.csv')['label']\n",
    "        test=pd.read_csv(str(i)+'_imdb_test_encode.csv').reindex(columns=X.columns)\n",
    "        clfG = pickle.load(f)\n",
    "        pre=clfG.predict(test)\n",
    "        print(sum(pre))\n",
    "        print(sum(testlabel))\n",
    "        print('the f1 score is',f1_score(testlabel,pre))\n",
    "        print('the precision score is',precision_score(testlabel,pre))\n",
    "        print('the recall score is ',recall_score(testlabel,pre))\n",
    "        allf1+=f1_score(testlabel,pre)\n",
    "        allrecall+=recall_score(testlabel,pre)\n",
    "        allprecision+=precision_score(testlabel,pre)\n",
    "        print(clfG.best_params_)\n",
    "        print(clfG.best_score_)\n",
    "print('the average f1 of IMDB is',allf1/5)\n",
    "print('the average recall score',allrecall/5)\n",
    "print('the average precision score',allprecision/5)"
   ]
  },
  {
   "cell_type": "code",
   "execution_count": null,
   "id": "450727ef",
   "metadata": {},
   "outputs": [],
   "source": []
  }
 ],
 "metadata": {
  "kernelspec": {
   "display_name": "Python 3 (ipykernel)",
   "language": "python",
   "name": "python3"
  },
  "language_info": {
   "codemirror_mode": {
    "name": "ipython",
    "version": 3
   },
   "file_extension": ".py",
   "mimetype": "text/x-python",
   "name": "python",
   "nbconvert_exporter": "python",
   "pygments_lexer": "ipython3",
   "version": "3.10.1"
  }
 },
 "nbformat": 4,
 "nbformat_minor": 5
}

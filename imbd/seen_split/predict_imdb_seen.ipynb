{
 "cells": [
  {
   "cell_type": "code",
   "execution_count": 8,
   "id": "37513dab",
   "metadata": {},
   "outputs": [],
   "source": [
    "import pandas as pd\n",
    "from sklearn.model_selection import GridSearchCV\n",
    "from sklearn.ensemble import RandomForestClassifier\n",
    "import pickle\n",
    "from joblib import dump,load\n",
    "from sklearn.metrics import classification_report,f1_score,recall_score,precision_score\n",
    "import shap\n",
    "from matplotlib import pyplot\n"
   ]
  },
  {
   "cell_type": "code",
   "execution_count": 10,
   "id": "7b28b83e",
   "metadata": {},
   "outputs": [
    {
     "name": "stderr",
     "output_type": "stream",
     "text": [
      "The frame.append method is deprecated and will be removed from pandas in a future version. Use pandas.concat instead.\n",
      "The series.append method is deprecated and will be removed from pandas in a future version. Use pandas.concat instead.\n",
      "The frame.append method is deprecated and will be removed from pandas in a future version. Use pandas.concat instead.\n",
      "The series.append method is deprecated and will be removed from pandas in a future version. Use pandas.concat instead.\n",
      "The frame.append method is deprecated and will be removed from pandas in a future version. Use pandas.concat instead.\n",
      "The series.append method is deprecated and will be removed from pandas in a future version. Use pandas.concat instead.\n",
      "The frame.append method is deprecated and will be removed from pandas in a future version. Use pandas.concat instead.\n",
      "The series.append method is deprecated and will be removed from pandas in a future version. Use pandas.concat instead.\n",
      "The frame.append method is deprecated and will be removed from pandas in a future version. Use pandas.concat instead.\n",
      "The series.append method is deprecated and will be removed from pandas in a future version. Use pandas.concat instead.\n"
     ]
    }
   ],
   "source": [
    "for i in range(5):\n",
    "    X=pd.read_csv(str(i)+'_imdb_train_encode.csv')\n",
    "    val=pd.read_csv(str(i)+'_imdb_val_encode.csv')\n",
    "    X=X.append(val)\n",
    "    X=X.fillna(0)\n",
    "    vlabel=pd.read_csv(str(i)+'_imdb_val_label.csv')['label']\n",
    "    y=pd.read_csv(str(i)+'_imdb_train_label.csv')['label']\n",
    "    y=y.append(vlabel)\n",
    "    testlabel=pd.read_csv(str(i)+'_imdb_test_label.csv')['label']\n",
    "    test=pd.read_csv(str(i)+'_imdb_test_encode.csv').reindex(columns=X.columns)\n",
    "    clf = RandomForestClassifier(criterion='entropy',bootstrap=False)\n",
    "    n_estimators=[70,100,150,200]\n",
    "    ones=[20,30,35,5,40,50]\n",
    "    max_depth=[10,15,20]\n",
    "    minSampleLeaf=[10,20,30,50,80,100]\n",
    "    iterations=[5000]\n",
    "    parameter={'max_depth':max_depth,'min_samples_leaf':minSampleLeaf,'n_estimators':n_estimators,'class_weight':[{1:classOne} for classOne in ones ]}\n",
    "    clfG=GridSearchCV(clf,parameter,scoring=\"f1\",cv=5)\n",
    "    clfG.fit(X,y)\n",
    "    with open('./imdb_model/'+str(i)+'model_new_pkl', 'wb') as files:\n",
    "        pickle.dump(clfG, files)"
   ]
  },
  {
   "cell_type": "code",
   "execution_count": 13,
   "id": "348fbd50",
   "metadata": {},
   "outputs": [
    {
     "name": "stdout",
     "output_type": "stream",
     "text": [
      "6\n",
      "5\n",
      "the f1 score is 0.7272727272727272\n",
      "the precision score is 0.6666666666666666\n",
      "the recall score is  0.8\n",
      "{'class_weight': {1: 5}, 'max_depth': 15, 'min_samples_leaf': 10, 'n_estimators': 100}\n",
      "0.8387944664031621\n",
      "6\n",
      "5\n",
      "the f1 score is 0.9090909090909091\n",
      "the precision score is 0.8333333333333334\n",
      "the recall score is  1.0\n",
      "{'class_weight': {1: 5}, 'max_depth': 20, 'min_samples_leaf': 10, 'n_estimators': 70}\n",
      "0.9036532507739938\n",
      "9\n",
      "5\n",
      "the f1 score is 0.7142857142857143\n",
      "the precision score is 0.5555555555555556\n",
      "the recall score is  1.0\n",
      "{'class_weight': {1: 20}, 'max_depth': 10, 'min_samples_leaf': 30, 'n_estimators': 70}\n",
      "0.8559006211180125\n",
      "3\n",
      "5\n",
      "the f1 score is 0.7499999999999999\n",
      "the precision score is 1.0\n",
      "the recall score is  0.6\n",
      "{'class_weight': {1: 5}, 'max_depth': 10, 'min_samples_leaf': 10, 'n_estimators': 100}\n",
      "0.8828070175438597\n",
      "6\n",
      "5\n",
      "the f1 score is 0.9090909090909091\n",
      "the precision score is 0.8333333333333334\n",
      "the recall score is  1.0\n",
      "{'class_weight': {1: 5}, 'max_depth': 10, 'min_samples_leaf': 10, 'n_estimators': 150}\n",
      "0.8890123034859878\n",
      "the average f1 of IMDB is 0.8019480519480519\n",
      "the average recall score 0.8800000000000001\n",
      "the average precision score 0.7777777777777778\n"
     ]
    }
   ],
   "source": [
    "allf1=0\n",
    "allrecall=0\n",
    "allprecision=0\n",
    "for i in range(5):    \n",
    "    with open('./imdb_model/'+str(i)+'model_new_pkl' , 'rb') as f:\n",
    "        X=pd.read_csv(str(i)+'_imdb_train_encode.csv')\n",
    "        testlabel=pd.read_csv(str(i)+'_imdb_test_label.csv')['label']\n",
    "        test=pd.read_csv(str(i)+'_imdb_test_encode.csv').reindex(columns=X.columns)\n",
    "        test=test.fillna(0)\n",
    "        clfG = pickle.load(f)\n",
    "        pre=clfG.predict(test)\n",
    "        print(sum(pre))\n",
    "        print(sum(testlabel))\n",
    "        print('the f1 score is',f1_score(testlabel,pre))\n",
    "        print('the precision score is',precision_score(testlabel,pre))\n",
    "        print('the recall score is ',recall_score(testlabel,pre))\n",
    "        allf1+=f1_score(testlabel,pre)\n",
    "        allrecall+=recall_score(testlabel,pre)\n",
    "        allprecision+=precision_score(testlabel,pre)\n",
    "        print(clfG.best_params_)\n",
    "        print(clfG.best_score_)\n",
    "print('the average f1 of IMDB is',allf1/5)\n",
    "print('the average recall score',allrecall/5)\n",
    "print('the average precision score',allprecision/5)"
   ]
  },
  {
   "cell_type": "markdown",
   "id": "7029cbbd",
   "metadata": {},
   "source": [
    "# Output ONly"
   ]
  },
  {
   "cell_type": "code",
   "execution_count": 12,
   "id": "d76fe922",
   "metadata": {},
   "outputs": [
    {
     "name": "stderr",
     "output_type": "stream",
     "text": [
      "The frame.append method is deprecated and will be removed from pandas in a future version. Use pandas.concat instead.\n",
      "The series.append method is deprecated and will be removed from pandas in a future version. Use pandas.concat instead.\n",
      "The frame.append method is deprecated and will be removed from pandas in a future version. Use pandas.concat instead.\n",
      "The series.append method is deprecated and will be removed from pandas in a future version. Use pandas.concat instead.\n",
      "The frame.append method is deprecated and will be removed from pandas in a future version. Use pandas.concat instead.\n",
      "The series.append method is deprecated and will be removed from pandas in a future version. Use pandas.concat instead.\n",
      "The frame.append method is deprecated and will be removed from pandas in a future version. Use pandas.concat instead.\n",
      "The series.append method is deprecated and will be removed from pandas in a future version. Use pandas.concat instead.\n",
      "The frame.append method is deprecated and will be removed from pandas in a future version. Use pandas.concat instead.\n",
      "The series.append method is deprecated and will be removed from pandas in a future version. Use pandas.concat instead.\n"
     ]
    }
   ],
   "source": [
    "for i in range(5):\n",
    "    X=pd.read_csv(str(i)+'_imdb_train_encode.csv').reindex(columns=['outputscore'])\n",
    "    val=pd.read_csv(str(i)+'_imdb_val_encode.csv').reindex(columns=['outputscore'])\n",
    "    X=X.append(val)\n",
    "    vlabel=pd.read_csv(str(i)+'_imdb_val_label.csv')['label']\n",
    "    y=pd.read_csv(str(i)+'_imdb_train_label.csv')['label']\n",
    "    y=y.append(vlabel)\n",
    "    testlabel=pd.read_csv(str(i)+'_imdb_test_label.csv')['label']\n",
    "    test=pd.read_csv(str(i)+'_imdb_test_encode.csv').reindex(columns=['outputscore'])\n",
    "    clf = RandomForestClassifier()\n",
    "    n_estimators=[1,5,10,20,30,50,70,100,150,200,300]\n",
    "    ones=[1,5,10,20,30,35,5,40,50,100,200,500]\n",
    "    minSampleLeaf=[1,3,5,7,10,20,30,50,80,100,200,250]\n",
    "    iterations=[5000]\n",
    "    parameter={'min_samples_leaf':minSampleLeaf,'n_estimators':n_estimators,'class_weight':[{1:classOne} for classOne in ones ]}\n",
    "    clfG=GridSearchCV(clf,parameter,scoring=\"f1\",cv=5)\n",
    "    clfG.fit(X,y)\n",
    "    with open('./imbd_model_output/'+str(i)+'model_pkl', 'wb') as files:\n",
    "        pickle.dump(clfG, files)"
   ]
  },
  {
   "cell_type": "code",
   "execution_count": 13,
   "id": "c504596c",
   "metadata": {
    "scrolled": true
   },
   "outputs": [
    {
     "name": "stdout",
     "output_type": "stream",
     "text": [
      "28\n",
      "5\n",
      "the f1 score is 0.12121212121212122\n",
      "the precision score is 0.07142857142857142\n",
      "the recall score is  0.4\n",
      "{'class_weight': {1: 100}, 'min_samples_leaf': 7, 'n_estimators': 10}\n",
      "0.1130676760605982\n",
      "11\n",
      "5\n",
      "the f1 score is 0.12500000000000003\n",
      "the precision score is 0.09090909090909091\n",
      "the recall score is  0.2\n",
      "{'class_weight': {1: 20}, 'min_samples_leaf': 50, 'n_estimators': 300}\n",
      "0.10623206567142493\n",
      "8\n",
      "5\n",
      "the f1 score is 0.15384615384615385\n",
      "the precision score is 0.125\n",
      "the recall score is  0.2\n",
      "{'class_weight': {1: 20}, 'min_samples_leaf': 50, 'n_estimators': 50}\n",
      "0.09576923076923076\n",
      "8\n",
      "5\n",
      "the f1 score is 0.15384615384615385\n",
      "the precision score is 0.125\n",
      "the recall score is  0.2\n",
      "{'class_weight': {1: 20}, 'min_samples_leaf': 50, 'n_estimators': 50}\n",
      "0.10105451005840363\n",
      "15\n",
      "5\n",
      "the f1 score is 0.0\n",
      "the precision score is 0.0\n",
      "the recall score is  0.0\n",
      "{'class_weight': {1: 35}, 'min_samples_leaf': 10, 'n_estimators': 150}\n",
      "0.11312121212121214\n",
      "the average f1 of IMDB is 0.11078088578088578\n",
      "the average recall score 0.2\n",
      "the average precision score 0.08246753246753247\n"
     ]
    }
   ],
   "source": [
    "allf1=0\n",
    "allrecall=0\n",
    "allprecision=0\n",
    "for i in range(5):    \n",
    "    with open('./imbd_model_output/'+str(i)+'model_pkl' , 'rb') as f:\n",
    "        X=pd.read_csv(str(i)+'_imdb_train_encode.csv').reindex(columns=['outputscore'])\n",
    "        testlabel=pd.read_csv(str(i)+'_imdb_test_label.csv')['label']\n",
    "        test=pd.read_csv(str(i)+'_imdb_test_encode.csv').reindex(columns=X.columns)\n",
    "        clfG = pickle.load(f)\n",
    "        pre=clfG.predict(test)\n",
    "        print(sum(pre))\n",
    "        print(sum(testlabel))\n",
    "        print('the f1 score is',f1_score(testlabel,pre))\n",
    "        print('the precision score is',precision_score(testlabel,pre))\n",
    "        print('the recall score is ',recall_score(testlabel,pre))\n",
    "        allf1+=f1_score(testlabel,pre)\n",
    "        allrecall+=recall_score(testlabel,pre)\n",
    "        allprecision+=precision_score(testlabel,pre)\n",
    "        print(clfG.best_params_)\n",
    "        print(clfG.best_score_)\n",
    "print('the average f1 of IMDB is',allf1/5)\n",
    "print('the average recall score',allrecall/5)\n",
    "print('the average precision score',allprecision/5)"
   ]
  },
  {
   "cell_type": "code",
   "execution_count": 5,
   "id": "9ea52f7b",
   "metadata": {
    "scrolled": false
   },
   "outputs": [
    {
     "name": "stdout",
     "output_type": "stream",
     "text": [
      "{'class_weight': {1: 20}, 'min_samples_leaf': 30, 'n_estimators': 50}\n"
     ]
    }
   ],
   "source": [
    "print(clfG.best_params_)"
   ]
  },
  {
   "cell_type": "code",
   "execution_count": 6,
   "id": "87734877",
   "metadata": {},
   "outputs": [
    {
     "data": {
      "text/plain": [
       "array([1.])"
      ]
     },
     "execution_count": 6,
     "metadata": {},
     "output_type": "execute_result"
    }
   ],
   "source": [
    "clf=RandomForestClassifier(n_estimators=20,min_samples_leaf=30,class_weight={1:50})\n",
    "clf.fit(test,testlabel)\n",
    "clf.feature_importances_"
   ]
  },
  {
   "cell_type": "markdown",
   "id": "0144783f",
   "metadata": {},
   "source": [
    "# Constraint Only\n"
   ]
  },
  {
   "cell_type": "code",
   "execution_count": null,
   "id": "8452772b",
   "metadata": {},
   "outputs": [],
   "source": []
  },
  {
   "cell_type": "code",
   "execution_count": 14,
   "id": "ba90bad3",
   "metadata": {},
   "outputs": [
    {
     "name": "stdout",
     "output_type": "stream",
     "text": [
      "     primary key_x  foreign key_x  size_x  primary key_y  foreign key_y  \\\n",
      "0                1              0      10              0              1   \n",
      "1                1              0      10              0              1   \n",
      "2                1              0      10              1              0   \n",
      "3                1              0      10              0              1   \n",
      "4                1              0      10              0              1   \n",
      "..             ...            ...     ...            ...            ...   \n",
      "233              0              0      20              0              0   \n",
      "234              0              0      20              0              0   \n",
      "235              0              0      20              0              0   \n",
      "236              0              0      20              0              0   \n",
      "237              0              0      20              0              0   \n",
      "\n",
      "     size_y  YYYY_x  array_x  boolean_x  float_x  integer_x  string_x  \\\n",
      "0      1000       0        0          0        0          0         1   \n",
      "1      1000       0        0          0        0          0         1   \n",
      "2      1000       0        0          0        0          0         1   \n",
      "3      1000       0        0          0        0          0         1   \n",
      "4         1       0        0          0        0          0         1   \n",
      "..      ...     ...      ...        ...      ...        ...       ...   \n",
      "233      13       0        1          0        0          0         0   \n",
      "234      35       0        1          0        0          0         0   \n",
      "235      13       0        1          0        0          0         0   \n",
      "236       3       0        1          0        0          0         0   \n",
      "237       7       0        1          0        0          0         0   \n",
      "\n",
      "     array_y  boolean_y  float_y  integer_y  string_y  timestamp_y  \n",
      "0          0          0        0          1         0            0  \n",
      "1          0          0        0          1         0            0  \n",
      "2          0          0        0          1         0            0  \n",
      "3          0          0        0          1         0            0  \n",
      "4          0          0        0          1         0            0  \n",
      "..       ...        ...      ...        ...       ...          ...  \n",
      "233        0          0        0          0         0            1  \n",
      "234        0          0        0          0         1            0  \n",
      "235        0          0        0          0         0            1  \n",
      "236        1          0        0          0         0            0  \n",
      "237        0          0        1          0         0            0  \n",
      "\n",
      "[2141 rows x 18 columns]\n"
     ]
    },
    {
     "name": "stderr",
     "output_type": "stream",
     "text": [
      "The frame.append method is deprecated and will be removed from pandas in a future version. Use pandas.concat instead.\n",
      "The series.append method is deprecated and will be removed from pandas in a future version. Use pandas.concat instead.\n",
      "The frame.append method is deprecated and will be removed from pandas in a future version. Use pandas.concat instead.\n",
      "The series.append method is deprecated and will be removed from pandas in a future version. Use pandas.concat instead.\n"
     ]
    },
    {
     "name": "stdout",
     "output_type": "stream",
     "text": [
      "     primary key_x  foreign key_x  size_x  primary key_y  foreign key_y  \\\n",
      "0                1              0      10              0              1   \n",
      "1                1              0      10              0              1   \n",
      "2                1              0      10              1              0   \n",
      "3                1              0      10              0              1   \n",
      "4                1              0      10              0              1   \n",
      "..             ...            ...     ...            ...            ...   \n",
      "233              0              0      20              0              0   \n",
      "234              0              0      20              0              0   \n",
      "235              0              0      20              0              0   \n",
      "236              0              0      20              0              0   \n",
      "237              0              0      20              0              0   \n",
      "\n",
      "     size_y  YYYY_x  array_x  boolean_x  float_x  integer_x  string_x  \\\n",
      "0      1000       0        0          0        0          0         1   \n",
      "1      1000       0        0          0        0          0         1   \n",
      "2      1000       0        0          0        0          0         1   \n",
      "3      1000       0        0          0        0          0         1   \n",
      "4         1       0        0          0        0          0         1   \n",
      "..      ...     ...      ...        ...      ...        ...       ...   \n",
      "233      13       0        1          0        0          0         0   \n",
      "234      35       0        1          0        0          0         0   \n",
      "235      13       0        1          0        0          0         0   \n",
      "236       3       0        1          0        0          0         0   \n",
      "237       7       0        1          0        0          0         0   \n",
      "\n",
      "     array_y  boolean_y  float_y  integer_y  string_y  timestamp_y  \n",
      "0          0          0        0          1         0            0  \n",
      "1          0          0        0          1         0            0  \n",
      "2          0          0        0          1         0            0  \n",
      "3          0          0        0          1         0            0  \n",
      "4          0          0        0          1         0            0  \n",
      "..       ...        ...      ...        ...       ...          ...  \n",
      "233        0          0        0          0         0            1  \n",
      "234        0          0        0          0         1            0  \n",
      "235        0          0        0          0         0            1  \n",
      "236        1          0        0          0         0            0  \n",
      "237        0          0        1          0         0            0  \n",
      "\n",
      "[2141 rows x 18 columns]\n"
     ]
    },
    {
     "name": "stderr",
     "output_type": "stream",
     "text": [
      "The frame.append method is deprecated and will be removed from pandas in a future version. Use pandas.concat instead.\n",
      "The series.append method is deprecated and will be removed from pandas in a future version. Use pandas.concat instead.\n"
     ]
    },
    {
     "name": "stdout",
     "output_type": "stream",
     "text": [
      "     primary key_x  foreign key_x  size_x  primary key_y  foreign key_y  \\\n",
      "0                1              0      10              0              1   \n",
      "1                1              0      10              0              1   \n",
      "2                1              0      10              1              0   \n",
      "3                1              0      10              0              1   \n",
      "4                1              0      10              0              1   \n",
      "..             ...            ...     ...            ...            ...   \n",
      "233              0              0      20              0              0   \n",
      "234              0              0      20              0              0   \n",
      "235              0              0      20              0              0   \n",
      "236              0              0      20              0              0   \n",
      "237              0              0      20              0              0   \n",
      "\n",
      "     size_y  YYYY_x  array_x  boolean_x  float_x  integer_x  string_x  \\\n",
      "0      1000       0        0          0        0          0         1   \n",
      "1      1000       0        0          0        0          0         1   \n",
      "2      1000       0        0          0        0          0         1   \n",
      "3      1000       0        0          0        0          0         1   \n",
      "4         1       0        0          0        0          0         1   \n",
      "..      ...     ...      ...        ...      ...        ...       ...   \n",
      "233      13       0        1          0        0          0         0   \n",
      "234      35       0        1          0        0          0         0   \n",
      "235      13       0        1          0        0          0         0   \n",
      "236       3       0        1          0        0          0         0   \n",
      "237       7       0        1          0        0          0         0   \n",
      "\n",
      "     array_y  boolean_y  float_y  integer_y  string_y  timestamp_y  \n",
      "0          0          0        0          1         0            0  \n",
      "1          0          0        0          1         0            0  \n",
      "2          0          0        0          1         0            0  \n",
      "3          0          0        0          1         0            0  \n",
      "4          0          0        0          1         0            0  \n",
      "..       ...        ...      ...        ...       ...          ...  \n",
      "233        0          0        0          0         0            1  \n",
      "234        0          0        0          0         1            0  \n",
      "235        0          0        0          0         0            1  \n",
      "236        1          0        0          0         0            0  \n",
      "237        0          0        1          0         0            0  \n",
      "\n",
      "[2141 rows x 18 columns]\n"
     ]
    },
    {
     "name": "stderr",
     "output_type": "stream",
     "text": [
      "The frame.append method is deprecated and will be removed from pandas in a future version. Use pandas.concat instead.\n",
      "The series.append method is deprecated and will be removed from pandas in a future version. Use pandas.concat instead.\n"
     ]
    },
    {
     "name": "stdout",
     "output_type": "stream",
     "text": [
      "     primary key_x  foreign key_x  size_x  primary key_y  foreign key_y  \\\n",
      "0                1              0      10              0              1   \n",
      "1                1              0      10              0              1   \n",
      "2                1              0      10              1              0   \n",
      "3                1              0      10              0              1   \n",
      "4                1              0      10              0              1   \n",
      "..             ...            ...     ...            ...            ...   \n",
      "233              0              0      20              0              0   \n",
      "234              0              0      20              0              0   \n",
      "235              0              0      20              0              0   \n",
      "236              0              0      20              0              0   \n",
      "237              0              0      20              0              0   \n",
      "\n",
      "     size_y  YYYY_x  array_x  boolean_x  float_x  integer_x  string_x  \\\n",
      "0      1000       0        0          0        0          0         1   \n",
      "1      1000       0        0          0        0          0         1   \n",
      "2      1000       0        0          0        0          0         1   \n",
      "3      1000       0        0          0        0          0         1   \n",
      "4         1       0        0          0        0          0         1   \n",
      "..      ...     ...      ...        ...      ...        ...       ...   \n",
      "233      13       0        1          0        0          0         0   \n",
      "234      35       0        1          0        0          0         0   \n",
      "235      13       0        1          0        0          0         0   \n",
      "236       3       0        1          0        0          0         0   \n",
      "237       7       0        1          0        0          0         0   \n",
      "\n",
      "     array_y  boolean_y  float_y  integer_y  string_y  timestamp_y  \n",
      "0          0          0        0          1         0            0  \n",
      "1          0          0        0          1         0            0  \n",
      "2          0          0        0          1         0            0  \n",
      "3          0          0        0          1         0            0  \n",
      "4          0          0        0          1         0            0  \n",
      "..       ...        ...      ...        ...       ...          ...  \n",
      "233        0          0        0          0         0            1  \n",
      "234        0          0        0          0         1            0  \n",
      "235        0          0        0          0         0            1  \n",
      "236        1          0        0          0         0            0  \n",
      "237        0          0        1          0         0            0  \n",
      "\n",
      "[2141 rows x 18 columns]\n"
     ]
    },
    {
     "name": "stderr",
     "output_type": "stream",
     "text": [
      "The frame.append method is deprecated and will be removed from pandas in a future version. Use pandas.concat instead.\n",
      "The series.append method is deprecated and will be removed from pandas in a future version. Use pandas.concat instead.\n"
     ]
    },
    {
     "name": "stdout",
     "output_type": "stream",
     "text": [
      "     primary key_x  foreign key_x  size_x  primary key_y  foreign key_y  \\\n",
      "0                1              0      10              0              1   \n",
      "1                1              0      10              0              1   \n",
      "2                1              0      10              1              0   \n",
      "3                1              0      10              0              1   \n",
      "4                1              0      10              0              1   \n",
      "..             ...            ...     ...            ...            ...   \n",
      "233              0              0      20              0              0   \n",
      "234              0              0      20              0              0   \n",
      "235              0              0      20              0              0   \n",
      "236              0              0      20              0              0   \n",
      "237              0              0      20              0              0   \n",
      "\n",
      "     size_y  YYYY_x  array_x  boolean_x  float_x  integer_x  string_x  \\\n",
      "0      1000       0        0          0        0          0         1   \n",
      "1      1000       0        0          0        0          0         1   \n",
      "2      1000       0        0          0        0          0         1   \n",
      "3      1000       0        0          0        0          0         1   \n",
      "4         1       0        0          0        0          0         1   \n",
      "..      ...     ...      ...        ...      ...        ...       ...   \n",
      "233      13       0        1          0        0          0         0   \n",
      "234      35       0        1          0        0          0         0   \n",
      "235      13       0        1          0        0          0         0   \n",
      "236       3       0        1          0        0          0         0   \n",
      "237       7       0        1          0        0          0         0   \n",
      "\n",
      "     array_y  boolean_y  float_y  integer_y  string_y  timestamp_y  \n",
      "0          0          0        0          1         0            0  \n",
      "1          0          0        0          1         0            0  \n",
      "2          0          0        0          1         0            0  \n",
      "3          0          0        0          1         0            0  \n",
      "4          0          0        0          1         0            0  \n",
      "..       ...        ...      ...        ...       ...          ...  \n",
      "233        0          0        0          0         0            1  \n",
      "234        0          0        0          0         1            0  \n",
      "235        0          0        0          0         0            1  \n",
      "236        1          0        0          0         0            0  \n",
      "237        0          0        1          0         0            0  \n",
      "\n",
      "[2141 rows x 18 columns]\n"
     ]
    }
   ],
   "source": [
    "for i in range(5):\n",
    "    X=pd.read_csv(str(i)+'_imdb_train_encode.csv').drop(columns=['outputscore'])\n",
    "    val=pd.read_csv(str(i)+'_imdb_val_encode.csv').drop(columns=['outputscore'])\n",
    "    X=X.append(val)\n",
    "    print(X)\n",
    "    vlabel=pd.read_csv(str(i)+'_imdb_val_label.csv')['label']\n",
    "    y=pd.read_csv(str(i)+'_imdb_train_label.csv')['label']\n",
    "    y=y.append(vlabel)\n",
    "    testlabel=pd.read_csv(str(i)+'_imdb_test_label.csv')['label']\n",
    "    test=pd.read_csv(str(i)+'_imdb_test_encode.csv').reindex(columns=X.columns)\n",
    "    clf = RandomForestClassifier()\n",
    "    n_estimators=[1,5,10,20,30,50,70,100,150,200,300]\n",
    "    ones=[1,5,10,20,30,35,5,40,50,100,200,500]\n",
    "    minSampleLeaf=[1,3,5,7,10,20,30,50,80,100,200,250]\n",
    "    iterations=[5000]\n",
    "    parameter={'min_samples_leaf':minSampleLeaf,'n_estimators':n_estimators,'class_weight':[{1:classOne} for classOne in ones ]}\n",
    "    clfG=GridSearchCV(clf,parameter,scoring=\"f1\",cv=5)\n",
    "    clfG.fit(X,y)\n",
    "    with open('./imbd_model_constraint/'+str(i)+'model_pkl', 'wb') as files:\n",
    "        pickle.dump(clfG, files)"
   ]
  },
  {
   "cell_type": "code",
   "execution_count": 15,
   "id": "61fc5432",
   "metadata": {
    "scrolled": true
   },
   "outputs": [
    {
     "name": "stdout",
     "output_type": "stream",
     "text": [
      "1\n",
      "5\n",
      "the f1 score is 0.33333333333333337\n",
      "the precision score is 1.0\n",
      "the recall score is  0.2\n",
      "{'class_weight': {1: 5}, 'min_samples_leaf': 7, 'n_estimators': 5}\n",
      "0.4554706163401816\n",
      "3\n",
      "5\n",
      "the f1 score is 0.25\n",
      "the precision score is 0.3333333333333333\n",
      "the recall score is  0.2\n",
      "{'class_weight': {1: 20}, 'min_samples_leaf': 80, 'n_estimators': 10}\n",
      "0.43111111111111117\n",
      "1\n",
      "5\n",
      "the f1 score is 0.33333333333333337\n",
      "the precision score is 1.0\n",
      "the recall score is  0.2\n",
      "{'class_weight': {1: 20}, 'min_samples_leaf': 50, 'n_estimators': 50}\n",
      "0.45760377729687196\n",
      "1\n",
      "5\n",
      "the f1 score is 0.33333333333333337\n",
      "the precision score is 1.0\n",
      "the recall score is  0.2\n",
      "{'class_weight': {1: 20}, 'min_samples_leaf': 80, 'n_estimators': 100}\n",
      "0.47461753932342166\n",
      "2\n",
      "5\n",
      "the f1 score is 0.28571428571428575\n",
      "the precision score is 0.5\n",
      "the recall score is  0.2\n",
      "{'class_weight': {1: 5}, 'min_samples_leaf': 7, 'n_estimators': 5}\n",
      "0.4543939393939394\n",
      "the average f1 of IMDB is 0.30714285714285716\n",
      "the average recall score 0.2\n",
      "the average precision score 0.7666666666666666\n"
     ]
    }
   ],
   "source": [
    "allf1=0\n",
    "allrecall=0\n",
    "allprecision=0\n",
    "for i in range(5):    \n",
    "    with open('./imbd_model_constraint/'+str(i)+'model_pkl' , 'rb') as f:\n",
    "        X=pd.read_csv(str(i)+'_imdb_train_encode.csv').drop(columns=['outputscore'])\n",
    "        testlabel=pd.read_csv(str(i)+'_imdb_test_label.csv')['label']\n",
    "        test=pd.read_csv(str(i)+'_imdb_test_encode.csv').reindex(columns=X.columns)\n",
    "        clfG = pickle.load(f)\n",
    "        pre=clfG.predict(test)\n",
    "        print(sum(pre))\n",
    "        print(sum(testlabel))\n",
    "        print('the f1 score is',f1_score(testlabel,pre))\n",
    "        print('the precision score is',precision_score(testlabel,pre))\n",
    "        print('the recall score is ',recall_score(testlabel,pre))\n",
    "        allf1+=f1_score(testlabel,pre)\n",
    "        allrecall+=recall_score(testlabel,pre)\n",
    "        allprecision+=precision_score(testlabel,pre)\n",
    "        print(clfG.best_params_)\n",
    "        print(clfG.best_score_)\n",
    "print('the average f1 of IMDB is',allf1/5)\n",
    "print('the average recall score',allrecall/5)\n",
    "print('the average precision score',allprecision/5)"
   ]
  },
  {
   "cell_type": "code",
   "execution_count": null,
   "id": "450727ef",
   "metadata": {},
   "outputs": [],
   "source": []
  }
 ],
 "metadata": {
  "kernelspec": {
   "display_name": "Python 3 (ipykernel)",
   "language": "python",
   "name": "python3"
  },
  "language_info": {
   "codemirror_mode": {
    "name": "ipython",
    "version": 3
   },
   "file_extension": ".py",
   "mimetype": "text/x-python",
   "name": "python",
   "nbconvert_exporter": "python",
   "pygments_lexer": "ipython3",
   "version": "3.10.1"
  }
 },
 "nbformat": 4,
 "nbformat_minor": 5
}

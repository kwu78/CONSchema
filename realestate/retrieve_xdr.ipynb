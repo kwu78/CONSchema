{
 "cells": [
  {
   "cell_type": "code",
   "execution_count": 79,
   "metadata": {},
   "outputs": [],
   "source": [
    "import pandas as pd \n",
    "from xml.etree.ElementTree import parse"
   ]
  },
  {
   "cell_type": "code",
   "execution_count": 80,
   "metadata": {},
   "outputs": [
    {
     "name": "stdout",
     "output_type": "stream",
     "text": [
      "\u001b[30m\u001b[43mhomeseekers\u001b[m\u001b[m/                real_estate_texas.xml\r\n",
      "real_estate.xlsx            real_estate_windermere.xml\r\n",
      "real_estate_nky.xml         \u001b[30m\u001b[43myahoo\u001b[m\u001b[m/\r\n"
     ]
    }
   ],
   "source": [
    "ls dataset/"
   ]
  },
  {
   "cell_type": "code",
   "execution_count": 81,
   "metadata": {},
   "outputs": [],
   "source": [
    "filelist = ['Excel', 'Noris', 'Apertum', 'CIDXPOSCHEMA', 'Paragon']\n",
    "filelist1=['real_estate_texas']"
   ]
  },
  {
   "cell_type": "code",
   "execution_count": 82,
   "metadata": {},
   "outputs": [],
   "source": [
    "def parseXdr(name):\n",
    "    tree = parse('./dataset/'+name+'.xml')\n",
    "    root = tree.getroot()\n",
    "    res = []\n",
    "    for child in root:\n",
    "        print(child.tag)\n",
    "        dic_tmp = {}\n",
    "        print(\"---------------\")\n",
    "#         idx = child.tag.replace(\"{urn:schemas-microsoft-com:xml-data}\",\"\")\n",
    "        val = child.attrib[\"house_listing\"]\n",
    "        dic_tmp[idx] = val\n",
    "        print(idx, val)\n",
    "        attri_tmp = []\n",
    "        ele_tmp = []\n",
    "        des_tmp = []\n",
    "        for grandchile in child:\n",
    "            if \"type\" in grandchile.attrib:\n",
    "                idx = grandchile.tag.replace(\"{urn:schemas-microsoft-com:xml-data}\",\"\")\n",
    "                val = grandchile.attrib[\"type\"]\n",
    "                if idx == \"element\":\n",
    "                    ele_tmp.append(val)\n",
    "                elif idx == \"attribute\":\n",
    "                    attri_tmp.append(val)\n",
    "                else:\n",
    "                    des_tmp.append(val)\n",
    "                print(idx, val)\n",
    "            elif \"name\" in grandchile.attrib: \n",
    "                idx = grandchile.tag.replace(\"{urn:schemas-microsoft-com:xml-data}\",\"\")\n",
    "                val = grandchile.attrib[\"name\"]\n",
    "                if idx == \"element\":\n",
    "                    ele_tmp.append(val)\n",
    "                elif idx == \"AttributeType\" or idx == \"attribute\":\n",
    "                    attri_tmp.append(val)\n",
    "                else:\n",
    "                    des_tmp.append(val)\n",
    "                print(idx, val)\n",
    "            else:\n",
    "                idx = grandchile.tag.replace(\"{urn:schemas-microsoft-com:xml-data}\",\"\")\n",
    "                val = grandchile.text\n",
    "                des_tmp.append(val)\n",
    "                print(idx, val)\n",
    "\n",
    "        dic_tmp[\"attribute\"] = attri_tmp\n",
    "        dic_tmp[\"element\"] = ele_tmp\n",
    "        dic_tmp[\"description\"] = des_tmp\n",
    "        res.append(dic_tmp)\n",
    "\n",
    "    df = pd.DataFrame(res)\n",
    "    df.to_csv(name+\".csv\")\n",
    "    print(df)"
   ]
  },
  {
   "cell_type": "code",
   "execution_count": 83,
   "metadata": {},
   "outputs": [
    {
     "name": "stdout",
     "output_type": "stream",
     "text": [
      "house_listing\n",
      "---------------\n"
     ]
    },
    {
     "ename": "KeyError",
     "evalue": "'house_listing'",
     "output_type": "error",
     "traceback": [
      "\u001b[0;31m---------------------------------------------------------------------------\u001b[0m",
      "\u001b[0;31mKeyError\u001b[0m                                  Traceback (most recent call last)",
      "\u001b[0;32m<ipython-input-83-3c52c8251110>\u001b[0m in \u001b[0;36m<module>\u001b[0;34m\u001b[0m\n\u001b[1;32m      1\u001b[0m \u001b[0;32mfor\u001b[0m \u001b[0mi\u001b[0m \u001b[0;32min\u001b[0m \u001b[0mfilelist1\u001b[0m\u001b[0;34m:\u001b[0m\u001b[0;34m\u001b[0m\u001b[0;34m\u001b[0m\u001b[0m\n\u001b[0;32m----> 2\u001b[0;31m     \u001b[0mparseXdr\u001b[0m\u001b[0;34m(\u001b[0m\u001b[0mi\u001b[0m\u001b[0;34m)\u001b[0m\u001b[0;34m\u001b[0m\u001b[0;34m\u001b[0m\u001b[0m\n\u001b[0m",
      "\u001b[0;32m<ipython-input-82-00183d67600b>\u001b[0m in \u001b[0;36mparseXdr\u001b[0;34m(name)\u001b[0m\n\u001b[1;32m      8\u001b[0m         \u001b[0mprint\u001b[0m\u001b[0;34m(\u001b[0m\u001b[0;34m\"---------------\"\u001b[0m\u001b[0;34m)\u001b[0m\u001b[0;34m\u001b[0m\u001b[0;34m\u001b[0m\u001b[0m\n\u001b[1;32m      9\u001b[0m \u001b[0;31m#         idx = child.tag.replace(\"{urn:schemas-microsoft-com:xml-data}\",\"\")\u001b[0m\u001b[0;34m\u001b[0m\u001b[0;34m\u001b[0m\u001b[0;34m\u001b[0m\u001b[0m\n\u001b[0;32m---> 10\u001b[0;31m         \u001b[0mval\u001b[0m \u001b[0;34m=\u001b[0m \u001b[0mchild\u001b[0m\u001b[0;34m.\u001b[0m\u001b[0mattrib\u001b[0m\u001b[0;34m[\u001b[0m\u001b[0;34m\"house_listing\"\u001b[0m\u001b[0;34m]\u001b[0m\u001b[0;34m\u001b[0m\u001b[0;34m\u001b[0m\u001b[0m\n\u001b[0m\u001b[1;32m     11\u001b[0m         \u001b[0mdic_tmp\u001b[0m\u001b[0;34m[\u001b[0m\u001b[0midx\u001b[0m\u001b[0;34m]\u001b[0m \u001b[0;34m=\u001b[0m \u001b[0mval\u001b[0m\u001b[0;34m\u001b[0m\u001b[0;34m\u001b[0m\u001b[0m\n\u001b[1;32m     12\u001b[0m         \u001b[0mprint\u001b[0m\u001b[0;34m(\u001b[0m\u001b[0midx\u001b[0m\u001b[0;34m,\u001b[0m \u001b[0mval\u001b[0m\u001b[0;34m)\u001b[0m\u001b[0;34m\u001b[0m\u001b[0;34m\u001b[0m\u001b[0m\n",
      "\u001b[0;31mKeyError\u001b[0m: 'house_listing'"
     ]
    }
   ],
   "source": [
    "for i in filelist1:\n",
    "    parseXdr(i)"
   ]
  },
  {
   "cell_type": "code",
   "execution_count": null,
   "metadata": {},
   "outputs": [],
   "source": []
  },
  {
   "cell_type": "code",
   "execution_count": null,
   "metadata": {},
   "outputs": [],
   "source": []
  },
  {
   "cell_type": "code",
   "execution_count": null,
   "metadata": {},
   "outputs": [],
   "source": []
  }
 ],
 "metadata": {
  "kernelspec": {
   "display_name": "Python 3",
   "language": "python",
   "name": "python3"
  },
  "language_info": {
   "codemirror_mode": {
    "name": "ipython",
    "version": 3
   },
   "file_extension": ".py",
   "mimetype": "text/x-python",
   "name": "python",
   "nbconvert_exporter": "python",
   "pygments_lexer": "ipython3",
   "version": "3.7.9"
  }
 },
 "nbformat": 4,
 "nbformat_minor": 4
}

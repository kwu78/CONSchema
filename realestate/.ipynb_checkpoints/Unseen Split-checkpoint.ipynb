{
 "cells": [
  {
   "cell_type": "code",
   "execution_count": 17,
   "metadata": {},
   "outputs": [],
   "source": [
    "import pandas as pd"
   ]
  },
  {
   "cell_type": "code",
   "execution_count": 18,
   "metadata": {},
   "outputs": [],
   "source": [
    "match=pd.read_excel(\"./dataset/match.xlsx\").drop(columns=['Unnamed: 0'])"
   ]
  },
  {
   "cell_type": "code",
   "execution_count": 19,
   "metadata": {
    "scrolled": false
   },
   "outputs": [
    {
     "data": {
      "text/plain": [
       "66"
      ]
     },
     "execution_count": 19,
     "metadata": {},
     "output_type": "execute_result"
    }
   ],
   "source": [
    "sum(match['label'])\n",
    "\n"
   ]
  },
  {
   "cell_type": "code",
   "execution_count": 20,
   "metadata": {},
   "outputs": [],
   "source": [
    "match.set_index(keys=[\"source\"],inplace=True)\n"
   ]
  },
  {
   "cell_type": "code",
   "execution_count": 21,
   "metadata": {},
   "outputs": [
    {
     "data": {
      "text/plain": [
       "45"
      ]
     },
     "execution_count": 21,
     "metadata": {},
     "output_type": "execute_result"
    }
   ],
   "source": [
    "match.sort_index(inplace=True)\n",
    "nOmop=match['target'].nunique()\n",
    "nOmop\n"
   ]
  },
  {
   "cell_type": "code",
   "execution_count": 22,
   "metadata": {},
   "outputs": [
    {
     "data": {
      "text/html": [
       "<div>\n",
       "<style scoped>\n",
       "    .dataframe tbody tr th:only-of-type {\n",
       "        vertical-align: middle;\n",
       "    }\n",
       "\n",
       "    .dataframe tbody tr th {\n",
       "        vertical-align: top;\n",
       "    }\n",
       "\n",
       "    .dataframe thead th {\n",
       "        text-align: right;\n",
       "    }\n",
       "</style>\n",
       "<table border=\"1\" class=\"dataframe\">\n",
       "  <thead>\n",
       "    <tr style=\"text-align: right;\">\n",
       "      <th></th>\n",
       "      <th>target</th>\n",
       "      <th>label</th>\n",
       "    </tr>\n",
       "    <tr>\n",
       "      <th>source</th>\n",
       "      <th></th>\n",
       "      <th></th>\n",
       "    </tr>\n",
       "  </thead>\n",
       "  <tbody>\n",
       "    <tr>\n",
       "      <th>agent_email</th>\n",
       "      <td>agent_first_name</td>\n",
       "      <td>0</td>\n",
       "    </tr>\n",
       "    <tr>\n",
       "      <th>agent_email</th>\n",
       "      <td>agent_id</td>\n",
       "      <td>0</td>\n",
       "    </tr>\n",
       "    <tr>\n",
       "      <th>agent_email</th>\n",
       "      <td>agent_id/#agg</td>\n",
       "      <td>0</td>\n",
       "    </tr>\n",
       "    <tr>\n",
       "      <th>agent_email</th>\n",
       "      <td>agent_last_name</td>\n",
       "      <td>0</td>\n",
       "    </tr>\n",
       "    <tr>\n",
       "      <th>agent_email</th>\n",
       "      <td>bath_rooms</td>\n",
       "      <td>0</td>\n",
       "    </tr>\n",
       "    <tr>\n",
       "      <th>...</th>\n",
       "      <td>...</td>\n",
       "      <td>...</td>\n",
       "    </tr>\n",
       "    <tr>\n",
       "      <th>water/#agg</th>\n",
       "      <td>agent_id</td>\n",
       "      <td>0</td>\n",
       "    </tr>\n",
       "    <tr>\n",
       "      <th>water/#agg</th>\n",
       "      <td>agent_id/#agg</td>\n",
       "      <td>0</td>\n",
       "    </tr>\n",
       "    <tr>\n",
       "      <th>water/#agg</th>\n",
       "      <td>agent_last_name</td>\n",
       "      <td>0</td>\n",
       "    </tr>\n",
       "    <tr>\n",
       "      <th>water/#agg</th>\n",
       "      <td>agent_name</td>\n",
       "      <td>0</td>\n",
       "    </tr>\n",
       "    <tr>\n",
       "      <th>water/#agg</th>\n",
       "      <td>agent_phone_number</td>\n",
       "      <td>0</td>\n",
       "    </tr>\n",
       "  </tbody>\n",
       "</table>\n",
       "<p>1323 rows × 2 columns</p>\n",
       "</div>"
      ],
      "text/plain": [
       "                         target  label\n",
       "source                                \n",
       "agent_email    agent_first_name      0\n",
       "agent_email            agent_id      0\n",
       "agent_email       agent_id/#agg      0\n",
       "agent_email     agent_last_name      0\n",
       "agent_email          bath_rooms      0\n",
       "...                         ...    ...\n",
       "water/#agg             agent_id      0\n",
       "water/#agg        agent_id/#agg      0\n",
       "water/#agg      agent_last_name      0\n",
       "water/#agg           agent_name      0\n",
       "water/#agg   agent_phone_number      0\n",
       "\n",
       "[1323 rows x 2 columns]"
      ]
     },
     "execution_count": 22,
     "metadata": {},
     "output_type": "execute_result"
    }
   ],
   "source": [
    "match"
   ]
  },
  {
   "cell_type": "code",
   "execution_count": 27,
   "metadata": {},
   "outputs": [
    {
     "name": "stdout",
     "output_type": "stream",
     "text": [
      "source\n",
      "agent_email            1\n",
      "agent_name             5\n",
      "agent_phone            3\n",
      "building_area          2\n",
      "building_area/#agg     2\n",
      "electricity            1\n",
      "electricity/#agg       1\n",
      "fireplace              0\n",
      "fireplace/#agg         0\n",
      "firm_address           6\n",
      "firm_name              1\n",
      "garage                 2\n",
      "garage/#agg            2\n",
      "house_address          5\n",
      "house_description      1\n",
      "house_price            1\n",
      "lot_area               4\n",
      "lot_area/#agg          4\n",
      "num_rooms             10\n",
      "num_rooms/#agg         8\n",
      "school                 0\n",
      "sewer                  1\n",
      "sewer/#agg             1\n",
      "type                   1\n",
      "utilities              2\n",
      "water                  1\n",
      "water/#agg             1\n",
      "Name: label, dtype: int64\n"
     ]
    }
   ],
   "source": [
    "label=match.iloc[0:,1]\n",
    "input1=label.groupby(label.index).sum()\n",
    "\n",
    "input2=input1.head(10)\n",
    "print (input1)"
   ]
  },
  {
   "cell_type": "code",
   "execution_count": 28,
   "metadata": {},
   "outputs": [
    {
     "data": {
      "text/plain": [
       "{1: ['agent_email',\n",
       "  'electricity',\n",
       "  'electricity/#agg',\n",
       "  'firm_name',\n",
       "  'house_description',\n",
       "  'house_price',\n",
       "  'sewer',\n",
       "  'sewer/#agg',\n",
       "  'type',\n",
       "  'water',\n",
       "  'water/#agg'],\n",
       " 5: ['agent_name', 'house_address'],\n",
       " 3: ['agent_phone'],\n",
       " 2: ['building_area',\n",
       "  'building_area/#agg',\n",
       "  'garage',\n",
       "  'garage/#agg',\n",
       "  'utilities'],\n",
       " 0: ['fireplace', 'fireplace/#agg', 'school'],\n",
       " 6: ['firm_address'],\n",
       " 4: ['lot_area', 'lot_area/#agg'],\n",
       " 10: ['num_rooms'],\n",
       " 8: ['num_rooms/#agg']}"
      ]
     },
     "execution_count": 28,
     "metadata": {},
     "output_type": "execute_result"
    }
   ],
   "source": [
    "freq={}\n",
    "for k,v in input1.iteritems():\n",
    "    if v in freq:\n",
    "        freq[v].append(k)\n",
    "    else:\n",
    "        freq[v]=[k]\n",
    "\n",
    "freq"
   ]
  },
  {
   "cell_type": "code",
   "execution_count": 29,
   "metadata": {},
   "outputs": [
    {
     "name": "stdout",
     "output_type": "stream",
     "text": [
      "66\n",
      "27\n"
     ]
    }
   ],
   "source": [
    "matches=pd.read_excel(\"./dataset/match.xlsx\")\n",
    "totalones=len(matches[matches['label']==1])\n",
    "totalCols=len(input1)\n",
    "print (totalones)\n",
    "print (totalCols)\n"
   ]
  },
  {
   "cell_type": "code",
   "execution_count": 30,
   "metadata": {},
   "outputs": [
    {
     "data": {
      "text/plain": [
       "'electricity/#agg'"
      ]
     },
     "execution_count": 30,
     "metadata": {},
     "output_type": "execute_result"
    }
   ],
   "source": [
    "import numpy as np\n",
    "\n",
    "np.random.choice(freq[1])\n"
   ]
  },
  {
   "cell_type": "code",
   "execution_count": 31,
   "metadata": {},
   "outputs": [
    {
     "name": "stdout",
     "output_type": "stream",
     "text": [
      "newChoiceselected\n",
      "6\n",
      "['firm_address', 'fireplace']\n"
     ]
    }
   ],
   "source": [
    "nVal=int(totalones*0.1)\n",
    "nValCols=int(0.1*totalCols)\n",
    "val=[]\n",
    "while nVal>0 and len(val)<nValCols:\n",
    "    newChoice=np.random.choice(nVal+1,1)[0]\n",
    "    if int(newChoice) in freq:\n",
    "        if len(freq[newChoice])>0:\n",
    "            print (\"newChoiceselected\")\n",
    "            print (newChoice)\n",
    "            decision=np.random.choice(freq[newChoice])\n",
    "            val.append(decision)\n",
    "            freq[newChoice].remove(decision)\n",
    "            nVal=nVal-newChoice\n",
    "while len(val)<nValCols:\n",
    "    decision=np.random.choice(freq[0])\n",
    "    val.append(decision)\n",
    "    freq[0].remove(decision)\n",
    "print (val)"
   ]
  },
  {
   "cell_type": "code",
   "execution_count": 32,
   "metadata": {},
   "outputs": [
    {
     "name": "stdout",
     "output_type": "stream",
     "text": [
      "newChoiceselected\n",
      "5\n",
      "newChoiceselected\n",
      "1\n",
      "['agent_name', 'water/#agg']\n"
     ]
    }
   ],
   "source": [
    "nTest=int(totalones*0.1)\n",
    "nTestCols=int(0.1*totalCols)\n",
    "test=[]\n",
    "while nTest>0 and len(test)<nTestCols:\n",
    "    newChoice=np.random.choice(nTest+1,1)[0]\n",
    "    if int(newChoice) in freq:\n",
    "        if len(freq[newChoice])>0:\n",
    "            print (\"newChoiceselected\")\n",
    "            print (newChoice)\n",
    "            decision=np.random.choice(freq[newChoice])\n",
    "            test.append(decision)\n",
    "            freq[newChoice].remove(decision)\n",
    "            nTest=nTest-newChoice\n",
    "while len(test)<nTestCols:\n",
    "    decision=np.random.choice(freq[0])\n",
    "    test.append(decision)\n",
    "    freq[0].remove(decision)\n",
    "print (test)"
   ]
  },
  {
   "cell_type": "code",
   "execution_count": 33,
   "metadata": {},
   "outputs": [],
   "source": [
    "train=[]\n",
    "for i in freq:\n",
    "    if len(freq[i])>0:\n",
    "        for item in freq[i]:\n",
    "            train.append(item)\n"
   ]
  },
  {
   "cell_type": "code",
   "execution_count": 43,
   "metadata": {},
   "outputs": [
    {
     "name": "stdout",
     "output_type": "stream",
     "text": [
      "1127\n"
     ]
    },
    {
     "data": {
      "text/plain": [
       "numpy.int64"
      ]
     },
     "execution_count": 43,
     "metadata": {},
     "output_type": "execute_result"
    }
   ],
   "source": [
    "training=pd.DataFrame()\n",
    "writer1 = pd.ExcelWriter('./train_realestate.xlsx', engine='xlsxwriter')\n",
    "for m in train:\n",
    "    training=training.append(matches.loc[matches['source']==m])\n",
    "training=training.drop(columns=['Unnamed: 0'])\n",
    "training.to_excel(writer1,sheet_name='realestate_train',index=False)\n",
    "print (len(training))\n",
    "writer1.save()\n",
    "type(training['label'][0])"
   ]
  },
  {
   "cell_type": "code",
   "execution_count": 44,
   "metadata": {},
   "outputs": [
    {
     "name": "stdout",
     "output_type": "stream",
     "text": [
      "98\n",
      "['firm_address', 'fireplace']\n"
     ]
    }
   ],
   "source": [
    "validating=pd.DataFrame()\n",
    "writer2=pd.ExcelWriter('./val_realestate.xlsx',engine='xlsxwriter')\n",
    "for m in val:\n",
    "    validating=validating.append(matches.loc[matches['source']==m])\n",
    "print (len(validating))\n",
    "validating=validating.drop(columns=['Unnamed: 0'])\n",
    "validating.to_excel(writer2,sheet_name='realestate_val',index=False)\n",
    "writer2.save()\n",
    "print (val)"
   ]
  },
  {
   "cell_type": "code",
   "execution_count": 45,
   "metadata": {
    "scrolled": true
   },
   "outputs": [
    {
     "name": "stdout",
     "output_type": "stream",
     "text": [
      "98\n",
      "['agent_name', 'water/#agg']\n"
     ]
    }
   ],
   "source": [
    "testing=pd.DataFrame()\n",
    "writer3=pd.ExcelWriter('./test_realestate.xlsx',engine='xlsxwriter')\n",
    "for m in test:\n",
    "    testing=testing.append(matches.loc[matches['source']==m])\n",
    "print (len(testing))\n",
    "testing=testing.drop(columns=['Unnamed: 0'])\n",
    "testing.to_excel(writer3,sheet_name='realestate_test',index=False)\n",
    "writer3.save()\n",
    "print (test)"
   ]
  },
  {
   "cell_type": "code",
   "execution_count": 46,
   "metadata": {},
   "outputs": [
    {
     "data": {
      "text/html": [
       "<div>\n",
       "<style scoped>\n",
       "    .dataframe tbody tr th:only-of-type {\n",
       "        vertical-align: middle;\n",
       "    }\n",
       "\n",
       "    .dataframe tbody tr th {\n",
       "        vertical-align: top;\n",
       "    }\n",
       "\n",
       "    .dataframe thead th {\n",
       "        text-align: right;\n",
       "    }\n",
       "</style>\n",
       "<table border=\"1\" class=\"dataframe\">\n",
       "  <thead>\n",
       "    <tr style=\"text-align: right;\">\n",
       "      <th></th>\n",
       "      <th>source</th>\n",
       "      <th>target</th>\n",
       "      <th>label</th>\n",
       "    </tr>\n",
       "  </thead>\n",
       "  <tbody>\n",
       "    <tr>\n",
       "      <th>49</th>\n",
       "      <td>agent_name</td>\n",
       "      <td>agent_first_name</td>\n",
       "      <td>1</td>\n",
       "    </tr>\n",
       "    <tr>\n",
       "      <th>50</th>\n",
       "      <td>agent_name</td>\n",
       "      <td>agent_id</td>\n",
       "      <td>0</td>\n",
       "    </tr>\n",
       "    <tr>\n",
       "      <th>51</th>\n",
       "      <td>agent_name</td>\n",
       "      <td>agent_id/#agg</td>\n",
       "      <td>0</td>\n",
       "    </tr>\n",
       "    <tr>\n",
       "      <th>52</th>\n",
       "      <td>agent_name</td>\n",
       "      <td>agent_last_name</td>\n",
       "      <td>1</td>\n",
       "    </tr>\n",
       "    <tr>\n",
       "      <th>53</th>\n",
       "      <td>agent_name</td>\n",
       "      <td>bath_rooms</td>\n",
       "      <td>0</td>\n",
       "    </tr>\n",
       "    <tr>\n",
       "      <th>...</th>\n",
       "      <td>...</td>\n",
       "      <td>...</td>\n",
       "      <td>...</td>\n",
       "    </tr>\n",
       "    <tr>\n",
       "      <th>1318</th>\n",
       "      <td>water/#agg</td>\n",
       "      <td>agent_id</td>\n",
       "      <td>0</td>\n",
       "    </tr>\n",
       "    <tr>\n",
       "      <th>1319</th>\n",
       "      <td>water/#agg</td>\n",
       "      <td>agent_id/#agg</td>\n",
       "      <td>0</td>\n",
       "    </tr>\n",
       "    <tr>\n",
       "      <th>1320</th>\n",
       "      <td>water/#agg</td>\n",
       "      <td>agent_last_name</td>\n",
       "      <td>0</td>\n",
       "    </tr>\n",
       "    <tr>\n",
       "      <th>1321</th>\n",
       "      <td>water/#agg</td>\n",
       "      <td>agent_name</td>\n",
       "      <td>0</td>\n",
       "    </tr>\n",
       "    <tr>\n",
       "      <th>1322</th>\n",
       "      <td>water/#agg</td>\n",
       "      <td>agent_phone_number</td>\n",
       "      <td>0</td>\n",
       "    </tr>\n",
       "  </tbody>\n",
       "</table>\n",
       "<p>98 rows × 3 columns</p>\n",
       "</div>"
      ],
      "text/plain": [
       "          source              target  label\n",
       "49    agent_name    agent_first_name      1\n",
       "50    agent_name            agent_id      0\n",
       "51    agent_name       agent_id/#agg      0\n",
       "52    agent_name     agent_last_name      1\n",
       "53    agent_name          bath_rooms      0\n",
       "...          ...                 ...    ...\n",
       "1318  water/#agg            agent_id      0\n",
       "1319  water/#agg       agent_id/#agg      0\n",
       "1320  water/#agg     agent_last_name      0\n",
       "1321  water/#agg          agent_name      0\n",
       "1322  water/#agg  agent_phone_number      0\n",
       "\n",
       "[98 rows x 3 columns]"
      ]
     },
     "execution_count": 46,
     "metadata": {},
     "output_type": "execute_result"
    }
   ],
   "source": [
    "testing"
   ]
  },
  {
   "cell_type": "code",
   "execution_count": 47,
   "metadata": {},
   "outputs": [
    {
     "data": {
      "text/html": [
       "<div>\n",
       "<style scoped>\n",
       "    .dataframe tbody tr th:only-of-type {\n",
       "        vertical-align: middle;\n",
       "    }\n",
       "\n",
       "    .dataframe tbody tr th {\n",
       "        vertical-align: top;\n",
       "    }\n",
       "\n",
       "    .dataframe thead th {\n",
       "        text-align: right;\n",
       "    }\n",
       "</style>\n",
       "<table border=\"1\" class=\"dataframe\">\n",
       "  <thead>\n",
       "    <tr style=\"text-align: right;\">\n",
       "      <th></th>\n",
       "      <th>source</th>\n",
       "      <th>target</th>\n",
       "      <th>label</th>\n",
       "    </tr>\n",
       "  </thead>\n",
       "  <tbody>\n",
       "    <tr>\n",
       "      <th>441</th>\n",
       "      <td>firm_address</td>\n",
       "      <td>agent_first_name</td>\n",
       "      <td>0</td>\n",
       "    </tr>\n",
       "    <tr>\n",
       "      <th>442</th>\n",
       "      <td>firm_address</td>\n",
       "      <td>agent_id</td>\n",
       "      <td>0</td>\n",
       "    </tr>\n",
       "    <tr>\n",
       "      <th>443</th>\n",
       "      <td>firm_address</td>\n",
       "      <td>agent_id/#agg</td>\n",
       "      <td>0</td>\n",
       "    </tr>\n",
       "    <tr>\n",
       "      <th>444</th>\n",
       "      <td>firm_address</td>\n",
       "      <td>agent_last_name</td>\n",
       "      <td>0</td>\n",
       "    </tr>\n",
       "    <tr>\n",
       "      <th>445</th>\n",
       "      <td>firm_address</td>\n",
       "      <td>bath_rooms</td>\n",
       "      <td>0</td>\n",
       "    </tr>\n",
       "    <tr>\n",
       "      <th>...</th>\n",
       "      <td>...</td>\n",
       "      <td>...</td>\n",
       "      <td>...</td>\n",
       "    </tr>\n",
       "    <tr>\n",
       "      <th>387</th>\n",
       "      <td>fireplace</td>\n",
       "      <td>agent_id</td>\n",
       "      <td>0</td>\n",
       "    </tr>\n",
       "    <tr>\n",
       "      <th>388</th>\n",
       "      <td>fireplace</td>\n",
       "      <td>agent_id/#agg</td>\n",
       "      <td>0</td>\n",
       "    </tr>\n",
       "    <tr>\n",
       "      <th>389</th>\n",
       "      <td>fireplace</td>\n",
       "      <td>agent_last_name</td>\n",
       "      <td>0</td>\n",
       "    </tr>\n",
       "    <tr>\n",
       "      <th>390</th>\n",
       "      <td>fireplace</td>\n",
       "      <td>agent_name</td>\n",
       "      <td>0</td>\n",
       "    </tr>\n",
       "    <tr>\n",
       "      <th>391</th>\n",
       "      <td>fireplace</td>\n",
       "      <td>agent_phone_number</td>\n",
       "      <td>0</td>\n",
       "    </tr>\n",
       "  </tbody>\n",
       "</table>\n",
       "<p>98 rows × 3 columns</p>\n",
       "</div>"
      ],
      "text/plain": [
       "           source              target  label\n",
       "441  firm_address    agent_first_name      0\n",
       "442  firm_address            agent_id      0\n",
       "443  firm_address       agent_id/#agg      0\n",
       "444  firm_address     agent_last_name      0\n",
       "445  firm_address          bath_rooms      0\n",
       "..            ...                 ...    ...\n",
       "387     fireplace            agent_id      0\n",
       "388     fireplace       agent_id/#agg      0\n",
       "389     fireplace     agent_last_name      0\n",
       "390     fireplace          agent_name      0\n",
       "391     fireplace  agent_phone_number      0\n",
       "\n",
       "[98 rows x 3 columns]"
      ]
     },
     "execution_count": 47,
     "metadata": {},
     "output_type": "execute_result"
    }
   ],
   "source": [
    "validating"
   ]
  },
  {
   "cell_type": "code",
   "execution_count": 48,
   "metadata": {},
   "outputs": [
    {
     "data": {
      "text/html": [
       "<div>\n",
       "<style scoped>\n",
       "    .dataframe tbody tr th:only-of-type {\n",
       "        vertical-align: middle;\n",
       "    }\n",
       "\n",
       "    .dataframe tbody tr th {\n",
       "        vertical-align: top;\n",
       "    }\n",
       "\n",
       "    .dataframe thead th {\n",
       "        text-align: right;\n",
       "    }\n",
       "</style>\n",
       "<table border=\"1\" class=\"dataframe\">\n",
       "  <thead>\n",
       "    <tr style=\"text-align: right;\">\n",
       "      <th></th>\n",
       "      <th>source</th>\n",
       "      <th>target</th>\n",
       "      <th>label</th>\n",
       "    </tr>\n",
       "  </thead>\n",
       "  <tbody>\n",
       "    <tr>\n",
       "      <th>0</th>\n",
       "      <td>agent_email</td>\n",
       "      <td>agent_first_name</td>\n",
       "      <td>0</td>\n",
       "    </tr>\n",
       "    <tr>\n",
       "      <th>1</th>\n",
       "      <td>agent_email</td>\n",
       "      <td>agent_id</td>\n",
       "      <td>0</td>\n",
       "    </tr>\n",
       "    <tr>\n",
       "      <th>2</th>\n",
       "      <td>agent_email</td>\n",
       "      <td>agent_id/#agg</td>\n",
       "      <td>0</td>\n",
       "    </tr>\n",
       "    <tr>\n",
       "      <th>3</th>\n",
       "      <td>agent_email</td>\n",
       "      <td>agent_last_name</td>\n",
       "      <td>0</td>\n",
       "    </tr>\n",
       "    <tr>\n",
       "      <th>4</th>\n",
       "      <td>agent_email</td>\n",
       "      <td>bath_rooms</td>\n",
       "      <td>0</td>\n",
       "    </tr>\n",
       "    <tr>\n",
       "      <th>...</th>\n",
       "      <td>...</td>\n",
       "      <td>...</td>\n",
       "      <td>...</td>\n",
       "    </tr>\n",
       "    <tr>\n",
       "      <th>975</th>\n",
       "      <td>num_rooms/#agg</td>\n",
       "      <td>agent_id</td>\n",
       "      <td>0</td>\n",
       "    </tr>\n",
       "    <tr>\n",
       "      <th>976</th>\n",
       "      <td>num_rooms/#agg</td>\n",
       "      <td>agent_id/#agg</td>\n",
       "      <td>0</td>\n",
       "    </tr>\n",
       "    <tr>\n",
       "      <th>977</th>\n",
       "      <td>num_rooms/#agg</td>\n",
       "      <td>agent_last_name</td>\n",
       "      <td>0</td>\n",
       "    </tr>\n",
       "    <tr>\n",
       "      <th>978</th>\n",
       "      <td>num_rooms/#agg</td>\n",
       "      <td>agent_name</td>\n",
       "      <td>0</td>\n",
       "    </tr>\n",
       "    <tr>\n",
       "      <th>979</th>\n",
       "      <td>num_rooms/#agg</td>\n",
       "      <td>agent_phone_number</td>\n",
       "      <td>0</td>\n",
       "    </tr>\n",
       "  </tbody>\n",
       "</table>\n",
       "<p>1127 rows × 3 columns</p>\n",
       "</div>"
      ],
      "text/plain": [
       "             source              target  label\n",
       "0       agent_email    agent_first_name      0\n",
       "1       agent_email            agent_id      0\n",
       "2       agent_email       agent_id/#agg      0\n",
       "3       agent_email     agent_last_name      0\n",
       "4       agent_email          bath_rooms      0\n",
       "..              ...                 ...    ...\n",
       "975  num_rooms/#agg            agent_id      0\n",
       "976  num_rooms/#agg       agent_id/#agg      0\n",
       "977  num_rooms/#agg     agent_last_name      0\n",
       "978  num_rooms/#agg          agent_name      0\n",
       "979  num_rooms/#agg  agent_phone_number      0\n",
       "\n",
       "[1127 rows x 3 columns]"
      ]
     },
     "execution_count": 48,
     "metadata": {},
     "output_type": "execute_result"
    }
   ],
   "source": [
    "training"
   ]
  },
  {
   "cell_type": "code",
   "execution_count": null,
   "metadata": {},
   "outputs": [],
   "source": []
  }
 ],
 "metadata": {
  "kernelspec": {
   "display_name": "Python 3",
   "language": "python",
   "name": "python3"
  },
  "language_info": {
   "codemirror_mode": {
    "name": "ipython",
    "version": 3
   },
   "file_extension": ".py",
   "mimetype": "text/x-python",
   "name": "python",
   "nbconvert_exporter": "python",
   "pygments_lexer": "ipython3",
   "version": "3.7.9"
  }
 },
 "nbformat": 4,
 "nbformat_minor": 4
}

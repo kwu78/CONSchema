{
 "cells": [
  {
   "cell_type": "code",
   "execution_count": 10,
   "id": "a05e58c6",
   "metadata": {},
   "outputs": [],
   "source": [
    "import pandas as pd"
   ]
  },
  {
   "cell_type": "code",
   "execution_count": 11,
   "id": "21e26e98",
   "metadata": {},
   "outputs": [
    {
     "data": {
      "text/html": [
       "<div>\n",
       "<style scoped>\n",
       "    .dataframe tbody tr th:only-of-type {\n",
       "        vertical-align: middle;\n",
       "    }\n",
       "\n",
       "    .dataframe tbody tr th {\n",
       "        vertical-align: top;\n",
       "    }\n",
       "\n",
       "    .dataframe thead th {\n",
       "        text-align: right;\n",
       "    }\n",
       "</style>\n",
       "<table border=\"1\" class=\"dataframe\">\n",
       "  <thead>\n",
       "    <tr style=\"text-align: right;\">\n",
       "      <th></th>\n",
       "      <th>source</th>\n",
       "      <th>type1</th>\n",
       "    </tr>\n",
       "  </thead>\n",
       "  <tbody>\n",
       "    <tr>\n",
       "      <th>0</th>\n",
       "      <td>bu./course/college</td>\n",
       "      <td>string</td>\n",
       "    </tr>\n",
       "    <tr>\n",
       "      <th>1</th>\n",
       "      <td>bu./course/college</td>\n",
       "      <td>string</td>\n",
       "    </tr>\n",
       "    <tr>\n",
       "      <th>2</th>\n",
       "      <td>bu./course/college</td>\n",
       "      <td>string</td>\n",
       "    </tr>\n",
       "    <tr>\n",
       "      <th>3</th>\n",
       "      <td>bu./course/college</td>\n",
       "      <td>string</td>\n",
       "    </tr>\n",
       "    <tr>\n",
       "      <th>4</th>\n",
       "      <td>bu./course/college</td>\n",
       "      <td>string</td>\n",
       "    </tr>\n",
       "    <tr>\n",
       "      <th>...</th>\n",
       "      <td>...</td>\n",
       "      <td>...</td>\n",
       "    </tr>\n",
       "    <tr>\n",
       "      <th>997</th>\n",
       "      <td>fsu./Course/Section/#agg</td>\n",
       "      <td>integer</td>\n",
       "    </tr>\n",
       "    <tr>\n",
       "      <th>998</th>\n",
       "      <td>fsu./Course/Section/#agg</td>\n",
       "      <td>integer</td>\n",
       "    </tr>\n",
       "    <tr>\n",
       "      <th>999</th>\n",
       "      <td>fsu./Course/Section/#agg</td>\n",
       "      <td>integer</td>\n",
       "    </tr>\n",
       "    <tr>\n",
       "      <th>1000</th>\n",
       "      <td>fsu./Course/Section/#agg</td>\n",
       "      <td>integer</td>\n",
       "    </tr>\n",
       "    <tr>\n",
       "      <th>1001</th>\n",
       "      <td>fsu./Course/Section/#agg</td>\n",
       "      <td>integer</td>\n",
       "    </tr>\n",
       "  </tbody>\n",
       "</table>\n",
       "<p>1002 rows × 2 columns</p>\n",
       "</div>"
      ],
      "text/plain": [
       "                        source    type1\n",
       "0           bu./course/college   string\n",
       "1           bu./course/college   string\n",
       "2           bu./course/college   string\n",
       "3           bu./course/college   string\n",
       "4           bu./course/college   string\n",
       "...                        ...      ...\n",
       "997   fsu./Course/Section/#agg  integer\n",
       "998   fsu./Course/Section/#agg  integer\n",
       "999   fsu./Course/Section/#agg  integer\n",
       "1000  fsu./Course/Section/#agg  integer\n",
       "1001  fsu./Course/Section/#agg  integer\n",
       "\n",
       "[1002 rows x 2 columns]"
      ]
     },
     "execution_count": 11,
     "metadata": {},
     "output_type": "execute_result"
    }
   ],
   "source": [
    "match=pd.read_excel('match.xlsx')\n",
    "source=match.reindex(columns=['source','type1'])\n",
    "source"
   ]
  },
  {
   "cell_type": "code",
   "execution_count": 19,
   "id": "59ef021a",
   "metadata": {},
   "outputs": [
    {
     "data": {
      "text/html": [
       "<div>\n",
       "<style scoped>\n",
       "    .dataframe tbody tr th:only-of-type {\n",
       "        vertical-align: middle;\n",
       "    }\n",
       "\n",
       "    .dataframe tbody tr th {\n",
       "        vertical-align: top;\n",
       "    }\n",
       "\n",
       "    .dataframe thead th {\n",
       "        text-align: right;\n",
       "    }\n",
       "</style>\n",
       "<table border=\"1\" class=\"dataframe\">\n",
       "  <thead>\n",
       "    <tr style=\"text-align: right;\">\n",
       "      <th></th>\n",
       "      <th>column</th>\n",
       "      <th>type</th>\n",
       "    </tr>\n",
       "  </thead>\n",
       "  <tbody>\n",
       "    <tr>\n",
       "      <th>0</th>\n",
       "      <td>bu./course/college</td>\n",
       "      <td>string</td>\n",
       "    </tr>\n",
       "    <tr>\n",
       "      <th>5</th>\n",
       "      <td>bu./course/courseInfo/@code</td>\n",
       "      <td>string</td>\n",
       "    </tr>\n",
       "    <tr>\n",
       "      <th>10</th>\n",
       "      <td>bu./course/courseInfo/instructor</td>\n",
       "      <td>string</td>\n",
       "    </tr>\n",
       "    <tr>\n",
       "      <th>15</th>\n",
       "      <td>bu./course/courseInfo/schedule/days</td>\n",
       "      <td>date</td>\n",
       "    </tr>\n",
       "    <tr>\n",
       "      <th>20</th>\n",
       "      <td>bu./course/courseInfo/schedule/room</td>\n",
       "      <td>string</td>\n",
       "    </tr>\n",
       "    <tr>\n",
       "      <th>...</th>\n",
       "      <td>...</td>\n",
       "      <td>...</td>\n",
       "    </tr>\n",
       "    <tr>\n",
       "      <th>977</th>\n",
       "      <td>fsu./Course/Detail/SeatsOpen/#agg</td>\n",
       "      <td>integer</td>\n",
       "    </tr>\n",
       "    <tr>\n",
       "      <th>982</th>\n",
       "      <td>fsu./Course/Detail/Title</td>\n",
       "      <td>string</td>\n",
       "    </tr>\n",
       "    <tr>\n",
       "      <th>987</th>\n",
       "      <td>fsu./Course/ReferenceNo</td>\n",
       "      <td>string</td>\n",
       "    </tr>\n",
       "    <tr>\n",
       "      <th>992</th>\n",
       "      <td>fsu./Course/Section</td>\n",
       "      <td>integer</td>\n",
       "    </tr>\n",
       "    <tr>\n",
       "      <th>997</th>\n",
       "      <td>fsu./Course/Section/#agg</td>\n",
       "      <td>integer</td>\n",
       "    </tr>\n",
       "  </tbody>\n",
       "</table>\n",
       "<p>123 rows × 2 columns</p>\n",
       "</div>"
      ],
      "text/plain": [
       "                                  column     type\n",
       "0                     bu./course/college   string\n",
       "5            bu./course/courseInfo/@code   string\n",
       "10      bu./course/courseInfo/instructor   string\n",
       "15   bu./course/courseInfo/schedule/days     date\n",
       "20   bu./course/courseInfo/schedule/room   string\n",
       "..                                   ...      ...\n",
       "977    fsu./Course/Detail/SeatsOpen/#agg  integer\n",
       "982             fsu./Course/Detail/Title   string\n",
       "987              fsu./Course/ReferenceNo   string\n",
       "992                  fsu./Course/Section  integer\n",
       "997             fsu./Course/Section/#agg  integer\n",
       "\n",
       "[123 rows x 2 columns]"
      ]
     },
     "execution_count": 19,
     "metadata": {},
     "output_type": "execute_result"
    }
   ],
   "source": [
    "source=source.drop_duplicates()\n",
    "\n",
    "source=source.rename(columns={'source':'column','type1':'type'})\n",
    "source"
   ]
  },
  {
   "cell_type": "code",
   "execution_count": 20,
   "id": "3fa2c744",
   "metadata": {},
   "outputs": [
    {
     "data": {
      "text/html": [
       "<div>\n",
       "<style scoped>\n",
       "    .dataframe tbody tr th:only-of-type {\n",
       "        vertical-align: middle;\n",
       "    }\n",
       "\n",
       "    .dataframe tbody tr th {\n",
       "        vertical-align: top;\n",
       "    }\n",
       "\n",
       "    .dataframe thead th {\n",
       "        text-align: right;\n",
       "    }\n",
       "</style>\n",
       "<table border=\"1\" class=\"dataframe\">\n",
       "  <thead>\n",
       "    <tr style=\"text-align: right;\">\n",
       "      <th></th>\n",
       "      <th>column</th>\n",
       "      <th>type</th>\n",
       "    </tr>\n",
       "  </thead>\n",
       "  <tbody>\n",
       "    <tr>\n",
       "      <th>0</th>\n",
       "      <td>arizona./Course/@Code</td>\n",
       "      <td>string</td>\n",
       "    </tr>\n",
       "    <tr>\n",
       "      <th>1</th>\n",
       "      <td>arizona./Course/Day</td>\n",
       "      <td>date</td>\n",
       "    </tr>\n",
       "    <tr>\n",
       "      <th>2</th>\n",
       "      <td>arizona./Course/Instructor</td>\n",
       "      <td>string</td>\n",
       "    </tr>\n",
       "    <tr>\n",
       "      <th>3</th>\n",
       "      <td>arizona./Course/Place</td>\n",
       "      <td>string</td>\n",
       "    </tr>\n",
       "    <tr>\n",
       "      <th>4</th>\n",
       "      <td>arizona./Course/Time</td>\n",
       "      <td>time</td>\n",
       "    </tr>\n",
       "    <tr>\n",
       "      <th>...</th>\n",
       "      <td>...</td>\n",
       "      <td>...</td>\n",
       "    </tr>\n",
       "    <tr>\n",
       "      <th>863</th>\n",
       "      <td>stanford./Course/CourseCode</td>\n",
       "      <td>string</td>\n",
       "    </tr>\n",
       "    <tr>\n",
       "      <th>864</th>\n",
       "      <td>stanford./Course/CourseName</td>\n",
       "      <td>string</td>\n",
       "    </tr>\n",
       "    <tr>\n",
       "      <th>865</th>\n",
       "      <td>stanford./Course/DayTime</td>\n",
       "      <td>time</td>\n",
       "    </tr>\n",
       "    <tr>\n",
       "      <th>866</th>\n",
       "      <td>stanford./Course/Instructor</td>\n",
       "      <td>string</td>\n",
       "    </tr>\n",
       "    <tr>\n",
       "      <th>867</th>\n",
       "      <td>stanford./Course/Room</td>\n",
       "      <td>string</td>\n",
       "    </tr>\n",
       "  </tbody>\n",
       "</table>\n",
       "<p>90 rows × 2 columns</p>\n",
       "</div>"
      ],
      "text/plain": [
       "                          column    type\n",
       "0          arizona./Course/@Code  string\n",
       "1            arizona./Course/Day    date\n",
       "2     arizona./Course/Instructor  string\n",
       "3          arizona./Course/Place  string\n",
       "4           arizona./Course/Time    time\n",
       "..                           ...     ...\n",
       "863  stanford./Course/CourseCode  string\n",
       "864  stanford./Course/CourseName  string\n",
       "865     stanford./Course/DayTime    time\n",
       "866  stanford./Course/Instructor  string\n",
       "867        stanford./Course/Room  string\n",
       "\n",
       "[90 rows x 2 columns]"
      ]
     },
     "execution_count": 20,
     "metadata": {},
     "output_type": "execute_result"
    }
   ],
   "source": [
    "target=match.reindex(columns=['target','type2'])\n",
    "target=target.drop_duplicates()\n",
    "target=target.rename(columns={'target':'column','type2':'type'})\n",
    "target"
   ]
  },
  {
   "cell_type": "code",
   "execution_count": 15,
   "id": "f86860ca",
   "metadata": {},
   "outputs": [
    {
     "data": {
      "text/plain": [
       "149"
      ]
     },
     "execution_count": 15,
     "metadata": {},
     "output_type": "execute_result"
    }
   ],
   "source": [
    "len(target[target['type2']=='string'])+len(source[source['type1']=='string'])"
   ]
  },
  {
   "cell_type": "code",
   "execution_count": 16,
   "id": "b23876e8",
   "metadata": {},
   "outputs": [
    {
     "data": {
      "text/plain": [
       "213"
      ]
     },
     "execution_count": 16,
     "metadata": {},
     "output_type": "execute_result"
    }
   ],
   "source": [
    "90+123"
   ]
  },
  {
   "cell_type": "code",
   "execution_count": 17,
   "id": "0c3627ed",
   "metadata": {},
   "outputs": [
    {
     "data": {
      "text/plain": [
       "0.6995305164319249"
      ]
     },
     "execution_count": 17,
     "metadata": {},
     "output_type": "execute_result"
    }
   ],
   "source": [
    "149/213"
   ]
  },
  {
   "cell_type": "code",
   "execution_count": 24,
   "id": "1b093ebb",
   "metadata": {},
   "outputs": [],
   "source": [
    "fin=pd.concat([source,target]).drop_duplicates()"
   ]
  },
  {
   "cell_type": "code",
   "execution_count": 25,
   "id": "04224367",
   "metadata": {},
   "outputs": [
    {
     "data": {
      "text/plain": [
       "0.7005988023952096"
      ]
     },
     "execution_count": 25,
     "metadata": {},
     "output_type": "execute_result"
    }
   ],
   "source": [
    "len(fin[fin['type']=='string'])/167"
   ]
  },
  {
   "cell_type": "code",
   "execution_count": 27,
   "id": "6a09b369",
   "metadata": {},
   "outputs": [
    {
     "data": {
      "text/plain": [
       "0.1437125748502994"
      ]
     },
     "execution_count": 27,
     "metadata": {},
     "output_type": "execute_result"
    }
   ],
   "source": [
    "(len(fin[fin['type']=='date'])+len(fin[fin['type']=='time']))/167"
   ]
  },
  {
   "cell_type": "code",
   "execution_count": 28,
   "id": "fdc5276d",
   "metadata": {},
   "outputs": [
    {
     "data": {
      "text/plain": [
       "0.15568862275449102"
      ]
     },
     "execution_count": 28,
     "metadata": {},
     "output_type": "execute_result"
    }
   ],
   "source": [
    "(len(fin[fin['type']=='integer']))/167"
   ]
  },
  {
   "cell_type": "code",
   "execution_count": 33,
   "id": "9a0ae3a7",
   "metadata": {},
   "outputs": [
    {
     "data": {
      "text/plain": [
       "167"
      ]
     },
     "execution_count": 33,
     "metadata": {},
     "output_type": "execute_result"
    }
   ],
   "source": [
    "pd.set_option('display.max_rows',200)\n",
    "len(fin)"
   ]
  },
  {
   "cell_type": "code",
   "execution_count": 35,
   "id": "c270e0d7",
   "metadata": {},
   "outputs": [
    {
     "data": {
      "text/plain": [
       "52"
      ]
     },
     "execution_count": 35,
     "metadata": {},
     "output_type": "execute_result"
    }
   ],
   "source": [
    "sum(match['label'])"
   ]
  },
  {
   "cell_type": "code",
   "execution_count": null,
   "id": "20ec6e1f",
   "metadata": {},
   "outputs": [],
   "source": []
  }
 ],
 "metadata": {
  "kernelspec": {
   "display_name": "Python 3 (ipykernel)",
   "language": "python",
   "name": "python3"
  },
  "language_info": {
   "codemirror_mode": {
    "name": "ipython",
    "version": 3
   },
   "file_extension": ".py",
   "mimetype": "text/x-python",
   "name": "python",
   "nbconvert_exporter": "python",
   "pygments_lexer": "ipython3",
   "version": "3.10.1"
  }
 },
 "nbformat": 4,
 "nbformat_minor": 5
}

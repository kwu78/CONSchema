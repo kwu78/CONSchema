{
 "cells": [
  {
   "cell_type": "code",
   "execution_count": 36,
   "id": "a05e58c6",
   "metadata": {},
   "outputs": [],
   "source": [
    "import pandas as pd"
   ]
  },
  {
   "cell_type": "code",
   "execution_count": 11,
   "id": "21e26e98",
   "metadata": {},
   "outputs": [
    {
     "data": {
      "text/html": [
       "<div>\n",
       "<style scoped>\n",
       "    .dataframe tbody tr th:only-of-type {\n",
       "        vertical-align: middle;\n",
       "    }\n",
       "\n",
       "    .dataframe tbody tr th {\n",
       "        vertical-align: top;\n",
       "    }\n",
       "\n",
       "    .dataframe thead th {\n",
       "        text-align: right;\n",
       "    }\n",
       "</style>\n",
       "<table border=\"1\" class=\"dataframe\">\n",
       "  <thead>\n",
       "    <tr style=\"text-align: right;\">\n",
       "      <th></th>\n",
       "      <th>source</th>\n",
       "      <th>type1</th>\n",
       "    </tr>\n",
       "  </thead>\n",
       "  <tbody>\n",
       "    <tr>\n",
       "      <th>0</th>\n",
       "      <td>bu./course/college</td>\n",
       "      <td>string</td>\n",
       "    </tr>\n",
       "    <tr>\n",
       "      <th>1</th>\n",
       "      <td>bu./course/college</td>\n",
       "      <td>string</td>\n",
       "    </tr>\n",
       "    <tr>\n",
       "      <th>2</th>\n",
       "      <td>bu./course/college</td>\n",
       "      <td>string</td>\n",
       "    </tr>\n",
       "    <tr>\n",
       "      <th>3</th>\n",
       "      <td>bu./course/college</td>\n",
       "      <td>string</td>\n",
       "    </tr>\n",
       "    <tr>\n",
       "      <th>4</th>\n",
       "      <td>bu./course/college</td>\n",
       "      <td>string</td>\n",
       "    </tr>\n",
       "    <tr>\n",
       "      <th>...</th>\n",
       "      <td>...</td>\n",
       "      <td>...</td>\n",
       "    </tr>\n",
       "    <tr>\n",
       "      <th>997</th>\n",
       "      <td>fsu./Course/Section/#agg</td>\n",
       "      <td>integer</td>\n",
       "    </tr>\n",
       "    <tr>\n",
       "      <th>998</th>\n",
       "      <td>fsu./Course/Section/#agg</td>\n",
       "      <td>integer</td>\n",
       "    </tr>\n",
       "    <tr>\n",
       "      <th>999</th>\n",
       "      <td>fsu./Course/Section/#agg</td>\n",
       "      <td>integer</td>\n",
       "    </tr>\n",
       "    <tr>\n",
       "      <th>1000</th>\n",
       "      <td>fsu./Course/Section/#agg</td>\n",
       "      <td>integer</td>\n",
       "    </tr>\n",
       "    <tr>\n",
       "      <th>1001</th>\n",
       "      <td>fsu./Course/Section/#agg</td>\n",
       "      <td>integer</td>\n",
       "    </tr>\n",
       "  </tbody>\n",
       "</table>\n",
       "<p>1002 rows × 2 columns</p>\n",
       "</div>"
      ],
      "text/plain": [
       "                        source    type1\n",
       "0           bu./course/college   string\n",
       "1           bu./course/college   string\n",
       "2           bu./course/college   string\n",
       "3           bu./course/college   string\n",
       "4           bu./course/college   string\n",
       "...                        ...      ...\n",
       "997   fsu./Course/Section/#agg  integer\n",
       "998   fsu./Course/Section/#agg  integer\n",
       "999   fsu./Course/Section/#agg  integer\n",
       "1000  fsu./Course/Section/#agg  integer\n",
       "1001  fsu./Course/Section/#agg  integer\n",
       "\n",
       "[1002 rows x 2 columns]"
      ]
     },
     "execution_count": 11,
     "metadata": {},
     "output_type": "execute_result"
    }
   ],
   "source": [
    "match=pd.read_excel('match.xlsx')\n",
    "source=match.reindex(columns=['source','type1'])\n",
    "source"
   ]
  },
  {
   "cell_type": "code",
   "execution_count": 19,
   "id": "59ef021a",
   "metadata": {},
   "outputs": [
    {
     "data": {
      "text/html": [
       "<div>\n",
       "<style scoped>\n",
       "    .dataframe tbody tr th:only-of-type {\n",
       "        vertical-align: middle;\n",
       "    }\n",
       "\n",
       "    .dataframe tbody tr th {\n",
       "        vertical-align: top;\n",
       "    }\n",
       "\n",
       "    .dataframe thead th {\n",
       "        text-align: right;\n",
       "    }\n",
       "</style>\n",
       "<table border=\"1\" class=\"dataframe\">\n",
       "  <thead>\n",
       "    <tr style=\"text-align: right;\">\n",
       "      <th></th>\n",
       "      <th>column</th>\n",
       "      <th>type</th>\n",
       "    </tr>\n",
       "  </thead>\n",
       "  <tbody>\n",
       "    <tr>\n",
       "      <th>0</th>\n",
       "      <td>bu./course/college</td>\n",
       "      <td>string</td>\n",
       "    </tr>\n",
       "    <tr>\n",
       "      <th>5</th>\n",
       "      <td>bu./course/courseInfo/@code</td>\n",
       "      <td>string</td>\n",
       "    </tr>\n",
       "    <tr>\n",
       "      <th>10</th>\n",
       "      <td>bu./course/courseInfo/instructor</td>\n",
       "      <td>string</td>\n",
       "    </tr>\n",
       "    <tr>\n",
       "      <th>15</th>\n",
       "      <td>bu./course/courseInfo/schedule/days</td>\n",
       "      <td>date</td>\n",
       "    </tr>\n",
       "    <tr>\n",
       "      <th>20</th>\n",
       "      <td>bu./course/courseInfo/schedule/room</td>\n",
       "      <td>string</td>\n",
       "    </tr>\n",
       "    <tr>\n",
       "      <th>...</th>\n",
       "      <td>...</td>\n",
       "      <td>...</td>\n",
       "    </tr>\n",
       "    <tr>\n",
       "      <th>977</th>\n",
       "      <td>fsu./Course/Detail/SeatsOpen/#agg</td>\n",
       "      <td>integer</td>\n",
       "    </tr>\n",
       "    <tr>\n",
       "      <th>982</th>\n",
       "      <td>fsu./Course/Detail/Title</td>\n",
       "      <td>string</td>\n",
       "    </tr>\n",
       "    <tr>\n",
       "      <th>987</th>\n",
       "      <td>fsu./Course/ReferenceNo</td>\n",
       "      <td>string</td>\n",
       "    </tr>\n",
       "    <tr>\n",
       "      <th>992</th>\n",
       "      <td>fsu./Course/Section</td>\n",
       "      <td>integer</td>\n",
       "    </tr>\n",
       "    <tr>\n",
       "      <th>997</th>\n",
       "      <td>fsu./Course/Section/#agg</td>\n",
       "      <td>integer</td>\n",
       "    </tr>\n",
       "  </tbody>\n",
       "</table>\n",
       "<p>123 rows × 2 columns</p>\n",
       "</div>"
      ],
      "text/plain": [
       "                                  column     type\n",
       "0                     bu./course/college   string\n",
       "5            bu./course/courseInfo/@code   string\n",
       "10      bu./course/courseInfo/instructor   string\n",
       "15   bu./course/courseInfo/schedule/days     date\n",
       "20   bu./course/courseInfo/schedule/room   string\n",
       "..                                   ...      ...\n",
       "977    fsu./Course/Detail/SeatsOpen/#agg  integer\n",
       "982             fsu./Course/Detail/Title   string\n",
       "987              fsu./Course/ReferenceNo   string\n",
       "992                  fsu./Course/Section  integer\n",
       "997             fsu./Course/Section/#agg  integer\n",
       "\n",
       "[123 rows x 2 columns]"
      ]
     },
     "execution_count": 19,
     "metadata": {},
     "output_type": "execute_result"
    }
   ],
   "source": [
    "source=source.drop_duplicates()\n",
    "\n",
    "source=source.rename(columns={'source':'column','type1':'type'})\n",
    "source"
   ]
  },
  {
   "cell_type": "code",
   "execution_count": 20,
   "id": "3fa2c744",
   "metadata": {},
   "outputs": [
    {
     "data": {
      "text/html": [
       "<div>\n",
       "<style scoped>\n",
       "    .dataframe tbody tr th:only-of-type {\n",
       "        vertical-align: middle;\n",
       "    }\n",
       "\n",
       "    .dataframe tbody tr th {\n",
       "        vertical-align: top;\n",
       "    }\n",
       "\n",
       "    .dataframe thead th {\n",
       "        text-align: right;\n",
       "    }\n",
       "</style>\n",
       "<table border=\"1\" class=\"dataframe\">\n",
       "  <thead>\n",
       "    <tr style=\"text-align: right;\">\n",
       "      <th></th>\n",
       "      <th>column</th>\n",
       "      <th>type</th>\n",
       "    </tr>\n",
       "  </thead>\n",
       "  <tbody>\n",
       "    <tr>\n",
       "      <th>0</th>\n",
       "      <td>arizona./Course/@Code</td>\n",
       "      <td>string</td>\n",
       "    </tr>\n",
       "    <tr>\n",
       "      <th>1</th>\n",
       "      <td>arizona./Course/Day</td>\n",
       "      <td>date</td>\n",
       "    </tr>\n",
       "    <tr>\n",
       "      <th>2</th>\n",
       "      <td>arizona./Course/Instructor</td>\n",
       "      <td>string</td>\n",
       "    </tr>\n",
       "    <tr>\n",
       "      <th>3</th>\n",
       "      <td>arizona./Course/Place</td>\n",
       "      <td>string</td>\n",
       "    </tr>\n",
       "    <tr>\n",
       "      <th>4</th>\n",
       "      <td>arizona./Course/Time</td>\n",
       "      <td>time</td>\n",
       "    </tr>\n",
       "    <tr>\n",
       "      <th>...</th>\n",
       "      <td>...</td>\n",
       "      <td>...</td>\n",
       "    </tr>\n",
       "    <tr>\n",
       "      <th>863</th>\n",
       "      <td>stanford./Course/CourseCode</td>\n",
       "      <td>string</td>\n",
       "    </tr>\n",
       "    <tr>\n",
       "      <th>864</th>\n",
       "      <td>stanford./Course/CourseName</td>\n",
       "      <td>string</td>\n",
       "    </tr>\n",
       "    <tr>\n",
       "      <th>865</th>\n",
       "      <td>stanford./Course/DayTime</td>\n",
       "      <td>time</td>\n",
       "    </tr>\n",
       "    <tr>\n",
       "      <th>866</th>\n",
       "      <td>stanford./Course/Instructor</td>\n",
       "      <td>string</td>\n",
       "    </tr>\n",
       "    <tr>\n",
       "      <th>867</th>\n",
       "      <td>stanford./Course/Room</td>\n",
       "      <td>string</td>\n",
       "    </tr>\n",
       "  </tbody>\n",
       "</table>\n",
       "<p>90 rows × 2 columns</p>\n",
       "</div>"
      ],
      "text/plain": [
       "                          column    type\n",
       "0          arizona./Course/@Code  string\n",
       "1            arizona./Course/Day    date\n",
       "2     arizona./Course/Instructor  string\n",
       "3          arizona./Course/Place  string\n",
       "4           arizona./Course/Time    time\n",
       "..                           ...     ...\n",
       "863  stanford./Course/CourseCode  string\n",
       "864  stanford./Course/CourseName  string\n",
       "865     stanford./Course/DayTime    time\n",
       "866  stanford./Course/Instructor  string\n",
       "867        stanford./Course/Room  string\n",
       "\n",
       "[90 rows x 2 columns]"
      ]
     },
     "execution_count": 20,
     "metadata": {},
     "output_type": "execute_result"
    }
   ],
   "source": [
    "target=match.reindex(columns=['target','type2'])\n",
    "target=target.drop_duplicates()\n",
    "target=target.rename(columns={'target':'column','type2':'type'})\n",
    "target"
   ]
  },
  {
   "cell_type": "code",
   "execution_count": 15,
   "id": "f86860ca",
   "metadata": {},
   "outputs": [
    {
     "data": {
      "text/plain": [
       "149"
      ]
     },
     "execution_count": 15,
     "metadata": {},
     "output_type": "execute_result"
    }
   ],
   "source": [
    "len(target[target['type2']=='string'])+len(source[source['type1']=='string'])"
   ]
  },
  {
   "cell_type": "code",
   "execution_count": 16,
   "id": "b23876e8",
   "metadata": {},
   "outputs": [
    {
     "data": {
      "text/plain": [
       "213"
      ]
     },
     "execution_count": 16,
     "metadata": {},
     "output_type": "execute_result"
    }
   ],
   "source": [
    "90+123"
   ]
  },
  {
   "cell_type": "code",
   "execution_count": 17,
   "id": "0c3627ed",
   "metadata": {},
   "outputs": [
    {
     "data": {
      "text/plain": [
       "0.6995305164319249"
      ]
     },
     "execution_count": 17,
     "metadata": {},
     "output_type": "execute_result"
    }
   ],
   "source": [
    "149/213"
   ]
  },
  {
   "cell_type": "code",
   "execution_count": 24,
   "id": "1b093ebb",
   "metadata": {},
   "outputs": [],
   "source": [
    "fin=pd.concat([source,target]).drop_duplicates()"
   ]
  },
  {
   "cell_type": "code",
   "execution_count": 25,
   "id": "04224367",
   "metadata": {},
   "outputs": [
    {
     "data": {
      "text/plain": [
       "0.7005988023952096"
      ]
     },
     "execution_count": 25,
     "metadata": {},
     "output_type": "execute_result"
    }
   ],
   "source": [
    "len(fin[fin['type']=='string'])/167"
   ]
  },
  {
   "cell_type": "code",
   "execution_count": 27,
   "id": "6a09b369",
   "metadata": {},
   "outputs": [
    {
     "data": {
      "text/plain": [
       "0.1437125748502994"
      ]
     },
     "execution_count": 27,
     "metadata": {},
     "output_type": "execute_result"
    }
   ],
   "source": [
    "(len(fin[fin['type']=='date'])+len(fin[fin['type']=='time']))/167"
   ]
  },
  {
   "cell_type": "code",
   "execution_count": 28,
   "id": "fdc5276d",
   "metadata": {},
   "outputs": [
    {
     "data": {
      "text/plain": [
       "0.15568862275449102"
      ]
     },
     "execution_count": 28,
     "metadata": {},
     "output_type": "execute_result"
    }
   ],
   "source": [
    "(len(fin[fin['type']=='integer']))/167"
   ]
  },
  {
   "cell_type": "code",
   "execution_count": 33,
   "id": "9a0ae3a7",
   "metadata": {},
   "outputs": [
    {
     "data": {
      "text/plain": [
       "167"
      ]
     },
     "execution_count": 33,
     "metadata": {},
     "output_type": "execute_result"
    }
   ],
   "source": [
    "pd.set_option('display.max_rows',200)\n",
    "len(fin)"
   ]
  },
  {
   "cell_type": "code",
   "execution_count": 35,
   "id": "c270e0d7",
   "metadata": {},
   "outputs": [
    {
     "data": {
      "text/plain": [
       "52"
      ]
     },
     "execution_count": 35,
     "metadata": {},
     "output_type": "execute_result"
    }
   ],
   "source": [
    "sum(match['label'])"
   ]
  },
  {
   "cell_type": "code",
   "execution_count": 39,
   "id": "20ec6e1f",
   "metadata": {},
   "outputs": [],
   "source": [
    "test=pd.read_excel('seen_split/test_thalia.xlsx')\n",
    "train=pd.read_excel('seen_split/train_thalia.xlsx')\n",
    "val=pd.read_excel('seen_split/val_thalia.xlsx')"
   ]
  },
  {
   "cell_type": "code",
   "execution_count": 40,
   "id": "c9400021",
   "metadata": {},
   "outputs": [
    {
     "data": {
      "text/html": [
       "<div>\n",
       "<style scoped>\n",
       "    .dataframe tbody tr th:only-of-type {\n",
       "        vertical-align: middle;\n",
       "    }\n",
       "\n",
       "    .dataframe tbody tr th {\n",
       "        vertical-align: top;\n",
       "    }\n",
       "\n",
       "    .dataframe thead th {\n",
       "        text-align: right;\n",
       "    }\n",
       "</style>\n",
       "<table border=\"1\" class=\"dataframe\">\n",
       "  <thead>\n",
       "    <tr style=\"text-align: right;\">\n",
       "      <th></th>\n",
       "      <th>source</th>\n",
       "      <th>target</th>\n",
       "      <th>des1</th>\n",
       "      <th>des2</th>\n",
       "      <th>label</th>\n",
       "    </tr>\n",
       "  </thead>\n",
       "  <tbody>\n",
       "    <tr>\n",
       "      <th>0</th>\n",
       "      <td>washu./Course/Title</td>\n",
       "      <td>umich./course/prerequisite</td>\n",
       "      <td>washu. Course Title</td>\n",
       "      <td>umich. course prerequisite</td>\n",
       "      <td>0</td>\n",
       "    </tr>\n",
       "    <tr>\n",
       "      <th>1</th>\n",
       "      <td>nyu./Course/Days</td>\n",
       "      <td>gatech./Course/Code</td>\n",
       "      <td>nyu. Course Days</td>\n",
       "      <td>gatech. Course Code</td>\n",
       "      <td>0</td>\n",
       "    </tr>\n",
       "    <tr>\n",
       "      <th>2</th>\n",
       "      <td>umich./course/@subject</td>\n",
       "      <td>fiu./Course/Prereq</td>\n",
       "      <td>umich. course @subject</td>\n",
       "      <td>fiu. Course Prereq</td>\n",
       "      <td>0</td>\n",
       "    </tr>\n",
       "    <tr>\n",
       "      <th>3</th>\n",
       "      <td>hku./Course/CourseSite</td>\n",
       "      <td>harvard./Course/Prereqs</td>\n",
       "      <td>hku. Course CourseSite</td>\n",
       "      <td>harvard. Course Prereqs</td>\n",
       "      <td>0</td>\n",
       "    </tr>\n",
       "    <tr>\n",
       "      <th>4</th>\n",
       "      <td>yale./Course/Instructor</td>\n",
       "      <td>gatech./Course/In/#agg</td>\n",
       "      <td>yale. Course Instructor</td>\n",
       "      <td>gatech. Course In #agg</td>\n",
       "      <td>0</td>\n",
       "    </tr>\n",
       "    <tr>\n",
       "      <th>...</th>\n",
       "      <td>...</td>\n",
       "      <td>...</td>\n",
       "      <td>...</td>\n",
       "      <td>...</td>\n",
       "      <td>...</td>\n",
       "    </tr>\n",
       "    <tr>\n",
       "      <th>127</th>\n",
       "      <td>washu./Course/Instructor</td>\n",
       "      <td>fiu./Course/Prereq</td>\n",
       "      <td>washu. Course Instructor</td>\n",
       "      <td>fiu. Course Prereq</td>\n",
       "      <td>0</td>\n",
       "    </tr>\n",
       "    <tr>\n",
       "      <th>128</th>\n",
       "      <td>nyu./Course/Days</td>\n",
       "      <td>gatech./Course/Description</td>\n",
       "      <td>nyu. Course Days</td>\n",
       "      <td>gatech. Course Description</td>\n",
       "      <td>0</td>\n",
       "    </tr>\n",
       "    <tr>\n",
       "      <th>129</th>\n",
       "      <td>yale./Course/Instructor</td>\n",
       "      <td>gatech./Course/Code/#agg</td>\n",
       "      <td>yale. Course Instructor</td>\n",
       "      <td>gatech. Course Code #agg</td>\n",
       "      <td>0</td>\n",
       "    </tr>\n",
       "    <tr>\n",
       "      <th>130</th>\n",
       "      <td>toronto./course/coursewebsite</td>\n",
       "      <td>metu./Course/@Code</td>\n",
       "      <td>toronto. course coursewebsite</td>\n",
       "      <td>metu. Course @Code</td>\n",
       "      <td>0</td>\n",
       "    </tr>\n",
       "    <tr>\n",
       "      <th>131</th>\n",
       "      <td>uiuc./BannerNumber/UIDirectNumber</td>\n",
       "      <td>hku./Course/CourseSite</td>\n",
       "      <td>uiuc. BannerNumber UIDirectNumber</td>\n",
       "      <td>hku. Course CourseSite</td>\n",
       "      <td>0</td>\n",
       "    </tr>\n",
       "  </tbody>\n",
       "</table>\n",
       "<p>1002 rows × 5 columns</p>\n",
       "</div>"
      ],
      "text/plain": [
       "                                source                      target  \\\n",
       "0                  washu./Course/Title  umich./course/prerequisite   \n",
       "1                     nyu./Course/Days         gatech./Course/Code   \n",
       "2               umich./course/@subject          fiu./Course/Prereq   \n",
       "3               hku./Course/CourseSite     harvard./Course/Prereqs   \n",
       "4              yale./Course/Instructor      gatech./Course/In/#agg   \n",
       "..                                 ...                         ...   \n",
       "127           washu./Course/Instructor          fiu./Course/Prereq   \n",
       "128                   nyu./Course/Days  gatech./Course/Description   \n",
       "129            yale./Course/Instructor    gatech./Course/Code/#agg   \n",
       "130      toronto./course/coursewebsite          metu./Course/@Code   \n",
       "131  uiuc./BannerNumber/UIDirectNumber      hku./Course/CourseSite   \n",
       "\n",
       "                                  des1                        des2  label  \n",
       "0                  washu. Course Title  umich. course prerequisite      0  \n",
       "1                     nyu. Course Days         gatech. Course Code      0  \n",
       "2               umich. course @subject          fiu. Course Prereq      0  \n",
       "3               hku. Course CourseSite     harvard. Course Prereqs      0  \n",
       "4              yale. Course Instructor      gatech. Course In #agg      0  \n",
       "..                                 ...                         ...    ...  \n",
       "127           washu. Course Instructor          fiu. Course Prereq      0  \n",
       "128                   nyu. Course Days  gatech. Course Description      0  \n",
       "129            yale. Course Instructor    gatech. Course Code #agg      0  \n",
       "130      toronto. course coursewebsite          metu. Course @Code      0  \n",
       "131  uiuc. BannerNumber UIDirectNumber      hku. Course CourseSite      0  \n",
       "\n",
       "[1002 rows x 5 columns]"
      ]
     },
     "execution_count": 40,
     "metadata": {},
     "output_type": "execute_result"
    }
   ],
   "source": [
    "thalia=pd.concat([train,val,test])\n",
    "thalia"
   ]
  },
  {
   "cell_type": "code",
   "execution_count": 41,
   "id": "785918a5",
   "metadata": {},
   "outputs": [],
   "source": [
    "des1_mean=(thalia['des1'].str.len().mean()+thalia['des2'].str.len().mean())/2\n",
    "des1_min=min(thalia['des1'].str.len().min(),thalia['des2'].str.len().min())\n",
    "des1_max=max(thalia['des1'].str.len().max(),thalia['des2'].str.len().max())"
   ]
  },
  {
   "cell_type": "code",
   "execution_count": 42,
   "id": "0f135d66",
   "metadata": {},
   "outputs": [
    {
     "data": {
      "text/plain": [
       "22.4560878243513"
      ]
     },
     "execution_count": 42,
     "metadata": {},
     "output_type": "execute_result"
    }
   ],
   "source": [
    "des1_mean"
   ]
  },
  {
   "cell_type": "code",
   "execution_count": 43,
   "id": "5f5f1844",
   "metadata": {},
   "outputs": [
    {
     "data": {
      "text/plain": [
       "14"
      ]
     },
     "execution_count": 43,
     "metadata": {},
     "output_type": "execute_result"
    }
   ],
   "source": [
    "des1_min"
   ]
  },
  {
   "cell_type": "code",
   "execution_count": 44,
   "id": "db368de5",
   "metadata": {},
   "outputs": [
    {
     "data": {
      "text/plain": [
       "35"
      ]
     },
     "execution_count": 44,
     "metadata": {},
     "output_type": "execute_result"
    }
   ],
   "source": [
    "des1_max"
   ]
  },
  {
   "cell_type": "code",
   "execution_count": null,
   "id": "2d6b380b",
   "metadata": {},
   "outputs": [],
   "source": []
  }
 ],
 "metadata": {
  "kernelspec": {
   "display_name": "Python 3 (ipykernel)",
   "language": "python",
   "name": "python3"
  },
  "language_info": {
   "codemirror_mode": {
    "name": "ipython",
    "version": 3
   },
   "file_extension": ".py",
   "mimetype": "text/x-python",
   "name": "python",
   "nbconvert_exporter": "python",
   "pygments_lexer": "ipython3",
   "version": "3.10.1"
  }
 },
 "nbformat": 4,
 "nbformat_minor": 5
}

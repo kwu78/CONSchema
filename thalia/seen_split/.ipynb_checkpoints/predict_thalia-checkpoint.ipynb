{
 "cells": [
  {
   "cell_type": "code",
   "execution_count": 1,
   "id": "0ace1ca2",
   "metadata": {},
   "outputs": [
    {
     "name": "stderr",
     "output_type": "stream",
     "text": [
      "/Library/Frameworks/Python.framework/Versions/3.10/lib/python3.10/site-packages/tqdm/auto.py:22: TqdmWarning: IProgress not found. Please update jupyter and ipywidgets. See https://ipywidgets.readthedocs.io/en/stable/user_install.html\n",
      "  from .autonotebook import tqdm as notebook_tqdm\n"
     ]
    }
   ],
   "source": [
    "import pandas as pd\n",
    "from sklearn.model_selection import GridSearchCV\n",
    "from sklearn.ensemble import RandomForestClassifier\n",
    "import pickle\n",
    "from joblib import dump,load\n",
    "from sklearn.metrics import classification_report,f1_score,recall_score,precision_score\n",
    "import shap\n",
    "from matplotlib import pyplot\n",
    "from sklearn.ensemble import GradientBoostingClassifier"
   ]
  },
  {
   "cell_type": "code",
   "execution_count": 2,
   "id": "5a5499ce",
   "metadata": {},
   "outputs": [],
   "source": [
    "seen='./'"
   ]
  },
  {
   "cell_type": "code",
   "execution_count": 37,
   "id": "06adea8a",
   "metadata": {},
   "outputs": [],
   "source": [
    "##seen partition"
   ]
  },
  {
   "cell_type": "code",
   "execution_count": 17,
   "id": "e655a873",
   "metadata": {},
   "outputs": [
    {
     "name": "stdout",
     "output_type": "stream",
     "text": [
      "6\n",
      "7\n",
      "the f1 score is 0.30769230769230765\n"
     ]
    },
    {
     "name": "stderr",
     "output_type": "stream",
     "text": [
      "The frame.append method is deprecated and will be removed from pandas in a future version. Use pandas.concat instead.\n",
      "The series.append method is deprecated and will be removed from pandas in a future version. Use pandas.concat instead.\n"
     ]
    }
   ],
   "source": [
    "X=pd.read_csv(seen+str(0)+'_train_encode.csv')\n",
    "X=X.loc[:,~X.columns.str.match(\"Unnamed\")]\n",
    "val=pd.read_csv(seen+str(0)+'_val_encode.csv').reindex(columns=X.columns)\n",
    "val=val.fillna(0)\n",
    "X=X.append(val)\n",
    "vlabel=pd.read_csv(seen+str(0)+'_val_label.csv')['label_x']\n",
    "y=pd.read_csv(seen+str(0)+'_train_label.csv')['label_x']\n",
    "y=y.append(vlabel)\n",
    "testlabel=pd.read_csv(seen+str(0)+'_test_label.csv')['label_x']\n",
    "test=pd.read_csv(seen+str(0)+'_test_encode.csv').reindex(columns=X.columns)\n",
    "test=test.fillna(0)\n",
    "# clf = GradientBoostingClassifier(n_estimators=100, learning_rate=0.8,max_depth=10, random_state=0).fit(X, y)\n",
    "clf=RandomForestClassifier(max_depth=10, class_weight={1:5},min_samples_leaf=10,bootstrap=False).fit(X,y)\n",
    "pre=clf.predict(test)\n",
    "print(sum(pre))\n",
    "print(sum(testlabel))\n",
    "print('the f1 score is',f1_score(testlabel,pre))"
   ]
  },
  {
   "cell_type": "code",
   "execution_count": 18,
   "id": "d9cea090",
   "metadata": {},
   "outputs": [
    {
     "name": "stderr",
     "output_type": "stream",
     "text": [
      "The frame.append method is deprecated and will be removed from pandas in a future version. Use pandas.concat instead.\n",
      "The series.append method is deprecated and will be removed from pandas in a future version. Use pandas.concat instead.\n"
     ]
    },
    {
     "name": "stdout",
     "output_type": "stream",
     "text": [
      "     size1  size2  date_x  integer_x  string_x  time_x  date_y  integer_y  \\\n",
      "0        3      4       0          0         1       0       1          0   \n",
      "1        3     15       0          0         1       0       0          0   \n",
      "2        3     12       0          0         1       0       0          0   \n",
      "3        3      8       0          0         1       0       0          0   \n",
      "4        7      3       0          0         1       0       0          0   \n",
      "..     ...    ...     ...        ...       ...     ...     ...        ...   \n",
      "111     45      3       0          1         0       0       0          0   \n",
      "112     45     15       0          1         0       0       0          0   \n",
      "113     45     15       0          1         0       0       0          0   \n",
      "114     20      4       0          0         1       0       1          0   \n",
      "115     20     12       0          0         1       0       0          0   \n",
      "\n",
      "     string_y  time_y  outputscore  \n",
      "0           0       0     0.176097  \n",
      "1           1       0     0.055311  \n",
      "2           1       0     0.035410  \n",
      "3           0       1     0.130618  \n",
      "4           1       0     0.021272  \n",
      "..        ...     ...          ...  \n",
      "111         1       0     0.006587  \n",
      "112         1       0     0.003162  \n",
      "113         1       0     0.006027  \n",
      "114         0       0     0.032720  \n",
      "115         1       0     0.100918  \n",
      "\n",
      "[870 rows x 11 columns]\n"
     ]
    },
    {
     "name": "stderr",
     "output_type": "stream",
     "text": [
      "The frame.append method is deprecated and will be removed from pandas in a future version. Use pandas.concat instead.\n",
      "The series.append method is deprecated and will be removed from pandas in a future version. Use pandas.concat instead.\n"
     ]
    },
    {
     "name": "stdout",
     "output_type": "stream",
     "text": [
      "     size1  size2  date_x  integer_x  string_x  time_x  date_y  integer_y  \\\n",
      "0        3      4       0          0         1       0       1          0   \n",
      "1        3     15       0          0         1       0       0          0   \n",
      "2        3     12       0          0         1       0       0          0   \n",
      "3        3      8       0          0         1       0       0          0   \n",
      "4        7      3       0          0         1       0       0          0   \n",
      "..     ...    ...     ...        ...       ...     ...     ...        ...   \n",
      "111     45      3       0          1         0       0       0          0   \n",
      "112     45     15       0          1         0       0       0          0   \n",
      "113     45     15       0          1         0       0       0          0   \n",
      "114     20      4       0          0         1       0       1          0   \n",
      "115     20     12       0          0         1       0       0          0   \n",
      "\n",
      "     string_y  time_y  outputscore  \n",
      "0           0       0     0.522368  \n",
      "1           1       0     0.196100  \n",
      "2           1       0     0.199836  \n",
      "3           0       1     0.451429  \n",
      "4           1       0     0.137628  \n",
      "..        ...     ...          ...  \n",
      "111         1       0     0.293580  \n",
      "112         1       0     0.192933  \n",
      "113         1       0     0.075712  \n",
      "114         0       0     0.182904  \n",
      "115         1       0     0.237554  \n",
      "\n",
      "[870 rows x 11 columns]\n"
     ]
    },
    {
     "name": "stderr",
     "output_type": "stream",
     "text": [
      "The frame.append method is deprecated and will be removed from pandas in a future version. Use pandas.concat instead.\n",
      "The series.append method is deprecated and will be removed from pandas in a future version. Use pandas.concat instead.\n"
     ]
    },
    {
     "name": "stdout",
     "output_type": "stream",
     "text": [
      "     size1  size2  date_x  integer_x  string_x  time_x  date_y  integer_y  \\\n",
      "0        3      4       0          0         1       0       1          0   \n",
      "1        3     15       0          0         1       0       0          0   \n",
      "2        3     12       0          0         1       0       0          0   \n",
      "3        3      8       0          0         1       0       0          0   \n",
      "4        7      3       0          0         1       0       0          0   \n",
      "..     ...    ...     ...        ...       ...     ...     ...        ...   \n",
      "111     45      3       0          1         0       0       0          0   \n",
      "112     45     15       0          1         0       0       0          0   \n",
      "113     45     15       0          1         0       0       0          0   \n",
      "114     20      4       0          0         1       0       1          0   \n",
      "115     20     12       0          0         1       0       0          0   \n",
      "\n",
      "     string_y  time_y  outputscore  \n",
      "0           0       0     0.193555  \n",
      "1           1       0     0.024200  \n",
      "2           1       0     0.035508  \n",
      "3           0       1     0.084610  \n",
      "4           1       0     0.011365  \n",
      "..        ...     ...          ...  \n",
      "111         1       0     0.021417  \n",
      "112         1       0     0.003240  \n",
      "113         1       0     0.013228  \n",
      "114         0       0     0.024154  \n",
      "115         1       0     0.057238  \n",
      "\n",
      "[870 rows x 11 columns]\n"
     ]
    },
    {
     "name": "stderr",
     "output_type": "stream",
     "text": [
      "The frame.append method is deprecated and will be removed from pandas in a future version. Use pandas.concat instead.\n",
      "The series.append method is deprecated and will be removed from pandas in a future version. Use pandas.concat instead.\n"
     ]
    },
    {
     "name": "stdout",
     "output_type": "stream",
     "text": [
      "     size1  size2  date_x  integer_x  string_x  time_x  date_y  integer_y  \\\n",
      "0        3      4       0          0         1       0       1          0   \n",
      "1        3     15       0          0         1       0       0          0   \n",
      "2        3     12       0          0         1       0       0          0   \n",
      "3        3      8       0          0         1       0       0          0   \n",
      "4        7      3       0          0         1       0       0          0   \n",
      "..     ...    ...     ...        ...       ...     ...     ...        ...   \n",
      "111     45      3       0          1         0       0       0          0   \n",
      "112     45     15       0          1         0       0       0          0   \n",
      "113     45     15       0          1         0       0       0          0   \n",
      "114     20      4       0          0         1       0       1          0   \n",
      "115     20     12       0          0         1       0       0          0   \n",
      "\n",
      "     string_y  time_y  outputscore  \n",
      "0           0       0     0.222766  \n",
      "1           1       0     0.016335  \n",
      "2           1       0     0.027415  \n",
      "3           0       1     0.238692  \n",
      "4           1       0     0.011559  \n",
      "..        ...     ...          ...  \n",
      "111         1       0     0.018036  \n",
      "112         1       0     0.005265  \n",
      "113         1       0     0.007092  \n",
      "114         0       0     0.019946  \n",
      "115         1       0     0.062626  \n",
      "\n",
      "[870 rows x 11 columns]\n"
     ]
    },
    {
     "name": "stderr",
     "output_type": "stream",
     "text": [
      "The frame.append method is deprecated and will be removed from pandas in a future version. Use pandas.concat instead.\n",
      "The series.append method is deprecated and will be removed from pandas in a future version. Use pandas.concat instead.\n"
     ]
    },
    {
     "name": "stdout",
     "output_type": "stream",
     "text": [
      "     size1  size2  date_x  integer_x  string_x  time_x  date_y  integer_y  \\\n",
      "0        3      4       0          0         1       0       1          0   \n",
      "1        3     15       0          0         1       0       0          0   \n",
      "2        3     12       0          0         1       0       0          0   \n",
      "3        3      8       0          0         1       0       0          0   \n",
      "4        7      3       0          0         1       0       0          0   \n",
      "..     ...    ...     ...        ...       ...     ...     ...        ...   \n",
      "111     45      3       0          1         0       0       0          0   \n",
      "112     45     15       0          1         0       0       0          0   \n",
      "113     45     15       0          1         0       0       0          0   \n",
      "114     20      4       0          0         1       0       1          0   \n",
      "115     20     12       0          0         1       0       0          0   \n",
      "\n",
      "     string_y  time_y  outputscore  \n",
      "0           0       0     0.451277  \n",
      "1           1       0     0.330663  \n",
      "2           1       0     0.459329  \n",
      "3           0       1     0.454135  \n",
      "4           1       0     0.416401  \n",
      "..        ...     ...          ...  \n",
      "111         1       0     0.403217  \n",
      "112         1       0     0.376285  \n",
      "113         1       0     0.374014  \n",
      "114         0       0     0.316097  \n",
      "115         1       0     0.448908  \n",
      "\n",
      "[870 rows x 11 columns]\n"
     ]
    }
   ],
   "source": [
    "\n",
    "for i in range(5):\n",
    "    X=pd.read_csv(seen+str(i)+'_train_encode.csv')\n",
    "    X=X.loc[:,~X.columns.str.match(\"Unnamed\")]\n",
    "    val=pd.read_csv(seen+str(i)+'_val_encode.csv').reindex(columns=X.columns)\n",
    "    val=val.fillna(0)\n",
    "    X=X.append(val)\n",
    "    print(X)\n",
    "    vlabel=pd.read_csv(seen+str(i)+'_val_label.csv')['label_x']\n",
    "    y=pd.read_csv(seen+str(i)+'_train_label.csv')['label_x']\n",
    "    y=y.append(vlabel)\n",
    "    testlabel=pd.read_csv(seen+str(i)+'_test_label.csv')['label_x']\n",
    "    test=pd.read_csv(seen+str(i)+'_test_encode.csv').reindex(columns=X.columns)\n",
    "    clf = RandomForestClassifier(criterion='log_loss',bootstrap=False)\n",
    "    n_estimators=[50,70,100,120,200]\n",
    "    ones=[2,5,10,20,30]\n",
    "    minSampleLeaf=[20,30,50,80,100]\n",
    "    max_depth=[10,15,20,5]\n",
    "    parameter={'max_depth':max_depth,'n_estimators':n_estimators,'min_samples_leaf':minSampleLeaf,'class_weight':[{1:classOne} for classOne in ones ]}\n",
    "    clfG=GridSearchCV(clf,parameter,scoring=\"f1\",cv=5)\n",
    "    clfG.fit(X,y)\n",
    "    with open(seen+'model/'+str(i)+'model_pkl', 'wb') as files:\n",
    "        pickle.dump(clfG, files)"
   ]
  },
  {
   "cell_type": "code",
   "execution_count": 19,
   "id": "7293e274",
   "metadata": {},
   "outputs": [
    {
     "name": "stdout",
     "output_type": "stream",
     "text": [
      "18\n",
      "7\n",
      "the f1 score is 0.24\n",
      "the precision score is 0.16666666666666666\n",
      "the recall score is  0.42857142857142855\n",
      "{'class_weight': {1: 10}, 'max_depth': 20, 'min_samples_leaf': 20, 'n_estimators': 100}\n",
      "0.2711704958331645\n",
      "15\n",
      "7\n",
      "the f1 score is 0.27272727272727276\n",
      "the precision score is 0.2\n",
      "the recall score is  0.42857142857142855\n",
      "{'class_weight': {1: 10}, 'max_depth': 10, 'min_samples_leaf': 20, 'n_estimators': 50}\n",
      "0.2782572266443234\n",
      "14\n",
      "7\n",
      "the f1 score is 0.19047619047619047\n",
      "the precision score is 0.14285714285714285\n",
      "the recall score is  0.2857142857142857\n",
      "{'class_weight': {1: 10}, 'max_depth': 20, 'min_samples_leaf': 20, 'n_estimators': 70}\n",
      "0.25010865745458305\n",
      "17\n",
      "7\n",
      "the f1 score is 0.3333333333333333\n",
      "the precision score is 0.23529411764705882\n",
      "the recall score is  0.5714285714285714\n",
      "{'class_weight': {1: 10}, 'max_depth': 10, 'min_samples_leaf': 20, 'n_estimators': 200}\n",
      "0.3001501083074761\n",
      "11\n",
      "7\n",
      "the f1 score is 0.2222222222222222\n",
      "the precision score is 0.18181818181818182\n",
      "the recall score is  0.2857142857142857\n",
      "{'class_weight': {1: 10}, 'max_depth': 10, 'min_samples_leaf': 30, 'n_estimators': 120}\n",
      "0.30091539007947676\n",
      "the average f1 of Thalia is 0.2517518037518037\n",
      "the average recall score 0.4\n",
      "the average precision score 0.18532722179781005\n"
     ]
    }
   ],
   "source": [
    "allf1=0\n",
    "allrecall=0\n",
    "allprecision=0\n",
    "for i in range(5):    \n",
    "    with open(seen+'model/'+str(i)+'model_pkl' , 'rb') as f:\n",
    "        X=pd.read_csv(seen+str(i)+'_train_encode.csv')\n",
    "        X=X.loc[:,~X.columns.str.match(\"Unnamed\")]\n",
    "        testlabel=pd.read_csv(seen+str(i)+'_test_label.csv')['label_x']\n",
    "        test=pd.read_csv(seen+str(i)+'_test_encode.csv').reindex(columns=X.columns)\n",
    "        test=test.fillna(0)\n",
    "        clfG = pickle.load(f)\n",
    "        pre=clfG.predict(test)\n",
    "        print(sum(pre))\n",
    "        print(sum(testlabel))\n",
    "        print('the f1 score is',f1_score(testlabel,pre))\n",
    "        print('the precision score is',precision_score(testlabel,pre))\n",
    "        print('the recall score is ',recall_score(testlabel,pre))\n",
    "        allf1+=f1_score(testlabel,pre)\n",
    "        allrecall+=recall_score(testlabel,pre)\n",
    "        allprecision+=precision_score(testlabel,pre)\n",
    "        print(clfG.best_params_)\n",
    "        print(clfG.best_score_)\n",
    "print('the average f1 of Thalia is',allf1/5)\n",
    "print('the average recall score',allrecall/5)\n",
    "print('the average precision score',allprecision/5)"
   ]
  },
  {
   "cell_type": "code",
   "execution_count": null,
   "id": "bd5eb089",
   "metadata": {},
   "outputs": [],
   "source": []
  },
  {
   "cell_type": "code",
   "execution_count": null,
   "id": "f2b939ec",
   "metadata": {},
   "outputs": [],
   "source": []
  },
  {
   "cell_type": "code",
   "execution_count": 41,
   "id": "9bc424c3",
   "metadata": {},
   "outputs": [
    {
     "name": "stderr",
     "output_type": "stream",
     "text": [
      "The frame.append method is deprecated and will be removed from pandas in a future version. Use pandas.concat instead.\n",
      "The series.append method is deprecated and will be removed from pandas in a future version. Use pandas.concat instead.\n"
     ]
    },
    {
     "name": "stdout",
     "output_type": "stream",
     "text": [
      "    outputscore\n",
      "0      0.032182\n",
      "1      0.018810\n",
      "2      0.017103\n",
      "3      0.032285\n",
      "4      0.000013\n",
      "..          ...\n",
      "93     0.000054\n",
      "94     0.000053\n",
      "95     0.000063\n",
      "96     0.000079\n",
      "97     0.000629\n",
      "\n",
      "[1225 rows x 1 columns]\n"
     ]
    }
   ],
   "source": [
    "\n",
    "for i in range(1):\n",
    "    X=pd.read_csv(unseen+str(i)+'train_encode.csv').reindex(columns=['outputscore'])\n",
    "    X=X.loc[:,~X.columns.str.match(\"Unnamed\")]\n",
    "    val=pd.read_csv(unseen+str(i)+'val_encode.csv').reindex(columns=X.columns)\n",
    "    val=val.fillna(0)\n",
    "    X=X.append(val)\n",
    "    print(X)\n",
    "    vlabel=pd.read_csv(unseen+str(i)+'val_label.csv')['label']\n",
    "    y=pd.read_csv(unseen+str(i)+'train_label.csv')['label']\n",
    "    y=y.append(vlabel)\n",
    "    testlabel=pd.read_csv(unseen+str(i)+'test_label.csv')['label']\n",
    "    test=pd.read_csv(unseen+str(i)+'test_encode.csv').reindex(columns=X.columns)\n",
    "    clf = RandomForestClassifier()\n",
    "    n_estimators=[5,10,20,30,50,70,100,150,200]\n",
    "    ones=[1,5,10,20,30,35,40,50,100,200,300,400,500]\n",
    "    minSampleLeaf=[10,30,50,80,100,200,250]\n",
    "    iterations=[5000]\n",
    "    parameter={'min_samples_leaf':minSampleLeaf,'n_estimators':n_estimators,'class_weight':[{1:classOne} for classOne in ones ]}\n",
    "    clfG=GridSearchCV(clf,parameter,scoring=\"f1\",cv=5)\n",
    "    clfG.fit(X,y)\n",
    "    with open(unseen+'real_estate_model/'+str(i)+'output_model_pkl', 'wb') as files:\n",
    "        pickle.dump(clfG, files)"
   ]
  },
  {
   "cell_type": "code",
   "execution_count": 42,
   "id": "9d496595",
   "metadata": {
    "scrolled": true
   },
   "outputs": [
    {
     "name": "stdout",
     "output_type": "stream",
     "text": [
      "20\n",
      "6\n",
      "the f1 score is 0.15384615384615383\n",
      "the precision score is 0.1\n",
      "the recall score is  0.3333333333333333\n",
      "{'class_weight': {1: 20}, 'min_samples_leaf': 50, 'n_estimators': 30}\n",
      "0.11876328758676129\n"
     ]
    }
   ],
   "source": [
    "allf1=0\n",
    "allrecall=0\n",
    "allprecision=0\n",
    "for i in range(1):    \n",
    "    with open(unseen+'real_estate_model/'+str(i)+'output_model_pkl' , 'rb') as f:\n",
    "        X=pd.read_csv(unseen+str(i)+'train_encode.csv').reindex(columns=['outputscore'])\n",
    "        X=X.loc[:,~X.columns.str.match(\"Unnamed\")]\n",
    "        testlabel=pd.read_csv(unseen+str(i)+'test_label.csv')['label']\n",
    "        test=pd.read_csv(unseen+str(i)+'test_encode.csv').reindex(columns=X.columns)\n",
    "        test=test.fillna(0)\n",
    "        clfG = pickle.load(f)\n",
    "        pre=clfG.predict(test)\n",
    "        print(sum(pre))\n",
    "        print(sum(testlabel))\n",
    "        print('the f1 score is',f1_score(testlabel,pre))\n",
    "        print('the precision score is',precision_score(testlabel,pre))\n",
    "        print('the recall score is ',recall_score(testlabel,pre))\n",
    "        allf1+=f1_score(testlabel,pre)\n",
    "        allrecall+=recall_score(testlabel,pre)\n",
    "        allprecision+=precision_score(testlabel,pre)\n",
    "        print(clfG.best_params_)\n",
    "        print(clfG.best_score_)\n",
    "# print('the average f1 of IMDB is',allf1/5)\n",
    "# print('the average recall score',allrecall/5)\n",
    "# print('the average precision score',allprecision/5)"
   ]
  },
  {
   "cell_type": "code",
   "execution_count": null,
   "id": "178bc360",
   "metadata": {},
   "outputs": [],
   "source": []
  },
  {
   "cell_type": "code",
   "execution_count": null,
   "id": "72f79326",
   "metadata": {},
   "outputs": [],
   "source": []
  },
  {
   "cell_type": "code",
   "execution_count": 6,
   "id": "0b18e99e",
   "metadata": {},
   "outputs": [
    {
     "name": "stderr",
     "output_type": "stream",
     "text": [
      "The frame.append method is deprecated and will be removed from pandas in a future version. Use pandas.concat instead.\n",
      "The series.append method is deprecated and will be removed from pandas in a future version. Use pandas.concat instead.\n"
     ]
    },
    {
     "name": "stdout",
     "output_type": "stream",
     "text": [
      "    size_x  size_y  boolean_x  float_x  integer_x  string_x  boolean_y  \\\n",
      "0     60.0      15          0      0.0        0.0         1          0   \n",
      "1     60.0      15          0      0.0        0.0         1          0   \n",
      "2      2.0      15          1      0.0        0.0         0          0   \n",
      "3      2.0      15          1      0.0        0.0         0          0   \n",
      "4      2.0      15          1      0.0        0.0         0          0   \n",
      "..     ...     ...        ...      ...        ...       ...        ...   \n",
      "93     2.0      60          1      0.0        0.0         0          0   \n",
      "94    15.0      30          0      0.0        0.0         1          0   \n",
      "95     2.0      30          1      0.0        0.0         0          0   \n",
      "96    15.0       7          0      0.0        0.0         1          0   \n",
      "97     2.0       7          1      0.0        0.0         0          0   \n",
      "\n",
      "    float_y  integer_y  string_y  \n",
      "0         0          0         1  \n",
      "1         0          0         1  \n",
      "2         0          0         1  \n",
      "3         0          0         1  \n",
      "4         0          0         1  \n",
      "..      ...        ...       ...  \n",
      "93        0          0         1  \n",
      "94        0          0         1  \n",
      "95        0          0         1  \n",
      "96        0          0         1  \n",
      "97        0          0         1  \n",
      "\n",
      "[1225 rows x 10 columns]\n"
     ]
    },
    {
     "name": "stderr",
     "output_type": "stream",
     "text": [
      "The frame.append method is deprecated and will be removed from pandas in a future version. Use pandas.concat instead.\n",
      "The series.append method is deprecated and will be removed from pandas in a future version. Use pandas.concat instead.\n"
     ]
    },
    {
     "name": "stdout",
     "output_type": "stream",
     "text": [
      "    size_x  size_y  boolean_x  float_x  integer_x  string_x  boolean_y  \\\n",
      "0     60.0      15          0      0.0        0.0         1          0   \n",
      "1     60.0      15          0      0.0        0.0         1          0   \n",
      "2      2.0      15          1      0.0        0.0         0          0   \n",
      "3      2.0      15          1      0.0        0.0         0          0   \n",
      "4      2.0      15          1      0.0        0.0         0          0   \n",
      "..     ...     ...        ...      ...        ...       ...        ...   \n",
      "93     2.0      60          1      0.0        0.0         0          0   \n",
      "94    15.0      30          0      0.0        0.0         1          0   \n",
      "95     2.0      30          1      0.0        0.0         0          0   \n",
      "96    15.0       7          0      0.0        0.0         1          0   \n",
      "97     2.0       7          1      0.0        0.0         0          0   \n",
      "\n",
      "    float_y  integer_y  string_y  \n",
      "0         0          0         1  \n",
      "1         0          0         1  \n",
      "2         0          0         1  \n",
      "3         0          0         1  \n",
      "4         0          0         1  \n",
      "..      ...        ...       ...  \n",
      "93        0          0         1  \n",
      "94        0          0         1  \n",
      "95        0          0         1  \n",
      "96        0          0         1  \n",
      "97        0          0         1  \n",
      "\n",
      "[1225 rows x 10 columns]\n"
     ]
    },
    {
     "name": "stderr",
     "output_type": "stream",
     "text": [
      "The frame.append method is deprecated and will be removed from pandas in a future version. Use pandas.concat instead.\n",
      "The series.append method is deprecated and will be removed from pandas in a future version. Use pandas.concat instead.\n"
     ]
    },
    {
     "name": "stdout",
     "output_type": "stream",
     "text": [
      "    size_x  size_y  boolean_x  float_x  integer_x  string_x  boolean_y  \\\n",
      "0     60.0      15          0      0.0        0.0         1          0   \n",
      "1     60.0      15          0      0.0        0.0         1          0   \n",
      "2      2.0      15          1      0.0        0.0         0          0   \n",
      "3      2.0      15          1      0.0        0.0         0          0   \n",
      "4      2.0      15          1      0.0        0.0         0          0   \n",
      "..     ...     ...        ...      ...        ...       ...        ...   \n",
      "93     2.0      60          1      0.0        0.0         0          0   \n",
      "94    15.0      30          0      0.0        0.0         1          0   \n",
      "95     2.0      30          1      0.0        0.0         0          0   \n",
      "96    15.0       7          0      0.0        0.0         1          0   \n",
      "97     2.0       7          1      0.0        0.0         0          0   \n",
      "\n",
      "    float_y  integer_y  string_y  \n",
      "0         0          0         1  \n",
      "1         0          0         1  \n",
      "2         0          0         1  \n",
      "3         0          0         1  \n",
      "4         0          0         1  \n",
      "..      ...        ...       ...  \n",
      "93        0          0         1  \n",
      "94        0          0         1  \n",
      "95        0          0         1  \n",
      "96        0          0         1  \n",
      "97        0          0         1  \n",
      "\n",
      "[1225 rows x 10 columns]\n"
     ]
    },
    {
     "name": "stderr",
     "output_type": "stream",
     "text": [
      "The frame.append method is deprecated and will be removed from pandas in a future version. Use pandas.concat instead.\n",
      "The series.append method is deprecated and will be removed from pandas in a future version. Use pandas.concat instead.\n"
     ]
    },
    {
     "name": "stdout",
     "output_type": "stream",
     "text": [
      "    size_x  size_y  boolean_x  float_x  integer_x  string_x  boolean_y  \\\n",
      "0     60.0      15          0      0.0        0.0         1          0   \n",
      "1     60.0      15          0      0.0        0.0         1          0   \n",
      "2      2.0      15          1      0.0        0.0         0          0   \n",
      "3      2.0      15          1      0.0        0.0         0          0   \n",
      "4      2.0      15          1      0.0        0.0         0          0   \n",
      "..     ...     ...        ...      ...        ...       ...        ...   \n",
      "93     2.0      60          1      0.0        0.0         0          0   \n",
      "94    15.0      30          0      0.0        0.0         1          0   \n",
      "95     2.0      30          1      0.0        0.0         0          0   \n",
      "96    15.0       7          0      0.0        0.0         1          0   \n",
      "97     2.0       7          1      0.0        0.0         0          0   \n",
      "\n",
      "    float_y  integer_y  string_y  \n",
      "0         0          0         1  \n",
      "1         0          0         1  \n",
      "2         0          0         1  \n",
      "3         0          0         1  \n",
      "4         0          0         1  \n",
      "..      ...        ...       ...  \n",
      "93        0          0         1  \n",
      "94        0          0         1  \n",
      "95        0          0         1  \n",
      "96        0          0         1  \n",
      "97        0          0         1  \n",
      "\n",
      "[1225 rows x 10 columns]\n"
     ]
    },
    {
     "name": "stderr",
     "output_type": "stream",
     "text": [
      "The frame.append method is deprecated and will be removed from pandas in a future version. Use pandas.concat instead.\n",
      "The series.append method is deprecated and will be removed from pandas in a future version. Use pandas.concat instead.\n"
     ]
    },
    {
     "name": "stdout",
     "output_type": "stream",
     "text": [
      "    size_x  size_y  boolean_x  float_x  integer_x  string_x  boolean_y  \\\n",
      "0     60.0      15          0      0.0        0.0         1          0   \n",
      "1     60.0      15          0      0.0        0.0         1          0   \n",
      "2      2.0      15          1      0.0        0.0         0          0   \n",
      "3      2.0      15          1      0.0        0.0         0          0   \n",
      "4      2.0      15          1      0.0        0.0         0          0   \n",
      "..     ...     ...        ...      ...        ...       ...        ...   \n",
      "93     2.0      60          1      0.0        0.0         0          0   \n",
      "94    15.0      30          0      0.0        0.0         1          0   \n",
      "95     2.0      30          1      0.0        0.0         0          0   \n",
      "96    15.0       7          0      0.0        0.0         1          0   \n",
      "97     2.0       7          1      0.0        0.0         0          0   \n",
      "\n",
      "    float_y  integer_y  string_y  \n",
      "0         0          0         1  \n",
      "1         0          0         1  \n",
      "2         0          0         1  \n",
      "3         0          0         1  \n",
      "4         0          0         1  \n",
      "..      ...        ...       ...  \n",
      "93        0          0         1  \n",
      "94        0          0         1  \n",
      "95        0          0         1  \n",
      "96        0          0         1  \n",
      "97        0          0         1  \n",
      "\n",
      "[1225 rows x 10 columns]\n"
     ]
    }
   ],
   "source": [
    "\n",
    "for i in range(5):\n",
    "    X=pd.read_csv(unseen+str(i)+'train_encode.csv').drop(columns=['outputscore'])\n",
    "    X=X.loc[:,~X.columns.str.match(\"Unnamed\")]\n",
    "    val=pd.read_csv(unseen+str(i)+'val_encode.csv').reindex(columns=X.columns)\n",
    "    val=val.fillna(0)\n",
    "    X=X.append(val)\n",
    "    print(X)\n",
    "    vlabel=pd.read_csv(unseen+str(i)+'val_label.csv')['label']\n",
    "    y=pd.read_csv(unseen+str(i)+'train_label.csv')['label']\n",
    "    y=y.append(vlabel)\n",
    "    testlabel=pd.read_csv(unseen+str(i)+'test_label.csv')['label']\n",
    "    test=pd.read_csv(unseen+str(i)+'test_encode.csv').reindex(columns=X.columns)\n",
    "    clf = RandomForestClassifier()\n",
    "    n_estimators=[20,30,50,70,100]\n",
    "    ones=[10,20,30,35,40,50,100,200]\n",
    "    minSampleLeaf=[20,30,50,80,100,200,250]\n",
    "    iterations=[5000]\n",
    "    parameter={'min_samples_leaf':minSampleLeaf,'n_estimators':n_estimators,'class_weight':[{1:classOne} for classOne in ones ]}\n",
    "    clfG=GridSearchCV(clf,parameter,scoring=\"f1\",cv=5)\n",
    "    clfG.fit(X,y)\n",
    "    with open(unseen+'real_estate_model/'+str(i)+'constraint_model_pkl', 'wb') as files:\n",
    "        pickle.dump(clfG, files)"
   ]
  },
  {
   "cell_type": "code",
   "execution_count": 7,
   "id": "f7ca402a",
   "metadata": {
    "scrolled": true
   },
   "outputs": [
    {
     "name": "stdout",
     "output_type": "stream",
     "text": [
      "0\n",
      "6\n",
      "the f1 score is 0.0\n",
      "the precision score is 0.0\n",
      "the recall score is  0.0\n",
      "{'class_weight': {1: 10}, 'min_samples_leaf': 20, 'n_estimators': 100}\n",
      "0.3474458874458875\n",
      "0\n",
      "6\n",
      "the f1 score is 0.0\n",
      "the precision score is 0.0\n",
      "the recall score is  0.0\n",
      "{'class_weight': {1: 10}, 'min_samples_leaf': 30, 'n_estimators': 20}\n",
      "0.3435897435897436\n",
      "0\n",
      "6\n",
      "the f1 score is 0.0\n",
      "the precision score is 0.0\n",
      "the recall score is  0.0\n",
      "{'class_weight': {1: 10}, 'min_samples_leaf': 20, 'n_estimators': 100}\n",
      "0.311014911014911\n",
      "0\n",
      "6\n",
      "the f1 score is 0.0\n",
      "the precision score is 0.0\n",
      "the recall score is  0.0\n",
      "{'class_weight': {1: 10}, 'min_samples_leaf': 50, 'n_estimators': 30}\n",
      "0.37986928104575163\n",
      "0\n",
      "6\n",
      "the f1 score is 0.0\n",
      "the precision score is 0.0\n",
      "the recall score is  0.0\n",
      "{'class_weight': {1: 10}, 'min_samples_leaf': 30, 'n_estimators': 20}\n",
      "0.3503982202447164\n",
      "the average f1 of IMDB is 0.0\n",
      "the average recall score 0.0\n",
      "the average precision score 0.0\n"
     ]
    },
    {
     "name": "stderr",
     "output_type": "stream",
     "text": [
      "Precision is ill-defined and being set to 0.0 due to no predicted samples. Use `zero_division` parameter to control this behavior.\n",
      "Precision is ill-defined and being set to 0.0 due to no predicted samples. Use `zero_division` parameter to control this behavior.\n",
      "Precision is ill-defined and being set to 0.0 due to no predicted samples. Use `zero_division` parameter to control this behavior.\n",
      "Precision is ill-defined and being set to 0.0 due to no predicted samples. Use `zero_division` parameter to control this behavior.\n",
      "Precision is ill-defined and being set to 0.0 due to no predicted samples. Use `zero_division` parameter to control this behavior.\n",
      "Precision is ill-defined and being set to 0.0 due to no predicted samples. Use `zero_division` parameter to control this behavior.\n",
      "Precision is ill-defined and being set to 0.0 due to no predicted samples. Use `zero_division` parameter to control this behavior.\n",
      "Precision is ill-defined and being set to 0.0 due to no predicted samples. Use `zero_division` parameter to control this behavior.\n",
      "Precision is ill-defined and being set to 0.0 due to no predicted samples. Use `zero_division` parameter to control this behavior.\n",
      "Precision is ill-defined and being set to 0.0 due to no predicted samples. Use `zero_division` parameter to control this behavior.\n"
     ]
    }
   ],
   "source": [
    "allf1=0\n",
    "allrecall=0\n",
    "allprecision=0\n",
    "for i in range(5):    \n",
    "    with open(unseen+'real_estate_model/'+str(i)+'constraint_model_pkl' , 'rb') as f:\n",
    "        X=pd.read_csv(unseen+str(i)+'train_encode.csv').drop(columns=['outputscore'])\n",
    "        X=X.loc[:,~X.columns.str.match(\"Unnamed\")]\n",
    "        testlabel=pd.read_csv(unseen+str(i)+'test_label.csv')['label']\n",
    "        test=pd.read_csv(unseen+str(i)+'test_encode.csv').reindex(columns=X.columns)\n",
    "        test=test.fillna(0)\n",
    "        clfG = pickle.load(f)\n",
    "        pre=clfG.predict(test)\n",
    "        print(sum(pre))\n",
    "        print(sum(testlabel))\n",
    "        print('the f1 score is',f1_score(testlabel,pre))\n",
    "        print('the precision score is',precision_score(testlabel,pre))\n",
    "        print('the recall score is ',recall_score(testlabel,pre))\n",
    "        allf1+=f1_score(testlabel,pre)\n",
    "        allrecall+=recall_score(testlabel,pre)\n",
    "        allprecision+=precision_score(testlabel,pre)\n",
    "        print(clfG.best_params_)\n",
    "        print(clfG.best_score_)\n",
    "print('the average f1 of IMDB is',allf1/5)\n",
    "print('the average recall score',allrecall/5)\n",
    "print('the average precision score',allprecision/5)"
   ]
  },
  {
   "cell_type": "code",
   "execution_count": null,
   "id": "08fc5829",
   "metadata": {},
   "outputs": [],
   "source": []
  },
  {
   "cell_type": "code",
   "execution_count": null,
   "id": "f0cc444b",
   "metadata": {},
   "outputs": [],
   "source": []
  }
 ],
 "metadata": {
  "kernelspec": {
   "display_name": "Python 3 (ipykernel)",
   "language": "python",
   "name": "python3"
  },
  "language_info": {
   "codemirror_mode": {
    "name": "ipython",
    "version": 3
   },
   "file_extension": ".py",
   "mimetype": "text/x-python",
   "name": "python",
   "nbconvert_exporter": "python",
   "pygments_lexer": "ipython3",
   "version": "3.10.1"
  }
 },
 "nbformat": 4,
 "nbformat_minor": 5
}
